{
 "cells": [
  {
   "cell_type": "markdown",
   "id": "a1159d91",
   "metadata": {},
   "source": [
    "# Exploratory Data Analysis (EDA)"
   ]
  },
  {
   "cell_type": "markdown",
   "id": "aea1b80a",
   "metadata": {},
   "source": [
    "Exploratory Data Analysis is one of the crucial analytics process carried out to have a good understanding of the data and learn the different data characteristics,typically via the use of visual methods. Carrying out EDA allows you to be familiar with your data, understand patterns that exist in the data, and ultimately be able to produce a high-quality statistical analysis or build a high-performing model."
   ]
  },
  {
   "cell_type": "markdown",
   "id": "766645ef",
   "metadata": {},
   "source": [
    "You must clean your data and make sure it is in an appropriate state before you begin data analysis or subject it to a machine learning algorithm. Additionally, it is crucial to be aware of any persistent trends and strong correlations that may be present in your data. The process of doing this is termed EDA. Python allows us to carry out seamless EDA because of its rich, easy-to-use and powerful libraries like Pandas, Seaborn, Numpy and Matplotlib."
   ]
  },
  {
   "cell_type": "markdown",
   "id": "8bfd954a",
   "metadata": {},
   "source": [
    "### Importance of EDA\n",
    "1. Helps you get your data in shape for analysis\n",
    "2. Helps you to discover the trend in your data\n",
    "3. Helps you to know the variables to concentrate on in your analysis\n",
    "4. Detect the presence of outliers and missing values in the data\n",
    "5. Allows you to carry out assumptions check and formulate hypothesis\n",
    "6. Allows you to build high-perfromance ML models\n",
    "7. Ultimately adds value to the quality of your analysis and by extension, the growth of the business."
   ]
  },
  {
   "cell_type": "markdown",
   "id": "5daaaa47",
   "metadata": {},
   "source": [
    "### Skipping EDA is a bad idea!"
   ]
  },
  {
   "cell_type": "markdown",
   "id": "2681966e",
   "metadata": {},
   "source": [
    "You can be tempted to tend to either completely skip the exploratory step or undertake a very shallow work in your haste to reach the machine learning level or simply wow business stakeholders very quickly. It is a very dangerous error that unfortunately many novice data scientists make.\n",
    "\n",
    "Skipping this important step can lead to skewed data, with outliers and too many missing values and, therefore, some sad outcomes for the project:\n",
    "\n",
    "1. Generating inaccurate models;\n",
    "2. Generating accurate models on the wrong data;\n",
    "3. Choosing the wrong variables for the model;\n",
    "4. Inefficient use of the resources, including the rebuilding of the model"
   ]
  },
  {
   "cell_type": "markdown",
   "id": "0b710b28",
   "metadata": {},
   "source": [
    "## Carrying out EDA\n",
    "Here, we'll follow a step-by-step appraoch of knowing the data. The activities packed in this section are outline below\n",
    "\n",
    "1. __Getting to know the data__\n",
    "2. __Importing data into Pandas Dataframe__\n",
    "3. __Collecting basic information about the data__\n",
    "    *  _Get the overall summary of the DataFrame_\n",
    "    *  _Display the first/last/random N rows_\n",
    "    *  _Get a summary descriptive statistics_\n",
    "    *  _Check for missing values_\n",
    "4. __Cleaning and completing the data__\n",
    "    *  _Replacing missing values (if there's any)_\n",
    "    *  _Excluding records from our data where we don't have any information about the data_\n",
    "5. __Query the data to answer Analytical questions__\n",
    "6. __Using Visuals to answer analytics question__\n",
    "    *  _Univariate Analysis_\n",
    "    * _Bivariate Analysis_\n",
    "    * _Multivariate Analysis_"
   ]
  },
  {
   "cell_type": "markdown",
   "id": "e5df03a7",
   "metadata": {},
   "source": [
    "## EDA in action"
   ]
  },
  {
   "cell_type": "markdown",
   "id": "20016ee8",
   "metadata": {},
   "source": [
    "### Meet the Data"
   ]
  },
  {
   "cell_type": "markdown",
   "id": "4551cdaa",
   "metadata": {},
   "source": [
    "We will be using a historical data on Avocado prices and sales volume in multiple US markets.\n",
    "\n",
    "The data represents weekly 2018 retail scan data for National retail volume (units) and price. Retail scan data comes directly from retailers’ cash registers based on actual retail sales of Hass avocados. Starting in 2013, the data reflects an expanded, multi-outlet retail data set. Multi-outlet reporting includes an aggregation of the following channels: grocery, mass, club, drug, dollar and military. The Average Price (of avocados) in the data reflects a per unit (per avocado) cost, even when multiple units (avocados) are sold in bags. The Product Lookup codes (PLU’s) in the data are only for Hass avocados. Other varieties of avocados (e.g. greenskins) are not included in this table."
   ]
  },
  {
   "cell_type": "markdown",
   "id": "06fca584",
   "metadata": {},
   "source": [
    "Some relevant columns in the dataset:\n",
    "\n",
    "1. _Date - The date of the observation_\n",
    "2. _AveragePrice - the average price of a single avocado_\n",
    "3. _Small Bags: Total number of Small bags_\n",
    "4. _Large Bags: Total number of Large bags_\n",
    "5. _XLarge Bags: Total number of XLarge bags_\n",
    "6. _type - conventional or organic_\n",
    "7. _year - the year_\n",
    "8. _Region - the city or region of the observation_\n",
    "9. _Total Volume - Total number of avocados sold_\n",
    "10. _4046 - Total number of small avocados with PLU 4046 sold_\n",
    "11. _4225 - Total number of medium avocados with PLU 4225 sold_\n",
    "12. _4770 - Total number of large avocados with PLU 4770 sold_"
   ]
  },
  {
   "cell_type": "markdown",
   "id": "13c6c33f",
   "metadata": {},
   "source": [
    "### Import the data"
   ]
  },
  {
   "cell_type": "code",
   "execution_count": 29,
   "id": "587d9b47",
   "metadata": {},
   "outputs": [],
   "source": [
    "# import the neccesary libraries first\n",
    "import pandas as pd\n",
    "import numpy as np\n",
    "import matplotlib.pyplot as plt\n",
    "import seaborn as sns\n",
    "from datetime import datetime\n",
    "\n",
    "avocado_df = pd.read_csv(\"avocado.csv\")"
   ]
  },
  {
   "cell_type": "markdown",
   "id": "18c93b3c",
   "metadata": {},
   "source": [
    "### Collecting basic information about the data"
   ]
  },
  {
   "cell_type": "code",
   "execution_count": 2,
   "id": "964c4704",
   "metadata": {},
   "outputs": [
    {
     "name": "stdout",
     "output_type": "stream",
     "text": [
      "<class 'pandas.core.frame.DataFrame'>\n",
      "RangeIndex: 18249 entries, 0 to 18248\n",
      "Data columns (total 14 columns):\n",
      " #   Column        Non-Null Count  Dtype  \n",
      "---  ------        --------------  -----  \n",
      " 0   Unnamed: 0    18249 non-null  int64  \n",
      " 1   Date          18249 non-null  object \n",
      " 2   AveragePrice  18249 non-null  float64\n",
      " 3   Total Volume  18249 non-null  float64\n",
      " 4   4046          18249 non-null  float64\n",
      " 5   4225          18249 non-null  float64\n",
      " 6   4770          18249 non-null  float64\n",
      " 7   Total Bags    18249 non-null  float64\n",
      " 8   Small Bags    18249 non-null  float64\n",
      " 9   Large Bags    18249 non-null  float64\n",
      " 10  XLarge Bags   18249 non-null  float64\n",
      " 11  type          18249 non-null  object \n",
      " 12  year          18249 non-null  int64  \n",
      " 13  region        18249 non-null  object \n",
      "dtypes: float64(9), int64(2), object(3)\n",
      "memory usage: 1.9+ MB\n"
     ]
    }
   ],
   "source": [
    "# Get the overall summary in the data\n",
    "avocado_df.info()"
   ]
  },
  {
   "cell_type": "markdown",
   "id": "5150c9d5",
   "metadata": {},
   "source": [
    "We can see that we have different data types including float, int, and string (object) in the data. There are 18249 rows and 14 columns in the data and it occupies 1.9+ MB of space on our machine."
   ]
  },
  {
   "cell_type": "code",
   "execution_count": 31,
   "id": "f51fc29c",
   "metadata": {},
   "outputs": [
    {
     "data": {
      "text/html": [
       "<div>\n",
       "<style scoped>\n",
       "    .dataframe tbody tr th:only-of-type {\n",
       "        vertical-align: middle;\n",
       "    }\n",
       "\n",
       "    .dataframe tbody tr th {\n",
       "        vertical-align: top;\n",
       "    }\n",
       "\n",
       "    .dataframe thead th {\n",
       "        text-align: right;\n",
       "    }\n",
       "</style>\n",
       "<table border=\"1\" class=\"dataframe\">\n",
       "  <thead>\n",
       "    <tr style=\"text-align: right;\">\n",
       "      <th></th>\n",
       "      <th>Unnamed: 0</th>\n",
       "      <th>Date</th>\n",
       "      <th>AveragePrice</th>\n",
       "      <th>Total Volume</th>\n",
       "      <th>4046</th>\n",
       "      <th>4225</th>\n",
       "      <th>4770</th>\n",
       "      <th>Total Bags</th>\n",
       "      <th>Small Bags</th>\n",
       "      <th>Large Bags</th>\n",
       "      <th>XLarge Bags</th>\n",
       "      <th>type</th>\n",
       "      <th>year</th>\n",
       "      <th>region</th>\n",
       "    </tr>\n",
       "  </thead>\n",
       "  <tbody>\n",
       "    <tr>\n",
       "      <th>0</th>\n",
       "      <td>0</td>\n",
       "      <td>2015-12-27</td>\n",
       "      <td>1.33</td>\n",
       "      <td>64236.62</td>\n",
       "      <td>1036.74</td>\n",
       "      <td>54454.85</td>\n",
       "      <td>48.16</td>\n",
       "      <td>8696.87</td>\n",
       "      <td>8603.62</td>\n",
       "      <td>93.25</td>\n",
       "      <td>0.0</td>\n",
       "      <td>conventional</td>\n",
       "      <td>2015</td>\n",
       "      <td>Albany</td>\n",
       "    </tr>\n",
       "    <tr>\n",
       "      <th>1</th>\n",
       "      <td>1</td>\n",
       "      <td>2015-12-20</td>\n",
       "      <td>1.35</td>\n",
       "      <td>54876.98</td>\n",
       "      <td>674.28</td>\n",
       "      <td>44638.81</td>\n",
       "      <td>58.33</td>\n",
       "      <td>9505.56</td>\n",
       "      <td>9408.07</td>\n",
       "      <td>97.49</td>\n",
       "      <td>0.0</td>\n",
       "      <td>conventional</td>\n",
       "      <td>2015</td>\n",
       "      <td>Albany</td>\n",
       "    </tr>\n",
       "    <tr>\n",
       "      <th>2</th>\n",
       "      <td>2</td>\n",
       "      <td>2015-12-13</td>\n",
       "      <td>0.93</td>\n",
       "      <td>118220.22</td>\n",
       "      <td>794.70</td>\n",
       "      <td>109149.67</td>\n",
       "      <td>130.50</td>\n",
       "      <td>8145.35</td>\n",
       "      <td>8042.21</td>\n",
       "      <td>103.14</td>\n",
       "      <td>0.0</td>\n",
       "      <td>conventional</td>\n",
       "      <td>2015</td>\n",
       "      <td>Albany</td>\n",
       "    </tr>\n",
       "    <tr>\n",
       "      <th>3</th>\n",
       "      <td>3</td>\n",
       "      <td>2015-12-06</td>\n",
       "      <td>1.08</td>\n",
       "      <td>78992.15</td>\n",
       "      <td>1132.00</td>\n",
       "      <td>71976.41</td>\n",
       "      <td>72.58</td>\n",
       "      <td>5811.16</td>\n",
       "      <td>5677.40</td>\n",
       "      <td>133.76</td>\n",
       "      <td>0.0</td>\n",
       "      <td>conventional</td>\n",
       "      <td>2015</td>\n",
       "      <td>Albany</td>\n",
       "    </tr>\n",
       "    <tr>\n",
       "      <th>4</th>\n",
       "      <td>4</td>\n",
       "      <td>2015-11-29</td>\n",
       "      <td>1.28</td>\n",
       "      <td>51039.60</td>\n",
       "      <td>941.48</td>\n",
       "      <td>43838.39</td>\n",
       "      <td>75.78</td>\n",
       "      <td>6183.95</td>\n",
       "      <td>5986.26</td>\n",
       "      <td>197.69</td>\n",
       "      <td>0.0</td>\n",
       "      <td>conventional</td>\n",
       "      <td>2015</td>\n",
       "      <td>Albany</td>\n",
       "    </tr>\n",
       "  </tbody>\n",
       "</table>\n",
       "</div>"
      ],
      "text/plain": [
       "   Unnamed: 0        Date  AveragePrice  Total Volume     4046       4225  \\\n",
       "0           0  2015-12-27          1.33      64236.62  1036.74   54454.85   \n",
       "1           1  2015-12-20          1.35      54876.98   674.28   44638.81   \n",
       "2           2  2015-12-13          0.93     118220.22   794.70  109149.67   \n",
       "3           3  2015-12-06          1.08      78992.15  1132.00   71976.41   \n",
       "4           4  2015-11-29          1.28      51039.60   941.48   43838.39   \n",
       "\n",
       "     4770  Total Bags  Small Bags  Large Bags  XLarge Bags          type  \\\n",
       "0   48.16     8696.87     8603.62       93.25          0.0  conventional   \n",
       "1   58.33     9505.56     9408.07       97.49          0.0  conventional   \n",
       "2  130.50     8145.35     8042.21      103.14          0.0  conventional   \n",
       "3   72.58     5811.16     5677.40      133.76          0.0  conventional   \n",
       "4   75.78     6183.95     5986.26      197.69          0.0  conventional   \n",
       "\n",
       "   year  region  \n",
       "0  2015  Albany  \n",
       "1  2015  Albany  \n",
       "2  2015  Albany  \n",
       "3  2015  Albany  \n",
       "4  2015  Albany  "
      ]
     },
     "execution_count": 31,
     "metadata": {},
     "output_type": "execute_result"
    }
   ],
   "source": [
    "# display first/last few rows\n",
    "avocado_df.head()"
   ]
  },
  {
   "cell_type": "code",
   "execution_count": 4,
   "id": "4623710c",
   "metadata": {},
   "outputs": [
    {
     "data": {
      "text/html": [
       "<div>\n",
       "<style scoped>\n",
       "    .dataframe tbody tr th:only-of-type {\n",
       "        vertical-align: middle;\n",
       "    }\n",
       "\n",
       "    .dataframe tbody tr th {\n",
       "        vertical-align: top;\n",
       "    }\n",
       "\n",
       "    .dataframe thead th {\n",
       "        text-align: right;\n",
       "    }\n",
       "</style>\n",
       "<table border=\"1\" class=\"dataframe\">\n",
       "  <thead>\n",
       "    <tr style=\"text-align: right;\">\n",
       "      <th></th>\n",
       "      <th>Unnamed: 0</th>\n",
       "      <th>Date</th>\n",
       "      <th>AveragePrice</th>\n",
       "      <th>Total Volume</th>\n",
       "      <th>4046</th>\n",
       "      <th>4225</th>\n",
       "      <th>4770</th>\n",
       "      <th>Total Bags</th>\n",
       "      <th>Small Bags</th>\n",
       "      <th>Large Bags</th>\n",
       "      <th>XLarge Bags</th>\n",
       "      <th>type</th>\n",
       "      <th>year</th>\n",
       "      <th>region</th>\n",
       "    </tr>\n",
       "  </thead>\n",
       "  <tbody>\n",
       "    <tr>\n",
       "      <th>18244</th>\n",
       "      <td>7</td>\n",
       "      <td>2018-02-04</td>\n",
       "      <td>1.63</td>\n",
       "      <td>17074.83</td>\n",
       "      <td>2046.96</td>\n",
       "      <td>1529.20</td>\n",
       "      <td>0.00</td>\n",
       "      <td>13498.67</td>\n",
       "      <td>13066.82</td>\n",
       "      <td>431.85</td>\n",
       "      <td>0.0</td>\n",
       "      <td>organic</td>\n",
       "      <td>2018</td>\n",
       "      <td>WestTexNewMexico</td>\n",
       "    </tr>\n",
       "    <tr>\n",
       "      <th>18245</th>\n",
       "      <td>8</td>\n",
       "      <td>2018-01-28</td>\n",
       "      <td>1.71</td>\n",
       "      <td>13888.04</td>\n",
       "      <td>1191.70</td>\n",
       "      <td>3431.50</td>\n",
       "      <td>0.00</td>\n",
       "      <td>9264.84</td>\n",
       "      <td>8940.04</td>\n",
       "      <td>324.80</td>\n",
       "      <td>0.0</td>\n",
       "      <td>organic</td>\n",
       "      <td>2018</td>\n",
       "      <td>WestTexNewMexico</td>\n",
       "    </tr>\n",
       "    <tr>\n",
       "      <th>18246</th>\n",
       "      <td>9</td>\n",
       "      <td>2018-01-21</td>\n",
       "      <td>1.87</td>\n",
       "      <td>13766.76</td>\n",
       "      <td>1191.92</td>\n",
       "      <td>2452.79</td>\n",
       "      <td>727.94</td>\n",
       "      <td>9394.11</td>\n",
       "      <td>9351.80</td>\n",
       "      <td>42.31</td>\n",
       "      <td>0.0</td>\n",
       "      <td>organic</td>\n",
       "      <td>2018</td>\n",
       "      <td>WestTexNewMexico</td>\n",
       "    </tr>\n",
       "    <tr>\n",
       "      <th>18247</th>\n",
       "      <td>10</td>\n",
       "      <td>2018-01-14</td>\n",
       "      <td>1.93</td>\n",
       "      <td>16205.22</td>\n",
       "      <td>1527.63</td>\n",
       "      <td>2981.04</td>\n",
       "      <td>727.01</td>\n",
       "      <td>10969.54</td>\n",
       "      <td>10919.54</td>\n",
       "      <td>50.00</td>\n",
       "      <td>0.0</td>\n",
       "      <td>organic</td>\n",
       "      <td>2018</td>\n",
       "      <td>WestTexNewMexico</td>\n",
       "    </tr>\n",
       "    <tr>\n",
       "      <th>18248</th>\n",
       "      <td>11</td>\n",
       "      <td>2018-01-07</td>\n",
       "      <td>1.62</td>\n",
       "      <td>17489.58</td>\n",
       "      <td>2894.77</td>\n",
       "      <td>2356.13</td>\n",
       "      <td>224.53</td>\n",
       "      <td>12014.15</td>\n",
       "      <td>11988.14</td>\n",
       "      <td>26.01</td>\n",
       "      <td>0.0</td>\n",
       "      <td>organic</td>\n",
       "      <td>2018</td>\n",
       "      <td>WestTexNewMexico</td>\n",
       "    </tr>\n",
       "  </tbody>\n",
       "</table>\n",
       "</div>"
      ],
      "text/plain": [
       "       Unnamed: 0        Date  AveragePrice  Total Volume     4046     4225  \\\n",
       "18244           7  2018-02-04          1.63      17074.83  2046.96  1529.20   \n",
       "18245           8  2018-01-28          1.71      13888.04  1191.70  3431.50   \n",
       "18246           9  2018-01-21          1.87      13766.76  1191.92  2452.79   \n",
       "18247          10  2018-01-14          1.93      16205.22  1527.63  2981.04   \n",
       "18248          11  2018-01-07          1.62      17489.58  2894.77  2356.13   \n",
       "\n",
       "         4770  Total Bags  Small Bags  Large Bags  XLarge Bags     type  year  \\\n",
       "18244    0.00    13498.67    13066.82      431.85          0.0  organic  2018   \n",
       "18245    0.00     9264.84     8940.04      324.80          0.0  organic  2018   \n",
       "18246  727.94     9394.11     9351.80       42.31          0.0  organic  2018   \n",
       "18247  727.01    10969.54    10919.54       50.00          0.0  organic  2018   \n",
       "18248  224.53    12014.15    11988.14       26.01          0.0  organic  2018   \n",
       "\n",
       "                 region  \n",
       "18244  WestTexNewMexico  \n",
       "18245  WestTexNewMexico  \n",
       "18246  WestTexNewMexico  \n",
       "18247  WestTexNewMexico  \n",
       "18248  WestTexNewMexico  "
      ]
     },
     "execution_count": 4,
     "metadata": {},
     "output_type": "execute_result"
    }
   ],
   "source": [
    "# last five rows\n",
    "avocado_df.tail()"
   ]
  },
  {
   "cell_type": "code",
   "execution_count": 5,
   "id": "a9c4888d",
   "metadata": {},
   "outputs": [
    {
     "data": {
      "text/html": [
       "<div>\n",
       "<style scoped>\n",
       "    .dataframe tbody tr th:only-of-type {\n",
       "        vertical-align: middle;\n",
       "    }\n",
       "\n",
       "    .dataframe tbody tr th {\n",
       "        vertical-align: top;\n",
       "    }\n",
       "\n",
       "    .dataframe thead th {\n",
       "        text-align: right;\n",
       "    }\n",
       "</style>\n",
       "<table border=\"1\" class=\"dataframe\">\n",
       "  <thead>\n",
       "    <tr style=\"text-align: right;\">\n",
       "      <th></th>\n",
       "      <th>Unnamed: 0</th>\n",
       "      <th>Date</th>\n",
       "      <th>AveragePrice</th>\n",
       "      <th>Total Volume</th>\n",
       "      <th>4046</th>\n",
       "      <th>4225</th>\n",
       "      <th>4770</th>\n",
       "      <th>Total Bags</th>\n",
       "      <th>Small Bags</th>\n",
       "      <th>Large Bags</th>\n",
       "      <th>XLarge Bags</th>\n",
       "      <th>type</th>\n",
       "      <th>year</th>\n",
       "      <th>region</th>\n",
       "    </tr>\n",
       "  </thead>\n",
       "  <tbody>\n",
       "    <tr>\n",
       "      <th>15592</th>\n",
       "      <td>3</td>\n",
       "      <td>2017-12-10</td>\n",
       "      <td>1.41</td>\n",
       "      <td>20516.20</td>\n",
       "      <td>237.25</td>\n",
       "      <td>282.59</td>\n",
       "      <td>9.30</td>\n",
       "      <td>19987.06</td>\n",
       "      <td>19982.08</td>\n",
       "      <td>4.98</td>\n",
       "      <td>0.00</td>\n",
       "      <td>organic</td>\n",
       "      <td>2017</td>\n",
       "      <td>HarrisburgScranton</td>\n",
       "    </tr>\n",
       "    <tr>\n",
       "      <th>2523</th>\n",
       "      <td>27</td>\n",
       "      <td>2015-06-21</td>\n",
       "      <td>1.26</td>\n",
       "      <td>198137.18</td>\n",
       "      <td>84699.66</td>\n",
       "      <td>38461.41</td>\n",
       "      <td>51.04</td>\n",
       "      <td>74925.07</td>\n",
       "      <td>74925.07</td>\n",
       "      <td>0.00</td>\n",
       "      <td>0.00</td>\n",
       "      <td>conventional</td>\n",
       "      <td>2015</td>\n",
       "      <td>StLouis</td>\n",
       "    </tr>\n",
       "    <tr>\n",
       "      <th>1835</th>\n",
       "      <td>15</td>\n",
       "      <td>2015-09-13</td>\n",
       "      <td>1.13</td>\n",
       "      <td>1526985.30</td>\n",
       "      <td>727720.21</td>\n",
       "      <td>491074.45</td>\n",
       "      <td>15652.47</td>\n",
       "      <td>292538.17</td>\n",
       "      <td>271845.35</td>\n",
       "      <td>19120.68</td>\n",
       "      <td>1572.14</td>\n",
       "      <td>conventional</td>\n",
       "      <td>2015</td>\n",
       "      <td>Plains</td>\n",
       "    </tr>\n",
       "    <tr>\n",
       "      <th>9259</th>\n",
       "      <td>29</td>\n",
       "      <td>2015-06-07</td>\n",
       "      <td>1.71</td>\n",
       "      <td>13808.71</td>\n",
       "      <td>5560.86</td>\n",
       "      <td>3115.87</td>\n",
       "      <td>1042.17</td>\n",
       "      <td>4089.81</td>\n",
       "      <td>4076.52</td>\n",
       "      <td>13.29</td>\n",
       "      <td>0.00</td>\n",
       "      <td>organic</td>\n",
       "      <td>2015</td>\n",
       "      <td>BaltimoreWashington</td>\n",
       "    </tr>\n",
       "    <tr>\n",
       "      <th>13567</th>\n",
       "      <td>22</td>\n",
       "      <td>2016-07-24</td>\n",
       "      <td>1.81</td>\n",
       "      <td>8411.92</td>\n",
       "      <td>3787.14</td>\n",
       "      <td>211.45</td>\n",
       "      <td>0.00</td>\n",
       "      <td>4413.33</td>\n",
       "      <td>4380.00</td>\n",
       "      <td>33.33</td>\n",
       "      <td>0.00</td>\n",
       "      <td>organic</td>\n",
       "      <td>2016</td>\n",
       "      <td>Orlando</td>\n",
       "    </tr>\n",
       "    <tr>\n",
       "      <th>13331</th>\n",
       "      <td>46</td>\n",
       "      <td>2016-02-07</td>\n",
       "      <td>1.40</td>\n",
       "      <td>5805.78</td>\n",
       "      <td>579.26</td>\n",
       "      <td>2809.35</td>\n",
       "      <td>0.00</td>\n",
       "      <td>2417.17</td>\n",
       "      <td>1650.00</td>\n",
       "      <td>767.17</td>\n",
       "      <td>0.00</td>\n",
       "      <td>organic</td>\n",
       "      <td>2016</td>\n",
       "      <td>Nashville</td>\n",
       "    </tr>\n",
       "    <tr>\n",
       "      <th>6641</th>\n",
       "      <td>18</td>\n",
       "      <td>2017-08-27</td>\n",
       "      <td>1.29</td>\n",
       "      <td>179853.82</td>\n",
       "      <td>8671.85</td>\n",
       "      <td>83185.36</td>\n",
       "      <td>1093.00</td>\n",
       "      <td>86903.61</td>\n",
       "      <td>32946.35</td>\n",
       "      <td>52220.21</td>\n",
       "      <td>1737.05</td>\n",
       "      <td>conventional</td>\n",
       "      <td>2017</td>\n",
       "      <td>Indianapolis</td>\n",
       "    </tr>\n",
       "  </tbody>\n",
       "</table>\n",
       "</div>"
      ],
      "text/plain": [
       "       Unnamed: 0        Date  AveragePrice  Total Volume       4046  \\\n",
       "15592           3  2017-12-10          1.41      20516.20     237.25   \n",
       "2523           27  2015-06-21          1.26     198137.18   84699.66   \n",
       "1835           15  2015-09-13          1.13    1526985.30  727720.21   \n",
       "9259           29  2015-06-07          1.71      13808.71    5560.86   \n",
       "13567          22  2016-07-24          1.81       8411.92    3787.14   \n",
       "13331          46  2016-02-07          1.40       5805.78     579.26   \n",
       "6641           18  2017-08-27          1.29     179853.82    8671.85   \n",
       "\n",
       "            4225      4770  Total Bags  Small Bags  Large Bags  XLarge Bags  \\\n",
       "15592     282.59      9.30    19987.06    19982.08        4.98         0.00   \n",
       "2523    38461.41     51.04    74925.07    74925.07        0.00         0.00   \n",
       "1835   491074.45  15652.47   292538.17   271845.35    19120.68      1572.14   \n",
       "9259     3115.87   1042.17     4089.81     4076.52       13.29         0.00   \n",
       "13567     211.45      0.00     4413.33     4380.00       33.33         0.00   \n",
       "13331    2809.35      0.00     2417.17     1650.00      767.17         0.00   \n",
       "6641    83185.36   1093.00    86903.61    32946.35    52220.21      1737.05   \n",
       "\n",
       "               type  year               region  \n",
       "15592       organic  2017   HarrisburgScranton  \n",
       "2523   conventional  2015              StLouis  \n",
       "1835   conventional  2015               Plains  \n",
       "9259        organic  2015  BaltimoreWashington  \n",
       "13567       organic  2016              Orlando  \n",
       "13331       organic  2016            Nashville  \n",
       "6641   conventional  2017         Indianapolis  "
      ]
     },
     "execution_count": 5,
     "metadata": {},
     "output_type": "execute_result"
    }
   ],
   "source": [
    "# Seven random rows of data\n",
    "avocado_df.sample(7)"
   ]
  },
  {
   "cell_type": "markdown",
   "id": "a3e25608",
   "metadata": {},
   "source": [
    "#### Get a summary descriptive statistics"
   ]
  },
  {
   "cell_type": "code",
   "execution_count": 6,
   "id": "9f46d4a2",
   "metadata": {},
   "outputs": [
    {
     "data": {
      "text/html": [
       "<div>\n",
       "<style scoped>\n",
       "    .dataframe tbody tr th:only-of-type {\n",
       "        vertical-align: middle;\n",
       "    }\n",
       "\n",
       "    .dataframe tbody tr th {\n",
       "        vertical-align: top;\n",
       "    }\n",
       "\n",
       "    .dataframe thead th {\n",
       "        text-align: right;\n",
       "    }\n",
       "</style>\n",
       "<table border=\"1\" class=\"dataframe\">\n",
       "  <thead>\n",
       "    <tr style=\"text-align: right;\">\n",
       "      <th></th>\n",
       "      <th>Unnamed: 0</th>\n",
       "      <th>AveragePrice</th>\n",
       "      <th>Total Volume</th>\n",
       "      <th>4046</th>\n",
       "      <th>4225</th>\n",
       "      <th>4770</th>\n",
       "      <th>Total Bags</th>\n",
       "      <th>Small Bags</th>\n",
       "      <th>Large Bags</th>\n",
       "      <th>XLarge Bags</th>\n",
       "      <th>year</th>\n",
       "    </tr>\n",
       "  </thead>\n",
       "  <tbody>\n",
       "    <tr>\n",
       "      <th>count</th>\n",
       "      <td>18249.000000</td>\n",
       "      <td>18249.000000</td>\n",
       "      <td>1.824900e+04</td>\n",
       "      <td>1.824900e+04</td>\n",
       "      <td>1.824900e+04</td>\n",
       "      <td>1.824900e+04</td>\n",
       "      <td>1.824900e+04</td>\n",
       "      <td>1.824900e+04</td>\n",
       "      <td>1.824900e+04</td>\n",
       "      <td>18249.000000</td>\n",
       "      <td>18249.000000</td>\n",
       "    </tr>\n",
       "    <tr>\n",
       "      <th>mean</th>\n",
       "      <td>24.232232</td>\n",
       "      <td>1.405978</td>\n",
       "      <td>8.506440e+05</td>\n",
       "      <td>2.930084e+05</td>\n",
       "      <td>2.951546e+05</td>\n",
       "      <td>2.283974e+04</td>\n",
       "      <td>2.396392e+05</td>\n",
       "      <td>1.821947e+05</td>\n",
       "      <td>5.433809e+04</td>\n",
       "      <td>3106.426507</td>\n",
       "      <td>2016.147899</td>\n",
       "    </tr>\n",
       "    <tr>\n",
       "      <th>std</th>\n",
       "      <td>15.481045</td>\n",
       "      <td>0.402677</td>\n",
       "      <td>3.453545e+06</td>\n",
       "      <td>1.264989e+06</td>\n",
       "      <td>1.204120e+06</td>\n",
       "      <td>1.074641e+05</td>\n",
       "      <td>9.862424e+05</td>\n",
       "      <td>7.461785e+05</td>\n",
       "      <td>2.439660e+05</td>\n",
       "      <td>17692.894652</td>\n",
       "      <td>0.939938</td>\n",
       "    </tr>\n",
       "    <tr>\n",
       "      <th>min</th>\n",
       "      <td>0.000000</td>\n",
       "      <td>0.440000</td>\n",
       "      <td>8.456000e+01</td>\n",
       "      <td>0.000000e+00</td>\n",
       "      <td>0.000000e+00</td>\n",
       "      <td>0.000000e+00</td>\n",
       "      <td>0.000000e+00</td>\n",
       "      <td>0.000000e+00</td>\n",
       "      <td>0.000000e+00</td>\n",
       "      <td>0.000000</td>\n",
       "      <td>2015.000000</td>\n",
       "    </tr>\n",
       "    <tr>\n",
       "      <th>25%</th>\n",
       "      <td>10.000000</td>\n",
       "      <td>1.100000</td>\n",
       "      <td>1.083858e+04</td>\n",
       "      <td>8.540700e+02</td>\n",
       "      <td>3.008780e+03</td>\n",
       "      <td>0.000000e+00</td>\n",
       "      <td>5.088640e+03</td>\n",
       "      <td>2.849420e+03</td>\n",
       "      <td>1.274700e+02</td>\n",
       "      <td>0.000000</td>\n",
       "      <td>2015.000000</td>\n",
       "    </tr>\n",
       "    <tr>\n",
       "      <th>50%</th>\n",
       "      <td>24.000000</td>\n",
       "      <td>1.370000</td>\n",
       "      <td>1.073768e+05</td>\n",
       "      <td>8.645300e+03</td>\n",
       "      <td>2.906102e+04</td>\n",
       "      <td>1.849900e+02</td>\n",
       "      <td>3.974383e+04</td>\n",
       "      <td>2.636282e+04</td>\n",
       "      <td>2.647710e+03</td>\n",
       "      <td>0.000000</td>\n",
       "      <td>2016.000000</td>\n",
       "    </tr>\n",
       "    <tr>\n",
       "      <th>75%</th>\n",
       "      <td>38.000000</td>\n",
       "      <td>1.660000</td>\n",
       "      <td>4.329623e+05</td>\n",
       "      <td>1.110202e+05</td>\n",
       "      <td>1.502069e+05</td>\n",
       "      <td>6.243420e+03</td>\n",
       "      <td>1.107834e+05</td>\n",
       "      <td>8.333767e+04</td>\n",
       "      <td>2.202925e+04</td>\n",
       "      <td>132.500000</td>\n",
       "      <td>2017.000000</td>\n",
       "    </tr>\n",
       "    <tr>\n",
       "      <th>max</th>\n",
       "      <td>52.000000</td>\n",
       "      <td>3.250000</td>\n",
       "      <td>6.250565e+07</td>\n",
       "      <td>2.274362e+07</td>\n",
       "      <td>2.047057e+07</td>\n",
       "      <td>2.546439e+06</td>\n",
       "      <td>1.937313e+07</td>\n",
       "      <td>1.338459e+07</td>\n",
       "      <td>5.719097e+06</td>\n",
       "      <td>551693.650000</td>\n",
       "      <td>2018.000000</td>\n",
       "    </tr>\n",
       "  </tbody>\n",
       "</table>\n",
       "</div>"
      ],
      "text/plain": [
       "         Unnamed: 0  AveragePrice  Total Volume          4046          4225  \\\n",
       "count  18249.000000  18249.000000  1.824900e+04  1.824900e+04  1.824900e+04   \n",
       "mean      24.232232      1.405978  8.506440e+05  2.930084e+05  2.951546e+05   \n",
       "std       15.481045      0.402677  3.453545e+06  1.264989e+06  1.204120e+06   \n",
       "min        0.000000      0.440000  8.456000e+01  0.000000e+00  0.000000e+00   \n",
       "25%       10.000000      1.100000  1.083858e+04  8.540700e+02  3.008780e+03   \n",
       "50%       24.000000      1.370000  1.073768e+05  8.645300e+03  2.906102e+04   \n",
       "75%       38.000000      1.660000  4.329623e+05  1.110202e+05  1.502069e+05   \n",
       "max       52.000000      3.250000  6.250565e+07  2.274362e+07  2.047057e+07   \n",
       "\n",
       "               4770    Total Bags    Small Bags    Large Bags    XLarge Bags  \\\n",
       "count  1.824900e+04  1.824900e+04  1.824900e+04  1.824900e+04   18249.000000   \n",
       "mean   2.283974e+04  2.396392e+05  1.821947e+05  5.433809e+04    3106.426507   \n",
       "std    1.074641e+05  9.862424e+05  7.461785e+05  2.439660e+05   17692.894652   \n",
       "min    0.000000e+00  0.000000e+00  0.000000e+00  0.000000e+00       0.000000   \n",
       "25%    0.000000e+00  5.088640e+03  2.849420e+03  1.274700e+02       0.000000   \n",
       "50%    1.849900e+02  3.974383e+04  2.636282e+04  2.647710e+03       0.000000   \n",
       "75%    6.243420e+03  1.107834e+05  8.333767e+04  2.202925e+04     132.500000   \n",
       "max    2.546439e+06  1.937313e+07  1.338459e+07  5.719097e+06  551693.650000   \n",
       "\n",
       "               year  \n",
       "count  18249.000000  \n",
       "mean    2016.147899  \n",
       "std        0.939938  \n",
       "min     2015.000000  \n",
       "25%     2015.000000  \n",
       "50%     2016.000000  \n",
       "75%     2017.000000  \n",
       "max     2018.000000  "
      ]
     },
     "execution_count": 6,
     "metadata": {},
     "output_type": "execute_result"
    }
   ],
   "source": [
    "#Summary for numeric columns\n",
    "avocado_df.describe()"
   ]
  },
  {
   "cell_type": "markdown",
   "id": "fdf833c6",
   "metadata": {},
   "source": [
    "We can see different statistical summary of numeric columns. The mean, standard deviation, minimum and maximum values as well as the Percentile. __\"For numeric data, the result’s index will include `count`, `mean`, `std`, `min`, `max` as well as `lower`, `50` and `upper percentiles`. By default the lower percentile is 25 and the upper percentile is 75. The 50 percentile is the same as the median.\"__"
   ]
  },
  {
   "cell_type": "code",
   "execution_count": 7,
   "id": "9ccddf12",
   "metadata": {},
   "outputs": [
    {
     "data": {
      "text/html": [
       "<div>\n",
       "<style scoped>\n",
       "    .dataframe tbody tr th:only-of-type {\n",
       "        vertical-align: middle;\n",
       "    }\n",
       "\n",
       "    .dataframe tbody tr th {\n",
       "        vertical-align: top;\n",
       "    }\n",
       "\n",
       "    .dataframe thead th {\n",
       "        text-align: right;\n",
       "    }\n",
       "</style>\n",
       "<table border=\"1\" class=\"dataframe\">\n",
       "  <thead>\n",
       "    <tr style=\"text-align: right;\">\n",
       "      <th></th>\n",
       "      <th>Date</th>\n",
       "      <th>type</th>\n",
       "      <th>region</th>\n",
       "    </tr>\n",
       "  </thead>\n",
       "  <tbody>\n",
       "    <tr>\n",
       "      <th>count</th>\n",
       "      <td>18249</td>\n",
       "      <td>18249</td>\n",
       "      <td>18249</td>\n",
       "    </tr>\n",
       "    <tr>\n",
       "      <th>unique</th>\n",
       "      <td>169</td>\n",
       "      <td>2</td>\n",
       "      <td>54</td>\n",
       "    </tr>\n",
       "    <tr>\n",
       "      <th>top</th>\n",
       "      <td>2015-12-27</td>\n",
       "      <td>conventional</td>\n",
       "      <td>Albany</td>\n",
       "    </tr>\n",
       "    <tr>\n",
       "      <th>freq</th>\n",
       "      <td>108</td>\n",
       "      <td>9126</td>\n",
       "      <td>338</td>\n",
       "    </tr>\n",
       "  </tbody>\n",
       "</table>\n",
       "</div>"
      ],
      "text/plain": [
       "              Date          type  region\n",
       "count        18249         18249   18249\n",
       "unique         169             2      54\n",
       "top     2015-12-27  conventional  Albany\n",
       "freq           108          9126     338"
      ]
     },
     "execution_count": 7,
     "metadata": {},
     "output_type": "execute_result"
    }
   ],
   "source": [
    "# summary for categorical columns\n",
    "avocado_df.describe(include=\"object\")"
   ]
  },
  {
   "cell_type": "markdown",
   "id": "72d1e5a8",
   "metadata": {},
   "source": [
    "We can see that the statistics returned for categorical columns are different. This included the count, number of unique categories, topmost unique category, and the frequency. __\"For object data (e.g. strings or timestamps), the result’s index will include `count`, `unique`, `top`, and `freq`. The `top` is the most common value. The `freq` is the most common value’s frequency. Timestamps also include the first and last items.\"__"
   ]
  },
  {
   "cell_type": "markdown",
   "id": "88e2c613",
   "metadata": {},
   "source": [
    "#### Check for Missing Values"
   ]
  },
  {
   "cell_type": "code",
   "execution_count": 33,
   "id": "62754a8b",
   "metadata": {},
   "outputs": [
    {
     "data": {
      "text/plain": [
       "Unnamed: 0      0\n",
       "Date            0\n",
       "AveragePrice    0\n",
       "Total Volume    0\n",
       "4046            0\n",
       "4225            0\n",
       "4770            0\n",
       "Total Bags      0\n",
       "Small Bags      0\n",
       "Large Bags      0\n",
       "XLarge Bags     0\n",
       "type            0\n",
       "year            0\n",
       "region          0\n",
       "dtype: int64"
      ]
     },
     "execution_count": 33,
     "metadata": {},
     "output_type": "execute_result"
    }
   ],
   "source": [
    "avocado_df.isnull().sum()"
   ]
  },
  {
   "cell_type": "markdown",
   "id": "1b983279",
   "metadata": {},
   "source": [
    "We can see that there are no missing values in any of the column"
   ]
  },
  {
   "cell_type": "markdown",
   "id": "10775932",
   "metadata": {},
   "source": [
    "### Data Cleaning\n",
    "Since our data contains no mmissing vlaues, we'll skip the step and move to excluding some of the columns we will not be using in our analysis."
   ]
  },
  {
   "cell_type": "code",
   "execution_count": 9,
   "id": "b24426ed",
   "metadata": {},
   "outputs": [],
   "source": [
    "# Dropping columns that are not relevant\n",
    "\n",
    "columns_to_drop = [\"Unnamed: 0\", \"Small Bags\", \"Large Bags\", \"XLarge Bags\"]\n",
    "avocado_df.drop(columns_to_drop, axis=1, inplace=True)"
   ]
  },
  {
   "cell_type": "code",
   "execution_count": 10,
   "id": "9f320489",
   "metadata": {},
   "outputs": [
    {
     "data": {
      "text/html": [
       "<div>\n",
       "<style scoped>\n",
       "    .dataframe tbody tr th:only-of-type {\n",
       "        vertical-align: middle;\n",
       "    }\n",
       "\n",
       "    .dataframe tbody tr th {\n",
       "        vertical-align: top;\n",
       "    }\n",
       "\n",
       "    .dataframe thead th {\n",
       "        text-align: right;\n",
       "    }\n",
       "</style>\n",
       "<table border=\"1\" class=\"dataframe\">\n",
       "  <thead>\n",
       "    <tr style=\"text-align: right;\">\n",
       "      <th></th>\n",
       "      <th>Date</th>\n",
       "      <th>AveragePrice</th>\n",
       "      <th>Total Volume</th>\n",
       "      <th>4046</th>\n",
       "      <th>4225</th>\n",
       "      <th>4770</th>\n",
       "      <th>Total Bags</th>\n",
       "      <th>type</th>\n",
       "      <th>year</th>\n",
       "      <th>region</th>\n",
       "    </tr>\n",
       "  </thead>\n",
       "  <tbody>\n",
       "    <tr>\n",
       "      <th>0</th>\n",
       "      <td>2015-12-27</td>\n",
       "      <td>1.33</td>\n",
       "      <td>64236.62</td>\n",
       "      <td>1036.74</td>\n",
       "      <td>54454.85</td>\n",
       "      <td>48.16</td>\n",
       "      <td>8696.87</td>\n",
       "      <td>conventional</td>\n",
       "      <td>2015</td>\n",
       "      <td>Albany</td>\n",
       "    </tr>\n",
       "    <tr>\n",
       "      <th>1</th>\n",
       "      <td>2015-12-20</td>\n",
       "      <td>1.35</td>\n",
       "      <td>54876.98</td>\n",
       "      <td>674.28</td>\n",
       "      <td>44638.81</td>\n",
       "      <td>58.33</td>\n",
       "      <td>9505.56</td>\n",
       "      <td>conventional</td>\n",
       "      <td>2015</td>\n",
       "      <td>Albany</td>\n",
       "    </tr>\n",
       "    <tr>\n",
       "      <th>2</th>\n",
       "      <td>2015-12-13</td>\n",
       "      <td>0.93</td>\n",
       "      <td>118220.22</td>\n",
       "      <td>794.70</td>\n",
       "      <td>109149.67</td>\n",
       "      <td>130.50</td>\n",
       "      <td>8145.35</td>\n",
       "      <td>conventional</td>\n",
       "      <td>2015</td>\n",
       "      <td>Albany</td>\n",
       "    </tr>\n",
       "    <tr>\n",
       "      <th>3</th>\n",
       "      <td>2015-12-06</td>\n",
       "      <td>1.08</td>\n",
       "      <td>78992.15</td>\n",
       "      <td>1132.00</td>\n",
       "      <td>71976.41</td>\n",
       "      <td>72.58</td>\n",
       "      <td>5811.16</td>\n",
       "      <td>conventional</td>\n",
       "      <td>2015</td>\n",
       "      <td>Albany</td>\n",
       "    </tr>\n",
       "    <tr>\n",
       "      <th>4</th>\n",
       "      <td>2015-11-29</td>\n",
       "      <td>1.28</td>\n",
       "      <td>51039.60</td>\n",
       "      <td>941.48</td>\n",
       "      <td>43838.39</td>\n",
       "      <td>75.78</td>\n",
       "      <td>6183.95</td>\n",
       "      <td>conventional</td>\n",
       "      <td>2015</td>\n",
       "      <td>Albany</td>\n",
       "    </tr>\n",
       "    <tr>\n",
       "      <th>5</th>\n",
       "      <td>2015-11-22</td>\n",
       "      <td>1.26</td>\n",
       "      <td>55979.78</td>\n",
       "      <td>1184.27</td>\n",
       "      <td>48067.99</td>\n",
       "      <td>43.61</td>\n",
       "      <td>6683.91</td>\n",
       "      <td>conventional</td>\n",
       "      <td>2015</td>\n",
       "      <td>Albany</td>\n",
       "    </tr>\n",
       "    <tr>\n",
       "      <th>6</th>\n",
       "      <td>2015-11-15</td>\n",
       "      <td>0.99</td>\n",
       "      <td>83453.76</td>\n",
       "      <td>1368.92</td>\n",
       "      <td>73672.72</td>\n",
       "      <td>93.26</td>\n",
       "      <td>8318.86</td>\n",
       "      <td>conventional</td>\n",
       "      <td>2015</td>\n",
       "      <td>Albany</td>\n",
       "    </tr>\n",
       "    <tr>\n",
       "      <th>7</th>\n",
       "      <td>2015-11-08</td>\n",
       "      <td>0.98</td>\n",
       "      <td>109428.33</td>\n",
       "      <td>703.75</td>\n",
       "      <td>101815.36</td>\n",
       "      <td>80.00</td>\n",
       "      <td>6829.22</td>\n",
       "      <td>conventional</td>\n",
       "      <td>2015</td>\n",
       "      <td>Albany</td>\n",
       "    </tr>\n",
       "    <tr>\n",
       "      <th>8</th>\n",
       "      <td>2015-11-01</td>\n",
       "      <td>1.02</td>\n",
       "      <td>99811.42</td>\n",
       "      <td>1022.15</td>\n",
       "      <td>87315.57</td>\n",
       "      <td>85.34</td>\n",
       "      <td>11388.36</td>\n",
       "      <td>conventional</td>\n",
       "      <td>2015</td>\n",
       "      <td>Albany</td>\n",
       "    </tr>\n",
       "    <tr>\n",
       "      <th>9</th>\n",
       "      <td>2015-10-25</td>\n",
       "      <td>1.07</td>\n",
       "      <td>74338.76</td>\n",
       "      <td>842.40</td>\n",
       "      <td>64757.44</td>\n",
       "      <td>113.00</td>\n",
       "      <td>8625.92</td>\n",
       "      <td>conventional</td>\n",
       "      <td>2015</td>\n",
       "      <td>Albany</td>\n",
       "    </tr>\n",
       "  </tbody>\n",
       "</table>\n",
       "</div>"
      ],
      "text/plain": [
       "         Date  AveragePrice  Total Volume     4046       4225    4770  \\\n",
       "0  2015-12-27          1.33      64236.62  1036.74   54454.85   48.16   \n",
       "1  2015-12-20          1.35      54876.98   674.28   44638.81   58.33   \n",
       "2  2015-12-13          0.93     118220.22   794.70  109149.67  130.50   \n",
       "3  2015-12-06          1.08      78992.15  1132.00   71976.41   72.58   \n",
       "4  2015-11-29          1.28      51039.60   941.48   43838.39   75.78   \n",
       "5  2015-11-22          1.26      55979.78  1184.27   48067.99   43.61   \n",
       "6  2015-11-15          0.99      83453.76  1368.92   73672.72   93.26   \n",
       "7  2015-11-08          0.98     109428.33   703.75  101815.36   80.00   \n",
       "8  2015-11-01          1.02      99811.42  1022.15   87315.57   85.34   \n",
       "9  2015-10-25          1.07      74338.76   842.40   64757.44  113.00   \n",
       "\n",
       "   Total Bags          type  year  region  \n",
       "0     8696.87  conventional  2015  Albany  \n",
       "1     9505.56  conventional  2015  Albany  \n",
       "2     8145.35  conventional  2015  Albany  \n",
       "3     5811.16  conventional  2015  Albany  \n",
       "4     6183.95  conventional  2015  Albany  \n",
       "5     6683.91  conventional  2015  Albany  \n",
       "6     8318.86  conventional  2015  Albany  \n",
       "7     6829.22  conventional  2015  Albany  \n",
       "8    11388.36  conventional  2015  Albany  \n",
       "9     8625.92  conventional  2015  Albany  "
      ]
     },
     "execution_count": 10,
     "metadata": {},
     "output_type": "execute_result"
    }
   ],
   "source": [
    "# let's see what is left in the DataFrame\n",
    "avocado_df.head(10)"
   ]
  },
  {
   "cell_type": "code",
   "execution_count": 11,
   "id": "bc7bfb8c",
   "metadata": {},
   "outputs": [],
   "source": [
    "# Let's rename 4046, 4225, and 4770\n",
    "col_to_rename = {\"4046\":\"Small\",\n",
    "                \"4225\": \"Medium\",\n",
    "                \"4770\": \"Large\"}\n",
    "avocado_df.rename(columns=col_to_rename, inplace=True)"
   ]
  },
  {
   "cell_type": "code",
   "execution_count": 12,
   "id": "961d6540",
   "metadata": {},
   "outputs": [
    {
     "data": {
      "text/html": [
       "<div>\n",
       "<style scoped>\n",
       "    .dataframe tbody tr th:only-of-type {\n",
       "        vertical-align: middle;\n",
       "    }\n",
       "\n",
       "    .dataframe tbody tr th {\n",
       "        vertical-align: top;\n",
       "    }\n",
       "\n",
       "    .dataframe thead th {\n",
       "        text-align: right;\n",
       "    }\n",
       "</style>\n",
       "<table border=\"1\" class=\"dataframe\">\n",
       "  <thead>\n",
       "    <tr style=\"text-align: right;\">\n",
       "      <th></th>\n",
       "      <th>Date</th>\n",
       "      <th>AveragePrice</th>\n",
       "      <th>Total Volume</th>\n",
       "      <th>Small</th>\n",
       "      <th>Medium</th>\n",
       "      <th>Large</th>\n",
       "      <th>Total Bags</th>\n",
       "      <th>type</th>\n",
       "      <th>year</th>\n",
       "      <th>region</th>\n",
       "    </tr>\n",
       "  </thead>\n",
       "  <tbody>\n",
       "    <tr>\n",
       "      <th>0</th>\n",
       "      <td>2015-12-27</td>\n",
       "      <td>1.33</td>\n",
       "      <td>64236.62</td>\n",
       "      <td>1036.74</td>\n",
       "      <td>54454.85</td>\n",
       "      <td>48.16</td>\n",
       "      <td>8696.87</td>\n",
       "      <td>conventional</td>\n",
       "      <td>2015</td>\n",
       "      <td>Albany</td>\n",
       "    </tr>\n",
       "    <tr>\n",
       "      <th>1</th>\n",
       "      <td>2015-12-20</td>\n",
       "      <td>1.35</td>\n",
       "      <td>54876.98</td>\n",
       "      <td>674.28</td>\n",
       "      <td>44638.81</td>\n",
       "      <td>58.33</td>\n",
       "      <td>9505.56</td>\n",
       "      <td>conventional</td>\n",
       "      <td>2015</td>\n",
       "      <td>Albany</td>\n",
       "    </tr>\n",
       "    <tr>\n",
       "      <th>2</th>\n",
       "      <td>2015-12-13</td>\n",
       "      <td>0.93</td>\n",
       "      <td>118220.22</td>\n",
       "      <td>794.70</td>\n",
       "      <td>109149.67</td>\n",
       "      <td>130.50</td>\n",
       "      <td>8145.35</td>\n",
       "      <td>conventional</td>\n",
       "      <td>2015</td>\n",
       "      <td>Albany</td>\n",
       "    </tr>\n",
       "    <tr>\n",
       "      <th>3</th>\n",
       "      <td>2015-12-06</td>\n",
       "      <td>1.08</td>\n",
       "      <td>78992.15</td>\n",
       "      <td>1132.00</td>\n",
       "      <td>71976.41</td>\n",
       "      <td>72.58</td>\n",
       "      <td>5811.16</td>\n",
       "      <td>conventional</td>\n",
       "      <td>2015</td>\n",
       "      <td>Albany</td>\n",
       "    </tr>\n",
       "    <tr>\n",
       "      <th>4</th>\n",
       "      <td>2015-11-29</td>\n",
       "      <td>1.28</td>\n",
       "      <td>51039.60</td>\n",
       "      <td>941.48</td>\n",
       "      <td>43838.39</td>\n",
       "      <td>75.78</td>\n",
       "      <td>6183.95</td>\n",
       "      <td>conventional</td>\n",
       "      <td>2015</td>\n",
       "      <td>Albany</td>\n",
       "    </tr>\n",
       "    <tr>\n",
       "      <th>5</th>\n",
       "      <td>2015-11-22</td>\n",
       "      <td>1.26</td>\n",
       "      <td>55979.78</td>\n",
       "      <td>1184.27</td>\n",
       "      <td>48067.99</td>\n",
       "      <td>43.61</td>\n",
       "      <td>6683.91</td>\n",
       "      <td>conventional</td>\n",
       "      <td>2015</td>\n",
       "      <td>Albany</td>\n",
       "    </tr>\n",
       "    <tr>\n",
       "      <th>6</th>\n",
       "      <td>2015-11-15</td>\n",
       "      <td>0.99</td>\n",
       "      <td>83453.76</td>\n",
       "      <td>1368.92</td>\n",
       "      <td>73672.72</td>\n",
       "      <td>93.26</td>\n",
       "      <td>8318.86</td>\n",
       "      <td>conventional</td>\n",
       "      <td>2015</td>\n",
       "      <td>Albany</td>\n",
       "    </tr>\n",
       "    <tr>\n",
       "      <th>7</th>\n",
       "      <td>2015-11-08</td>\n",
       "      <td>0.98</td>\n",
       "      <td>109428.33</td>\n",
       "      <td>703.75</td>\n",
       "      <td>101815.36</td>\n",
       "      <td>80.00</td>\n",
       "      <td>6829.22</td>\n",
       "      <td>conventional</td>\n",
       "      <td>2015</td>\n",
       "      <td>Albany</td>\n",
       "    </tr>\n",
       "    <tr>\n",
       "      <th>8</th>\n",
       "      <td>2015-11-01</td>\n",
       "      <td>1.02</td>\n",
       "      <td>99811.42</td>\n",
       "      <td>1022.15</td>\n",
       "      <td>87315.57</td>\n",
       "      <td>85.34</td>\n",
       "      <td>11388.36</td>\n",
       "      <td>conventional</td>\n",
       "      <td>2015</td>\n",
       "      <td>Albany</td>\n",
       "    </tr>\n",
       "    <tr>\n",
       "      <th>9</th>\n",
       "      <td>2015-10-25</td>\n",
       "      <td>1.07</td>\n",
       "      <td>74338.76</td>\n",
       "      <td>842.40</td>\n",
       "      <td>64757.44</td>\n",
       "      <td>113.00</td>\n",
       "      <td>8625.92</td>\n",
       "      <td>conventional</td>\n",
       "      <td>2015</td>\n",
       "      <td>Albany</td>\n",
       "    </tr>\n",
       "  </tbody>\n",
       "</table>\n",
       "</div>"
      ],
      "text/plain": [
       "         Date  AveragePrice  Total Volume    Small     Medium   Large  \\\n",
       "0  2015-12-27          1.33      64236.62  1036.74   54454.85   48.16   \n",
       "1  2015-12-20          1.35      54876.98   674.28   44638.81   58.33   \n",
       "2  2015-12-13          0.93     118220.22   794.70  109149.67  130.50   \n",
       "3  2015-12-06          1.08      78992.15  1132.00   71976.41   72.58   \n",
       "4  2015-11-29          1.28      51039.60   941.48   43838.39   75.78   \n",
       "5  2015-11-22          1.26      55979.78  1184.27   48067.99   43.61   \n",
       "6  2015-11-15          0.99      83453.76  1368.92   73672.72   93.26   \n",
       "7  2015-11-08          0.98     109428.33   703.75  101815.36   80.00   \n",
       "8  2015-11-01          1.02      99811.42  1022.15   87315.57   85.34   \n",
       "9  2015-10-25          1.07      74338.76   842.40   64757.44  113.00   \n",
       "\n",
       "   Total Bags          type  year  region  \n",
       "0     8696.87  conventional  2015  Albany  \n",
       "1     9505.56  conventional  2015  Albany  \n",
       "2     8145.35  conventional  2015  Albany  \n",
       "3     5811.16  conventional  2015  Albany  \n",
       "4     6183.95  conventional  2015  Albany  \n",
       "5     6683.91  conventional  2015  Albany  \n",
       "6     8318.86  conventional  2015  Albany  \n",
       "7     6829.22  conventional  2015  Albany  \n",
       "8    11388.36  conventional  2015  Albany  \n",
       "9     8625.92  conventional  2015  Albany  "
      ]
     },
     "execution_count": 12,
     "metadata": {},
     "output_type": "execute_result"
    }
   ],
   "source": [
    "# let's see the changes in our dataset\n",
    "avocado_df.head(10)"
   ]
  },
  {
   "cell_type": "code",
   "execution_count": 48,
   "id": "ef30ad8a",
   "metadata": {},
   "outputs": [],
   "source": [
    "# Let's change the Date column to a DateTime type instead of Object type\n",
    "avocado_df[\"Date\"] = pd.to_datetime(avocado_df[\"Date\"])"
   ]
  },
  {
   "cell_type": "code",
   "execution_count": 14,
   "id": "a055e5f3",
   "metadata": {},
   "outputs": [
    {
     "name": "stdout",
     "output_type": "stream",
     "text": [
      "<class 'pandas.core.frame.DataFrame'>\n",
      "RangeIndex: 18249 entries, 0 to 18248\n",
      "Data columns (total 10 columns):\n",
      " #   Column        Non-Null Count  Dtype         \n",
      "---  ------        --------------  -----         \n",
      " 0   Date          18249 non-null  datetime64[ns]\n",
      " 1   AveragePrice  18249 non-null  float64       \n",
      " 2   Total Volume  18249 non-null  float64       \n",
      " 3   Small         18249 non-null  float64       \n",
      " 4   Medium        18249 non-null  float64       \n",
      " 5   Large         18249 non-null  float64       \n",
      " 6   Total Bags    18249 non-null  float64       \n",
      " 7   type          18249 non-null  object        \n",
      " 8   year          18249 non-null  int64         \n",
      " 9   region        18249 non-null  object        \n",
      "dtypes: datetime64[ns](1), float64(6), int64(1), object(2)\n",
      "memory usage: 1.4+ MB\n"
     ]
    }
   ],
   "source": [
    "#let's check the type again\n",
    "avocado_df.info()"
   ]
  },
  {
   "cell_type": "markdown",
   "id": "608045ca",
   "metadata": {},
   "source": [
    "### Query the Data to answer Analytic Question\n",
    "Now that we have a clean data, we can proceed to making analysis"
   ]
  },
  {
   "cell_type": "code",
   "execution_count": 15,
   "id": "259b4d16",
   "metadata": {},
   "outputs": [
    {
     "data": {
      "text/plain": [
       "conventional    9126\n",
       "organic         9123\n",
       "Name: type, dtype: int64"
      ]
     },
     "execution_count": 15,
     "metadata": {},
     "output_type": "execute_result"
    }
   ],
   "source": [
    "# How many unique region and avocado type do we have in our data?\n",
    "avocado_df[\"type\"].value_counts()"
   ]
  },
  {
   "cell_type": "code",
   "execution_count": 37,
   "id": "2255d6fc",
   "metadata": {},
   "outputs": [
    {
     "data": {
      "text/plain": [
       "Albany                 338\n",
       "Sacramento             338\n",
       "Northeast              338\n",
       "NorthernNewEngland     338\n",
       "Orlando                338\n",
       "Philadelphia           338\n",
       "PhoenixTucson          338\n",
       "Pittsburgh             338\n",
       "Plains                 338\n",
       "Portland               338\n",
       "RaleighGreensboro      338\n",
       "RichmondNorfolk        338\n",
       "Roanoke                338\n",
       "SanDiego               338\n",
       "Atlanta                338\n",
       "SanFrancisco           338\n",
       "Seattle                338\n",
       "SouthCarolina          338\n",
       "SouthCentral           338\n",
       "Southeast              338\n",
       "Spokane                338\n",
       "StLouis                338\n",
       "Syracuse               338\n",
       "Tampa                  338\n",
       "TotalUS                338\n",
       "West                   338\n",
       "NewYork                338\n",
       "NewOrleansMobile       338\n",
       "Nashville              338\n",
       "Midsouth               338\n",
       "BaltimoreWashington    338\n",
       "Boise                  338\n",
       "Boston                 338\n",
       "BuffaloRochester       338\n",
       "California             338\n",
       "Charlotte              338\n",
       "Chicago                338\n",
       "CincinnatiDayton       338\n",
       "Columbus               338\n",
       "DallasFtWorth          338\n",
       "Denver                 338\n",
       "Detroit                338\n",
       "GrandRapids            338\n",
       "GreatLakes             338\n",
       "HarrisburgScranton     338\n",
       "HartfordSpringfield    338\n",
       "Houston                338\n",
       "Indianapolis           338\n",
       "Jacksonville           338\n",
       "LasVegas               338\n",
       "LosAngeles             338\n",
       "Louisville             338\n",
       "MiamiFtLauderdale      338\n",
       "WestTexNewMexico       335\n",
       "Name: region, dtype: int64"
      ]
     },
     "execution_count": 37,
     "metadata": {},
     "output_type": "execute_result"
    }
   ],
   "source": [
    "avocado_df[\"region\"].value_counts()"
   ]
  },
  {
   "cell_type": "markdown",
   "id": "84430179",
   "metadata": {},
   "source": [
    "There are quite many of them"
   ]
  },
  {
   "cell_type": "markdown",
   "id": "28d865ea",
   "metadata": {},
   "source": [
    "##### How many conventional type of Avocado has the average price greater than 1 dollar?"
   ]
  },
  {
   "cell_type": "code",
   "execution_count": 17,
   "id": "1b3fd21d",
   "metadata": {},
   "outputs": [
    {
     "data": {
      "text/html": [
       "<div>\n",
       "<style scoped>\n",
       "    .dataframe tbody tr th:only-of-type {\n",
       "        vertical-align: middle;\n",
       "    }\n",
       "\n",
       "    .dataframe tbody tr th {\n",
       "        vertical-align: top;\n",
       "    }\n",
       "\n",
       "    .dataframe thead th {\n",
       "        text-align: right;\n",
       "    }\n",
       "</style>\n",
       "<table border=\"1\" class=\"dataframe\">\n",
       "  <thead>\n",
       "    <tr style=\"text-align: right;\">\n",
       "      <th></th>\n",
       "      <th>Date</th>\n",
       "      <th>AveragePrice</th>\n",
       "      <th>Total Volume</th>\n",
       "      <th>Small</th>\n",
       "      <th>Medium</th>\n",
       "      <th>Large</th>\n",
       "      <th>Total Bags</th>\n",
       "      <th>type</th>\n",
       "      <th>year</th>\n",
       "      <th>region</th>\n",
       "    </tr>\n",
       "  </thead>\n",
       "  <tbody>\n",
       "    <tr>\n",
       "      <th>0</th>\n",
       "      <td>2015-12-27</td>\n",
       "      <td>1.33</td>\n",
       "      <td>64236.62</td>\n",
       "      <td>1036.74</td>\n",
       "      <td>54454.85</td>\n",
       "      <td>48.16</td>\n",
       "      <td>8696.87</td>\n",
       "      <td>conventional</td>\n",
       "      <td>2015</td>\n",
       "      <td>Albany</td>\n",
       "    </tr>\n",
       "    <tr>\n",
       "      <th>1</th>\n",
       "      <td>2015-12-20</td>\n",
       "      <td>1.35</td>\n",
       "      <td>54876.98</td>\n",
       "      <td>674.28</td>\n",
       "      <td>44638.81</td>\n",
       "      <td>58.33</td>\n",
       "      <td>9505.56</td>\n",
       "      <td>conventional</td>\n",
       "      <td>2015</td>\n",
       "      <td>Albany</td>\n",
       "    </tr>\n",
       "    <tr>\n",
       "      <th>3</th>\n",
       "      <td>2015-12-06</td>\n",
       "      <td>1.08</td>\n",
       "      <td>78992.15</td>\n",
       "      <td>1132.00</td>\n",
       "      <td>71976.41</td>\n",
       "      <td>72.58</td>\n",
       "      <td>5811.16</td>\n",
       "      <td>conventional</td>\n",
       "      <td>2015</td>\n",
       "      <td>Albany</td>\n",
       "    </tr>\n",
       "    <tr>\n",
       "      <th>4</th>\n",
       "      <td>2015-11-29</td>\n",
       "      <td>1.28</td>\n",
       "      <td>51039.60</td>\n",
       "      <td>941.48</td>\n",
       "      <td>43838.39</td>\n",
       "      <td>75.78</td>\n",
       "      <td>6183.95</td>\n",
       "      <td>conventional</td>\n",
       "      <td>2015</td>\n",
       "      <td>Albany</td>\n",
       "    </tr>\n",
       "    <tr>\n",
       "      <th>5</th>\n",
       "      <td>2015-11-22</td>\n",
       "      <td>1.26</td>\n",
       "      <td>55979.78</td>\n",
       "      <td>1184.27</td>\n",
       "      <td>48067.99</td>\n",
       "      <td>43.61</td>\n",
       "      <td>6683.91</td>\n",
       "      <td>conventional</td>\n",
       "      <td>2015</td>\n",
       "      <td>Albany</td>\n",
       "    </tr>\n",
       "    <tr>\n",
       "      <th>...</th>\n",
       "      <td>...</td>\n",
       "      <td>...</td>\n",
       "      <td>...</td>\n",
       "      <td>...</td>\n",
       "      <td>...</td>\n",
       "      <td>...</td>\n",
       "      <td>...</td>\n",
       "      <td>...</td>\n",
       "      <td>...</td>\n",
       "      <td>...</td>\n",
       "    </tr>\n",
       "    <tr>\n",
       "      <th>9101</th>\n",
       "      <td>2018-01-07</td>\n",
       "      <td>1.13</td>\n",
       "      <td>36703156.72</td>\n",
       "      <td>13730992.75</td>\n",
       "      <td>10781339.21</td>\n",
       "      <td>677714.86</td>\n",
       "      <td>11513109.90</td>\n",
       "      <td>conventional</td>\n",
       "      <td>2018</td>\n",
       "      <td>TotalUS</td>\n",
       "    </tr>\n",
       "    <tr>\n",
       "      <th>9110</th>\n",
       "      <td>2018-01-28</td>\n",
       "      <td>1.01</td>\n",
       "      <td>7007265.31</td>\n",
       "      <td>2718390.81</td>\n",
       "      <td>1664995.75</td>\n",
       "      <td>93165.88</td>\n",
       "      <td>2530712.87</td>\n",
       "      <td>conventional</td>\n",
       "      <td>2018</td>\n",
       "      <td>West</td>\n",
       "    </tr>\n",
       "    <tr>\n",
       "      <th>9111</th>\n",
       "      <td>2018-01-21</td>\n",
       "      <td>1.04</td>\n",
       "      <td>7053820.12</td>\n",
       "      <td>2218365.17</td>\n",
       "      <td>1811849.78</td>\n",
       "      <td>106001.28</td>\n",
       "      <td>2917603.89</td>\n",
       "      <td>conventional</td>\n",
       "      <td>2018</td>\n",
       "      <td>West</td>\n",
       "    </tr>\n",
       "    <tr>\n",
       "      <th>9112</th>\n",
       "      <td>2018-01-14</td>\n",
       "      <td>1.05</td>\n",
       "      <td>7577456.14</td>\n",
       "      <td>2249412.86</td>\n",
       "      <td>2028819.77</td>\n",
       "      <td>113257.03</td>\n",
       "      <td>3185966.48</td>\n",
       "      <td>conventional</td>\n",
       "      <td>2018</td>\n",
       "      <td>West</td>\n",
       "    </tr>\n",
       "    <tr>\n",
       "      <th>9113</th>\n",
       "      <td>2018-01-07</td>\n",
       "      <td>1.08</td>\n",
       "      <td>6358768.95</td>\n",
       "      <td>2061960.91</td>\n",
       "      <td>1706532.52</td>\n",
       "      <td>108441.55</td>\n",
       "      <td>2481833.97</td>\n",
       "      <td>conventional</td>\n",
       "      <td>2018</td>\n",
       "      <td>West</td>\n",
       "    </tr>\n",
       "  </tbody>\n",
       "</table>\n",
       "<p>6441 rows × 10 columns</p>\n",
       "</div>"
      ],
      "text/plain": [
       "           Date  AveragePrice  Total Volume        Small       Medium  \\\n",
       "0    2015-12-27          1.33      64236.62      1036.74     54454.85   \n",
       "1    2015-12-20          1.35      54876.98       674.28     44638.81   \n",
       "3    2015-12-06          1.08      78992.15      1132.00     71976.41   \n",
       "4    2015-11-29          1.28      51039.60       941.48     43838.39   \n",
       "5    2015-11-22          1.26      55979.78      1184.27     48067.99   \n",
       "...         ...           ...           ...          ...          ...   \n",
       "9101 2018-01-07          1.13   36703156.72  13730992.75  10781339.21   \n",
       "9110 2018-01-28          1.01    7007265.31   2718390.81   1664995.75   \n",
       "9111 2018-01-21          1.04    7053820.12   2218365.17   1811849.78   \n",
       "9112 2018-01-14          1.05    7577456.14   2249412.86   2028819.77   \n",
       "9113 2018-01-07          1.08    6358768.95   2061960.91   1706532.52   \n",
       "\n",
       "          Large   Total Bags          type  year   region  \n",
       "0         48.16      8696.87  conventional  2015   Albany  \n",
       "1         58.33      9505.56  conventional  2015   Albany  \n",
       "3         72.58      5811.16  conventional  2015   Albany  \n",
       "4         75.78      6183.95  conventional  2015   Albany  \n",
       "5         43.61      6683.91  conventional  2015   Albany  \n",
       "...         ...          ...           ...   ...      ...  \n",
       "9101  677714.86  11513109.90  conventional  2018  TotalUS  \n",
       "9110   93165.88   2530712.87  conventional  2018     West  \n",
       "9111  106001.28   2917603.89  conventional  2018     West  \n",
       "9112  113257.03   3185966.48  conventional  2018     West  \n",
       "9113  108441.55   2481833.97  conventional  2018     West  \n",
       "\n",
       "[6441 rows x 10 columns]"
      ]
     },
     "execution_count": 17,
     "metadata": {},
     "output_type": "execute_result"
    }
   ],
   "source": [
    "# first slice the dataframe to include only the conventional type\n",
    "\n",
    "conventional_type = avocado_df[(avocado_df[\"type\"] == \"conventional\") & (avocado_df[\"AveragePrice\"] > 1.0)]\n",
    "conventional_type"
   ]
  },
  {
   "cell_type": "code",
   "execution_count": 39,
   "id": "c53d6722",
   "metadata": {},
   "outputs": [
    {
     "data": {
      "text/plain": [
       "6441"
      ]
     },
     "execution_count": 39,
     "metadata": {},
     "output_type": "execute_result"
    }
   ],
   "source": [
    "conventional_type.shape[0]"
   ]
  },
  {
   "cell_type": "code",
   "execution_count": 18,
   "id": "65aea99f",
   "metadata": {},
   "outputs": [
    {
     "name": "stdout",
     "output_type": "stream",
     "text": [
      "There are 6441 conventional type of Avocado with Average price more than 1 dollar\n"
     ]
    }
   ],
   "source": [
    "print(f\"There are {conventional_type.shape[0]} conventional type of Avocado with Average price more than 1 dollar\")"
   ]
  },
  {
   "cell_type": "markdown",
   "id": "2b279d8a",
   "metadata": {},
   "source": [
    "##### What is the total number of Avocado types observed over the year?"
   ]
  },
  {
   "cell_type": "code",
   "execution_count": 19,
   "id": "34e773e3",
   "metadata": {},
   "outputs": [
    {
     "data": {
      "image/png": "[encoded data removed]",
      "text/plain": [
       "<Figure size 360x360 with 1 Axes>"
      ]
     },
     "metadata": {
      "needs_background": "light"
     },
     "output_type": "display_data"
    }
   ],
   "source": [
    "ax = sns.catplot(x = \"type\",\n",
    "                data = avocado_df,\n",
    "                kind = \"count\",\n",
    "                )\n",
    "# ax.set_xlabels(\"Region\")\n",
    "# ax.set_ylabels(\"Price\")\n",
    "ax.set_xticklabels(rotation=90)\n",
    "plt.title(\"Frequency of Avocado type\")\n",
    "plt.show()"
   ]
  },
  {
   "cell_type": "markdown",
   "id": "80bfd38f",
   "metadata": {},
   "source": [
    "##### Average Price distribution"
   ]
  },
  {
   "cell_type": "code",
   "execution_count": 20,
   "id": "3bf75a88",
   "metadata": {},
   "outputs": [
    {
     "data": {
      "image/png": "[encoded data removed]",
      "text/plain": [
       "<Figure size 432x288 with 1 Axes>"
      ]
     },
     "metadata": {
      "needs_background": "light"
     },
     "output_type": "display_data"
    }
   ],
   "source": [
    "ax = sns.histplot(x = \"AveragePrice\",\n",
    "                data = avocado_df,\n",
    "                )\n",
    "# ax.set_xlabels(\"Region\")\n",
    "# ax.set_ylabels(\"Price\")\n",
    "plt.title(\"Average Price Distribution\")\n",
    "plt.show()"
   ]
  },
  {
   "cell_type": "markdown",
   "id": "d620b72a",
   "metadata": {},
   "source": [
    "##### Total Volume distribution"
   ]
  },
  {
   "cell_type": "code",
   "execution_count": 21,
   "id": "902a975b",
   "metadata": {},
   "outputs": [
    {
     "data": {
      "image/png": "[encoded data removed]",
      "text/plain": [
       "<Figure size 432x288 with 1 Axes>"
      ]
     },
     "metadata": {
      "needs_background": "light"
     },
     "output_type": "display_data"
    }
   ],
   "source": [
    "ax = sns.histplot(x = \"Total Volume\",\n",
    "                data = avocado_df,\n",
    "                )\n",
    "# ax.set_xlabels(\"Region\")\n",
    "# ax.set_ylabels(\"Price\")\n",
    "plt.title(\"Total Volume Distribution\")\n",
    "plt.show()"
   ]
  },
  {
   "cell_type": "markdown",
   "id": "7e89a3c0",
   "metadata": {},
   "source": [
    "The volume is heavely skewed to the right (positive skewness). Performing inferential analysis or fitting a machine learning model on this kind of data could negatively imoact the results. Some sort of Transformation will be needed to get the data in shape after the EDA step."
   ]
  },
  {
   "cell_type": "code",
   "execution_count": 22,
   "id": "2f7e38c3",
   "metadata": {},
   "outputs": [
    {
     "data": {
      "image/png": "[encoded data removed]",
      "text/plain": [
       "<Figure size 432x288 with 1 Axes>"
      ]
     },
     "metadata": {
      "needs_background": "light"
     },
     "output_type": "display_data"
    }
   ],
   "source": [
    "# total volume log transformed\n",
    "ax = sns.histplot(x = \"Total Volume\",\n",
    "                data = avocado_df,\n",
    "                log_scale=True\n",
    "                )\n",
    "# ax.set_xlabels(\"Region\")\n",
    "# ax.set_ylabels(\"Price\")\n",
    "plt.title(\"Total Volume Distribution Transformed\")\n",
    "plt.show()"
   ]
  },
  {
   "cell_type": "markdown",
   "id": "f477dc0d",
   "metadata": {},
   "source": [
    "##### Which region have the lowest and highest prices of Avocado?"
   ]
  },
  {
   "cell_type": "code",
   "execution_count": 42,
   "id": "1190f681",
   "metadata": {},
   "outputs": [
    {
     "data": {
      "image/png": "[encoded data removed]",
      "text/plain": [
       "<Figure size 842.4x595.44 with 1 Axes>"
      ]
     },
     "metadata": {
      "needs_background": "light"
     },
     "output_type": "display_data"
    }
   ],
   "source": [
    "# group by region and get the total average price per region\n",
    "price_by_region = avocado_df.groupby('region')[\"AveragePrice\"].sum()\n",
    "\n",
    "# reset the index to make a df\n",
    "price_by_region = price_by_region.reset_index()\n",
    "\n",
    "#sort to get the highest and the lowest\n",
    "price_by_region_sorted = price_by_region.sort_values(by=\"AveragePrice\", ascending=False)\n",
    "#print(price_by_region_sorted)\n",
    "\n",
    "\n",
    "#make a bar plot\n",
    "#plt.subplots(figsize=(15,5))\n",
    "ax = sns.catplot(x = \"region\",\n",
    "                y = \"AveragePrice\",\n",
    "                data = price_by_region_sorted,\n",
    "                kind = \"bar\",\n",
    "                height=8.27, aspect=11.7/8.27)\n",
    "ax.set_xlabels(\"Region\")\n",
    "ax.set_ylabels(\"Price\")\n",
    "ax.set_xticklabels(rotation=90)\n",
    "plt.title(\"Total Average Price ($) by region\")\n",
    "plt.show()"
   ]
  },
  {
   "cell_type": "markdown",
   "id": "4d9e3086",
   "metadata": {},
   "source": [
    "We can see that HartfordSpringfield\thas the highest Total Average Price while Houston has the lowest. We can further confirm the lowest price region to be sure that we are interpreting the chart correctly"
   ]
  },
  {
   "cell_type": "code",
   "execution_count": 45,
   "id": "b58f3786",
   "metadata": {},
   "outputs": [
    {
     "data": {
      "text/html": [
       "<div>\n",
       "<style scoped>\n",
       "    .dataframe tbody tr th:only-of-type {\n",
       "        vertical-align: middle;\n",
       "    }\n",
       "\n",
       "    .dataframe tbody tr th {\n",
       "        vertical-align: top;\n",
       "    }\n",
       "\n",
       "    .dataframe thead th {\n",
       "        text-align: right;\n",
       "    }\n",
       "</style>\n",
       "<table border=\"1\" class=\"dataframe\">\n",
       "  <thead>\n",
       "    <tr style=\"text-align: right;\">\n",
       "      <th></th>\n",
       "      <th>region</th>\n",
       "      <th>AveragePrice</th>\n",
       "    </tr>\n",
       "  </thead>\n",
       "  <tbody>\n",
       "    <tr>\n",
       "      <th>18</th>\n",
       "      <td>Houston</td>\n",
       "      <td>354.2</td>\n",
       "    </tr>\n",
       "  </tbody>\n",
       "</table>\n",
       "</div>"
      ],
      "text/plain": [
       "     region  AveragePrice\n",
       "18  Houston         354.2"
      ]
     },
     "execution_count": 45,
     "metadata": {},
     "output_type": "execute_result"
    }
   ],
   "source": [
    "price_by_region_sorted.tail(1)"
   ]
  },
  {
   "cell_type": "code",
   "execution_count": 91,
   "id": "2f219cd7",
   "metadata": {},
   "outputs": [
    {
     "name": "stdout",
     "output_type": "stream",
     "text": [
      "The region with the lowest price is Houston\n"
     ]
    }
   ],
   "source": [
    "lowest_price_region = price_by_region_sorted['region'].iloc[-1]\n",
    "print(f\"The region with the lowest price is {lowest_price_region}\")"
   ]
  },
  {
   "cell_type": "markdown",
   "id": "5302657a",
   "metadata": {},
   "source": [
    "##### What is the average avocado prices in each year?"
   ]
  },
  {
   "cell_type": "code",
   "execution_count": 92,
   "id": "d5205cd6",
   "metadata": {},
   "outputs": [
    {
     "data": {
      "image/png": "[encoded data removed]",
      "text/plain": [
       "<Figure size 540x432 with 1 Axes>"
      ]
     },
     "metadata": {
      "needs_background": "light"
     },
     "output_type": "display_data"
    }
   ],
   "source": [
    "# group by region and get the total average price per region\n",
    "price_by_year = avocado_df.groupby('year')[\"AveragePrice\"].sum()\n",
    "\n",
    "# reset the index to make a df\n",
    "price_by_year = price_by_year.reset_index()\n",
    "\n",
    "#sort to get the highest and the lowest\n",
    "price_by_year_sorted = price_by_year.sort_values(by=\"AveragePrice\", ascending=False)\n",
    "#print(price_by_region_sorted)\n",
    "\n",
    "\n",
    "#make a bar plot\n",
    "#plt.subplots(figsize=(15,5))\n",
    "ax = sns.catplot(x = \"year\",\n",
    "                y = \"AveragePrice\",\n",
    "                data = price_by_year_sorted,\n",
    "                kind = \"bar\",\n",
    "                height=6, aspect=1.25)\n",
    "ax.set_xlabels(\"Year\")\n",
    "ax.set_ylabels(\"Price\")\n",
    "#ax.set_xticklabels(rotation=90)\n",
    "plt.title(\"Total Average Price ($) by Year\")\n",
    "plt.show()"
   ]
  },
  {
   "cell_type": "markdown",
   "id": "d4d1a889",
   "metadata": {},
   "source": [
    "##### What is the average avocado volume in each year?"
   ]
  },
  {
   "cell_type": "code",
   "execution_count": 93,
   "id": "56cb5754",
   "metadata": {},
   "outputs": [
    {
     "data": {
      "image/png": "[encoded data removed]",
      "text/plain": [
       "<Figure size 540x432 with 1 Axes>"
      ]
     },
     "metadata": {
      "needs_background": "light"
     },
     "output_type": "display_data"
    }
   ],
   "source": [
    "# group by region and get the total average price per region\n",
    "volume_by_year = (avocado_df.groupby('year')[\"Total Volume\"]\n",
    "                  .sum()\n",
    "                  .reset_index()\n",
    "                  .sort_values(by=\"Total Volume\", ascending=False))\n",
    "\n",
    "\n",
    "#make a bar plot\n",
    "#plt.subplots(figsize=(15,5))\n",
    "ax = sns.catplot(x = \"year\",\n",
    "                y = \"Total Volume\",\n",
    "                data = volume_by_year,\n",
    "                kind = \"bar\",\n",
    "                height=6, aspect=1.25)\n",
    "ax.set_xlabels(\"Year\")\n",
    "ax.set_ylabels(\"Volume\")\n",
    "#ax.set_xticklabels(rotation=90)\n",
    "plt.title(\"Total Avocado Volume ($) by Year\")\n",
    "plt.show()"
   ]
  },
  {
   "cell_type": "markdown",
   "id": "b7dbaf12",
   "metadata": {},
   "source": [
    "##### What is the pattern of Avocado price over the years?"
   ]
  },
  {
   "cell_type": "code",
   "execution_count": 109,
   "id": "d9478931",
   "metadata": {},
   "outputs": [
    {
     "data": {
      "image/png": "[encoded data removed]",
      "text/plain": [
       "<Figure size 460.375x360 with 1 Axes>"
      ]
     },
     "metadata": {
      "needs_background": "light"
     },
     "output_type": "display_data"
    }
   ],
   "source": [
    "ax = sns.relplot(x=\"Date\",\n",
    "           y = \"AveragePrice\",\n",
    "           data = avocado_df,\n",
    "           kind = 'line',\n",
    "           hue = 'type',\n",
    "           ci = None)\n",
    "ax.set_xlabels(\"Date\")\n",
    "ax.set_ylabels(\"Price ($)\")\n",
    "ax.set_xticklabels(rotation=90)\n",
    "plt.title(\"Average Price over the years\")\n",
    "plt.show()"
   ]
  },
  {
   "cell_type": "markdown",
   "id": "f5c5bf4f",
   "metadata": {},
   "source": [
    "1. We can see the price was relatively stable in 2015 more than other years. \n",
    "2. A fall in price was recorded between Q4 2015 and Q1 2016.\n",
    "3. There was a price hike in Q4 2016 and a sharp fall in Q1 2017\n",
    "4. Another sharp fall in 2018.\n",
    "\n",
    "Summarily, Avocados hit a high in late summer 2017 with increasing prices during summer/early fall and decreasing prices during the winter months. Also to note, there was a sizable drop in organic prices for July 2015. "
   ]
  },
  {
   "cell_type": "markdown",
   "id": "f1d472d7",
   "metadata": {},
   "source": [
    "##### What is the average price movement for each Avocado type in the first three Quarters of 2017?"
   ]
  },
  {
   "cell_type": "code",
   "execution_count": 105,
   "id": "f1388458",
   "metadata": {},
   "outputs": [
    {
     "data": {
      "image/png": "[encoded data removed]",
      "text/plain": [
       "<Figure size 460.375x360 with 1 Axes>"
      ]
     },
     "metadata": {
      "needs_background": "light"
     },
     "output_type": "display_data"
    }
   ],
   "source": [
    "# slice the dataframe to include obly 2017\n",
    "price_2017 = avocado_df[(avocado_df.Date >= \"2017, 01, 01\") & (avocado_df.Date <= \"2017, 09, 01\")]\n",
    "\n",
    "# make a line plot\n",
    "ax = sns.relplot(x=\"Date\",\n",
    "           y = \"AveragePrice\",\n",
    "           data = price_2017,\n",
    "           kind = 'line',\n",
    "           hue = 'type',\n",
    "           ci = None)\n",
    "ax.set_xlabels(\"Date\")\n",
    "ax.set_ylabels(\"Price\")\n",
    "ax.set_xticklabels(rotation=90)\n",
    "plt.title(\"Quarter 1-3 Average Price Movt. in 2017\")\n",
    "plt.show()"
   ]
  },
  {
   "cell_type": "markdown",
   "id": "0cd1b584",
   "metadata": {},
   "source": [
    "##### What is the monthly average price of Avocado?"
   ]
  },
  {
   "cell_type": "code",
   "execution_count": 49,
   "id": "ad5fd534",
   "metadata": {},
   "outputs": [
    {
     "data": {
      "image/png": "[encoded data removed]",
      "text/plain": [
       "<Figure size 360x360 with 1 Axes>"
      ]
     },
     "metadata": {
      "needs_background": "light"
     },
     "output_type": "display_data"
    }
   ],
   "source": [
    "#let's extract the month and the day from the Date\n",
    "\n",
    "avocado_df[\"Month\"] = avocado_df.Date.dt.month_name()\n",
    "#avocado_df[\"Month\"] = avocado_df.avocado_df[\"Month\"].dt.month_name()\n",
    "\n",
    "ax = sns.relplot(x=\"Month\",\n",
    "           y = \"AveragePrice\",\n",
    "           data = avocado_df,\n",
    "           kind = 'line',\n",
    "           ci = None)\n",
    "ax.set_xlabels(\"Date\")\n",
    "ax.set_ylabels(\"Price\")\n",
    "ax.set_xticklabels(rotation=90)\n",
    "plt.title(\"Monthly Average Price ($)\")\n",
    "plt.show()"
   ]
  },
  {
   "cell_type": "code",
   "execution_count": 51,
   "id": "0d2b59a9",
   "metadata": {},
   "outputs": [
    {
     "data": {
      "image/png": "[encoded data removed]",
      "text/plain": [
       "<Figure size 360x360 with 1 Axes>"
      ]
     },
     "metadata": {
      "needs_background": "light"
     },
     "output_type": "display_data"
    }
   ],
   "source": [
    "ax = sns.catplot(x=\"Month\",\n",
    "           y = \"AveragePrice\",\n",
    "           data = avocado_df,\n",
    "           kind = 'bar')\n",
    "ax.set_xlabels(\"Date\")\n",
    "ax.set_ylabels(\"Price\")\n",
    "ax.set_xticklabels(rotation=90)\n",
    "plt.title(\"Monthly Average Price ($)\")\n",
    "plt.show()"
   ]
  },
  {
   "cell_type": "markdown",
   "id": "3c8d3edd",
   "metadata": {},
   "source": [
    "##### What is the relationship between average price and Total volume for each type"
   ]
  },
  {
   "cell_type": "code",
   "execution_count": 28,
   "id": "c1a83db9",
   "metadata": {},
   "outputs": [
    {
     "data": {
      "image/png": "[encoded data removed]",
      "text/plain": [
       "<Figure size 432x288 with 1 Axes>"
      ]
     },
     "metadata": {
      "needs_background": "light"
     },
     "output_type": "display_data"
    }
   ],
   "source": [
    "# use scatter plot here price vs volume\n",
    "\n",
    "ax = sns.scatterplot(x=\"Total Volume\",\n",
    "           y = \"AveragePrice\",\n",
    "           data = avocado_df,\n",
    "                )\n",
    "plt.title(\"Average Price ($) vs Total volume\")\n",
    "plt.show()"
   ]
  },
  {
   "cell_type": "markdown",
   "id": "14eff241",
   "metadata": {},
   "source": [
    "##### Avocado Sales volume by month"
   ]
  },
  {
   "cell_type": "code",
   "execution_count": null,
   "id": "31159343",
   "metadata": {},
   "outputs": [],
   "source": [
    "#bar chart; month vs total volume"
   ]
  },
  {
   "cell_type": "code",
   "execution_count": null,
   "id": "35a152bd",
   "metadata": {},
   "outputs": [],
   "source": []
  },
  {
   "cell_type": "code",
   "execution_count": null,
   "id": "84b9895a",
   "metadata": {},
   "outputs": [],
   "source": []
  },
  {
   "cell_type": "code",
   "execution_count": null,
   "id": "4dde101d",
   "metadata": {},
   "outputs": [],
   "source": []
  },
  {
   "cell_type": "code",
   "execution_count": null,
   "id": "3bfa22dd",
   "metadata": {},
   "outputs": [],
   "source": []
  },
  {
   "cell_type": "markdown",
   "id": "205c8c1c",
   "metadata": {},
   "source": [
    "## Mini Project: Exploratory Data Analysis\n",
    "\n",
    "The information on the Internet is truly unending. E-commerce and review websites are teeming with untapped data that has the potential to be transformed into insightful knowledge that can support sound decision-making. In this project, you are going to use your knowledge of EDA to dig dip into the Google Playstore dataset. The Play Store apps data has enormous potential to drive app-making businesses to success. Actionable insights can be drawn for developers to work on and capture the Android market. You can grab the dataset here https://www.kaggle.com/datasets/lava18/google-play-store-apps \n",
    "\n",
    "NOTE: You have to register on this site before you can have access to the data. After grabbing the data, use it to answer the questions below."
   ]
  },
  {
   "cell_type": "markdown",
   "id": "6f2cda87",
   "metadata": {},
   "source": [
    "1. Collect the basic information about your data (ensure you check for missing values and treat them appropriately. You should also clean up the data.\n",
    "2. What category has the most app?\n",
    "3. What are the number of apps with 4+ star rating\n",
    "4. What are the top 4 choice apps for teenagers? Display the ratings of the Apps with the appropriate chart\n",
    "5. What are the top 5 apps prefered by teengers in the Adventure category?\n",
    "6. What is the most expensive app in the playstore?\n",
    "7. What is the average rating per category? Dispay the top ten apps with respect to their average ratings\n",
    "8. Using Pivot table, find the average rating and highest price per category\n",
    "9. What is the percentage market share of each app by category? Visualize the output using the appropriate chart\n",
    "10. How is the installation distributed? "
   ]
  },
  {
   "cell_type": "code",
   "execution_count": 54,
   "id": "d6c45d43",
   "metadata": {},
   "outputs": [
    {
     "data": {
      "text/plain": [
       "{'Kwara': 'Ilorin', 'Lagos': 'Ikeja', 'Osun': 'Osogbo', 'Kogi': 'Lokoja'}"
      ]
     },
     "execution_count": 54,
     "metadata": {},
     "output_type": "execute_result"
    }
   ],
   "source": [
    "state_dict = {\"Kwara\":\"Ilorin\",\n",
    "             \"Lagos\":\"Ikeja\",\n",
    "             \"Osun\":\"Osogbo\",\n",
    "             \"Kogi\":\"Lokoja\"}\n",
    "state_dict"
   ]
  },
  {
   "cell_type": "code",
   "execution_count": 55,
   "id": "5b269980",
   "metadata": {},
   "outputs": [
    {
     "data": {
      "text/plain": [
       "dict_keys(['Kwara', 'Lagos', 'Osun', 'Kogi'])"
      ]
     },
     "execution_count": 55,
     "metadata": {},
     "output_type": "execute_result"
    }
   ],
   "source": [
    "state_dict.keys()"
   ]
  },
  {
   "cell_type": "code",
   "execution_count": 56,
   "id": "267ce532",
   "metadata": {},
   "outputs": [
    {
     "data": {
      "text/plain": [
       "dict_values(['Ilorin', 'Ikeja', 'Osogbo', 'Lokoja'])"
      ]
     },
     "execution_count": 56,
     "metadata": {},
     "output_type": "execute_result"
    }
   ],
   "source": [
    "state_dict.values()"
   ]
  },
  {
   "cell_type": "code",
   "execution_count": 57,
   "id": "b4f5ffc4",
   "metadata": {},
   "outputs": [
    {
     "data": {
      "text/plain": [
       "{'Sheriff': 78, 'Ademola': 24}"
      ]
     },
     "execution_count": 57,
     "metadata": {},
     "output_type": "execute_result"
    }
   ],
   "source": [
    "student_dict = {\"Sheriff\": 78,\n",
    "               \"Ademola\": 24}\n",
    "student_dict"
   ]
  },
  {
   "cell_type": "code",
   "execution_count": 58,
   "id": "2b9420b2",
   "metadata": {},
   "outputs": [],
   "source": [
    "student_dict_extended = {\"Js one\": [13, 17, 18,15],\n",
    "                        \"Js Two\": [17, 13, 16, 18]}"
   ]
  },
  {
   "cell_type": "code",
   "execution_count": 59,
   "id": "ac3f8024",
   "metadata": {},
   "outputs": [
    {
     "data": {
      "text/plain": [
       "{'Js one': [13, 17, 18, 15], 'Js Two': [17, 13, 16, 18]}"
      ]
     },
     "execution_count": 59,
     "metadata": {},
     "output_type": "execute_result"
    }
   ],
   "source": [
    "student_dict_extended "
   ]
  },
  {
   "cell_type": "code",
   "execution_count": null,
   "id": "dfcd5cfd",
   "metadata": {},
   "outputs": [],
   "source": []
  }
 ],
 "metadata": {
  "kernelspec": {
   "display_name": "Python 3 (ipykernel)",
   "language": "python",
   "name": "python3"
  },
  "language_info": {
   "codemirror_mode": {
    "name": "ipython",
    "version": 3
   },
   "file_extension": ".py",
   "mimetype": "text/x-python",
   "name": "python",
   "nbconvert_exporter": "python",
   "pygments_lexer": "ipython3",
   "version": "3.9.12"
  }
 },
 "nbformat": 4,
 "nbformat_minor": 5
}
