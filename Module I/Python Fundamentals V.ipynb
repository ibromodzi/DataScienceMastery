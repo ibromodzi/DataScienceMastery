{
 "cells": [
  {
   "cell_type": "markdown",
   "id": "16682ccb",
   "metadata": {},
   "source": [
    "### WORKING WITH FILES"
   ]
  },
  {
   "cell_type": "markdown",
   "id": "33430f49",
   "metadata": {},
   "source": [
    "__File Handling in Python__\n",
    "\n",
    "Python provides several ways to interact with files, allowing you to read from and write to files.\n",
    "\n",
    "__Why File Handling?__\n",
    "\n",
    "File handling is essential for working with external data and storing information persistently.\n",
    "It enables reading and processing large datasets, working with configuration files, logging data, and more."
   ]
  },
  {
   "cell_type": "code",
   "execution_count": 12,
   "id": "8a0b1b1f",
   "metadata": {},
   "outputs": [],
   "source": [
    "#file_object = open('file_name', 'mode')"
   ]
  },
  {
   "cell_type": "markdown",
   "id": "44430ad8",
   "metadata": {},
   "source": [
    "### Creating a file"
   ]
  },
  {
   "cell_type": "code",
   "execution_count": 10,
   "id": "ff37c356",
   "metadata": {},
   "outputs": [],
   "source": [
    "file = open(\"newfile.txt\", \"x\")\n",
    "# content = file.read()\n",
    "# print(content)\n",
    "# file.close()"
   ]
  },
  {
   "cell_type": "markdown",
   "id": "109f16a9",
   "metadata": {},
   "source": [
    "The 'x' mode tells the interpreter to create a file if it doesn't exist. If it does, we'll run into errors"
   ]
  },
  {
   "cell_type": "markdown",
   "id": "8716e9f3",
   "metadata": {},
   "source": [
    "### Reading from file"
   ]
  },
  {
   "cell_type": "code",
   "execution_count": 12,
   "id": "d9ce9cce",
   "metadata": {},
   "outputs": [
    {
     "name": "stdout",
     "output_type": "stream",
     "text": [
      "Welcome to the File Handling in Python Tutorial!\n",
      "\n",
      "File handling in Python allows you to work with files, read their contents, write new data, and perform various operations on them. It provides convenient methods and functions to interact with files in different modes.\n",
      "\n",
      "In this tutorial, we will cover the following topics:\n",
      "- Opening and closing files\n",
      "- Reading file contents\n",
      "- Writing to files\n",
      "- Appending to files\n",
      "- Renaming and deleting files\n",
      "- Working with file paths\n",
      "- Handling exceptions while working with files\n",
      "\n",
      "Whether you need to read data from a file, write data to a file, or perform file-related operations, Python's file handling capabilities make it easy and efficient.\n",
      "\n",
      "Stay tuned for the upcoming sections where we dive deeper into each topic and explore practical examples of file handling in Python.\n",
      "\n",
      "Happy learning!\n",
      "\n"
     ]
    }
   ],
   "source": [
    "file = open(\"ourfile.txt\", \"r\")\n",
    "content = file.read()\n",
    "print(content)\n",
    "file.close()"
   ]
  },
  {
   "cell_type": "code",
   "execution_count": 13,
   "id": "90c0d9e1",
   "metadata": {},
   "outputs": [
    {
     "name": "stdout",
     "output_type": "stream",
     "text": [
      "Python is a general purpose, high level programming language that was developed by Guido van Rossum in the late 1980s.\n",
      "\n",
      "Like all high level programming languages, Python code resembles the English language which computers are unable to understand. \n",
      "\n",
      "\n",
      "For the computer to understand the codes, it has to be interpreted by a special piece of software known as interpreter which must be installed before we can code, text and execute our python programs.\n"
     ]
    }
   ],
   "source": [
    "file = open(\"myfile.txt\", \"r\")\n",
    "content = file.read()\n",
    "print(content)\n",
    "file.close()"
   ]
  },
  {
   "cell_type": "code",
   "execution_count": 14,
   "id": "56e3c91e",
   "metadata": {},
   "outputs": [
    {
     "name": "stdout",
     "output_type": "stream",
     "text": [
      "Python is a general purpose, high level programming language that was developed by Guido van Rossum in the late 1980s.\n",
      "\n"
     ]
    }
   ],
   "source": [
    "f = open(\"myfile.txt\", 'r')\n",
    "\n",
    "firstline = f.readline()\n",
    "secondline = f.readline() # second line contains space\n",
    "thirdline = f.readline()\n",
    "print(firstline)\n",
    "#print(thirdline)\n",
    "f.close()"
   ]
  },
  {
   "cell_type": "markdown",
   "id": "012f81f6",
   "metadata": {},
   "source": [
    "In addition to using the readline() method above to read a text file, we\n",
    "\tcan also use a for loop. In fact, the for loop is a more elegant and\n",
    "\tefficient way to read text files. The following program shows how this is\n",
    "\tdone."
   ]
  },
  {
   "cell_type": "code",
   "execution_count": 19,
   "id": "badbe88e",
   "metadata": {},
   "outputs": [
    {
     "name": "stdout",
     "output_type": "stream",
     "text": [
      "Hello - World\n"
     ]
    }
   ],
   "source": [
    "print(\"Hello\", end= \" - \")\n",
    "print(\"World\")"
   ]
  },
  {
   "cell_type": "code",
   "execution_count": 22,
   "id": "8bfec52a",
   "metadata": {},
   "outputs": [
    {
     "name": "stdout",
     "output_type": "stream",
     "text": [
      "Python is a general purpose, high level programming language that was developed by Guido van Rossum in the late 1980s.\n",
      "\n",
      "Like all high level programming languages, Python code resembles the English language which computers are unable to understand. \n",
      "\n",
      "\n",
      "For the computer to understand the codes, it has to be interpreted by a special piece of software known as interpreter which must be installed before we can code, text and execute our python programs."
     ]
    }
   ],
   "source": [
    "f = open('myfile.txt', 'r')\n",
    "for line in f:\n",
    "    print(line, end = '')"
   ]
  },
  {
   "cell_type": "code",
   "execution_count": 23,
   "id": "4e541613",
   "metadata": {},
   "outputs": [
    {
     "name": "stdout",
     "output_type": "stream",
     "text": [
      "Python is a general purpose, high level programming language that was developed by Guido van Rossum in the late 1980s.\n",
      "\n",
      "Like all high level programming languages, Python code resembles the English language which computers are unable to understand. \n",
      "\n",
      "\n",
      "For the computer to understand the codes, it has to be interpreted by a special piece of software known as interpreter which must be installed before we can code, text and execute our python programs."
     ]
    }
   ],
   "source": [
    "with open('myfile.txt', 'r') as f:\n",
    "    for line in f:\n",
    "        print(line, end = '')"
   ]
  },
  {
   "cell_type": "code",
   "execution_count": 25,
   "id": "282c84ad",
   "metadata": {},
   "outputs": [
    {
     "name": "stdout",
     "output_type": "stream",
     "text": [
      "Like all high level programming languages, Python code resembles the English language which computers are unable to understand. \n",
      "\n"
     ]
    }
   ],
   "source": [
    "with open('myfile.txt', 'r') as f:\n",
    "    for idx, line in enumerate(f):\n",
    "        #print(line, end = '')\n",
    "        if idx == 2:\n",
    "            print(line)\n",
    "        #print(len(line))"
   ]
  },
  {
   "cell_type": "markdown",
   "id": "af6af695",
   "metadata": {},
   "source": [
    "We can also read docx, pdf,excelcsv etc...."
   ]
  },
  {
   "cell_type": "markdown",
   "id": "811f2277",
   "metadata": {},
   "source": [
    "### Writing to a file"
   ]
  },
  {
   "cell_type": "code",
   "execution_count": 26,
   "id": "3dd8f250",
   "metadata": {},
   "outputs": [],
   "source": [
    "message = \"Python is pretty awesome\"\n",
    "file = open(\"newfile.txt\", \"w\")\n",
    "\n",
    "file.write(message)\n",
    "file.close()"
   ]
  },
  {
   "cell_type": "code",
   "execution_count": 71,
   "id": "708529ed",
   "metadata": {},
   "outputs": [
    {
     "name": "stdout",
     "output_type": "stream",
     "text": [
      "Object-oriented programming is a programming paradigm that provides a means of structuring programs so that properties and behaviors are bundled into individual objects.\n",
      "\n",
      "\n",
      "\n",
      "For instance, an object could represent a person with properties like a name, age, and address and behaviors such as walking, talking, breathing, and running. Or it could represent an email with properties like a recipient list, subject, and body and behaviors like adding attachments and sending.\n",
      "\n",
      "\n",
      "\n",
      "A class is a blueprint for creating class instances. Each class instance will be a unique object of the class and have attributes that are unique to them.\n"
     ]
    }
   ],
   "source": [
    "file  = r\"C:\\Users\\ibrom\\Desktop\\NewFile.txt\"\n",
    "with open(file, \"r\") as myFile:\n",
    "    for line in myFile:\n",
    "        print(line)"
   ]
  },
  {
   "cell_type": "markdown",
   "id": "33bdce92",
   "metadata": {},
   "source": [
    "# Object Oriented Programming"
   ]
  },
  {
   "cell_type": "markdown",
   "id": "4b6fde8d",
   "metadata": {},
   "source": [
    "Object-oriented programming is a programming paradigm that provides a means of structuring programs so that **properties** and **behaviors** are bundled into individual objects.\n",
    "\n",
    "For instance, an object could represent a person with properties like a name, age, and address and behaviors such as walking, talking, breathing, and running. Or it could represent an email with properties like a recipient list, subject, and body and behaviors like adding attachments and sending.\n",
    "\n",
    "A class is a blueprint for creating class instances. Each class instance will be a unique object of the class and have attributes that are unique to them."
   ]
  },
  {
   "cell_type": "markdown",
   "id": "cfb22edd",
   "metadata": {},
   "source": [
    "Suppose we want to model a bank account with support for deposit and withdraw operations. One way to do that is by using global state as shown in the following example."
   ]
  },
  {
   "cell_type": "code",
   "execution_count": 72,
   "id": "7c09badc",
   "metadata": {},
   "outputs": [],
   "source": [
    "balance = 0\n",
    "\n",
    "def deposit_money(amount):\n",
    "    global balance\n",
    "    balance += amount      # same as balance = balance + amount\n",
    "    return balance\n",
    "\n",
    "def withdraw_money(amount):\n",
    "    global balance\n",
    "    balance -= amount      # same as balance = balance - amount\n",
    "    return balance"
   ]
  },
  {
   "cell_type": "code",
   "execution_count": 73,
   "id": "83075a6e",
   "metadata": {},
   "outputs": [
    {
     "data": {
      "text/plain": [
       "800"
      ]
     },
     "execution_count": 73,
     "metadata": {},
     "output_type": "execute_result"
    }
   ],
   "source": [
    "deposit_money(800)"
   ]
  },
  {
   "cell_type": "code",
   "execution_count": 74,
   "id": "90c8fcab",
   "metadata": {},
   "outputs": [
    {
     "data": {
      "text/plain": [
       "450"
      ]
     },
     "execution_count": 74,
     "metadata": {},
     "output_type": "execute_result"
    }
   ],
   "source": [
    "withdraw_money(350)"
   ]
  },
  {
   "cell_type": "markdown",
   "id": "91881eff",
   "metadata": {},
   "source": [
    "The above example is good enough only if we want to have just a single account. Things start getting complicated if want to model multiple accounts.\n",
    "\n",
    "Let's introduce a new Python keyword, __class__, which in essence defines a new data type. We have been using several of Python’s built-in types throughout this course."
   ]
  },
  {
   "cell_type": "code",
   "execution_count": 75,
   "id": "b8120240",
   "metadata": {},
   "outputs": [],
   "source": [
    "class BankAccount:        #CamelCase\n",
    "    pass"
   ]
  },
  {
   "cell_type": "markdown",
   "id": "799f4b03",
   "metadata": {},
   "source": [
    "Class definitions can appear anywhere in a program, but they are usually near the beginning (after the import statements). The syntax rules for a class definition are the same as for other compound statements. There is a header which begins with the keyword, __class__, followed by the name of the class, and ending with a colon.\n",
    "\n",
    "This definition creates a new class called `BankAccount`. The __pass__ statement has no effect; it is only necessary because a compound statement must have something in its body. A docstring could serve the same purpose:"
   ]
  },
  {
   "cell_type": "markdown",
   "id": "54000f37",
   "metadata": {},
   "source": [
    "By creating the `BankAccount` class, we created a new type, also called `BankAccount`. The members of this type are called __instances__ of the type or __objects__. Creating a new instance is called instantiation, and is accomplished by calling the class. Classes, like functions, are callable, and we instantiate a `BankAccount` object by calling the `BankAccount` class:"
   ]
  },
  {
   "cell_type": "code",
   "execution_count": 76,
   "id": "12dcf764",
   "metadata": {},
   "outputs": [
    {
     "name": "stdout",
     "output_type": "stream",
     "text": [
      "<__main__.BankAccount object at 0x000001BFAEFDC370>\n",
      "<__main__.BankAccount object at 0x000001BFAED93550>\n"
     ]
    }
   ],
   "source": [
    "#let's create two class instances i.e bank_1 and bank_2\n",
    "\n",
    "customer_1 = BankAccount()\n",
    "customer_2 = BankAccount()\n",
    "\n",
    "print(customer_1)\n",
    "print(customer_2)"
   ]
  },
  {
   "cell_type": "markdown",
   "id": "b6d82cd6",
   "metadata": {},
   "source": [
    "We see two different objects here having different memory locations"
   ]
  },
  {
   "cell_type": "markdown",
   "id": "2310050a",
   "metadata": {},
   "source": [
    "## Class properties (formally called instance variables)"
   ]
  },
  {
   "cell_type": "code",
   "execution_count": 77,
   "id": "2324464f",
   "metadata": {},
   "outputs": [
    {
     "name": "stdout",
     "output_type": "stream",
     "text": [
      "Kings\n",
      "Abdullah\n"
     ]
    }
   ],
   "source": [
    "# A bank will have ceratin properties such as name, email, liquidity etc.\n",
    "# We can manually set the properties as follows\n",
    "customer_1.name = 'Kings'\n",
    "customer_1.account = 'savings'\n",
    "\n",
    "customer_2.name = 'Abdullah'\n",
    "customer_2.account = 'current'\n",
    "\n",
    "print(customer_1.name)\n",
    "print(customer_2.name)"
   ]
  },
  {
   "cell_type": "markdown",
   "id": "ba02d269",
   "metadata": {},
   "source": [
    "This method of manually setting the class properties is quite time consuming and error prone, Python takes care of this for us by using a special/dunder/magic method called `__init__` . The init method is called constructor in other programming languages like C++.  Constructors are used to initializing the object's state. The task of constructors is to initialize(assign values) to the data members of the class when an object of the class is created"
   ]
  },
  {
   "cell_type": "code",
   "execution_count": 78,
   "id": "f585f72a",
   "metadata": {},
   "outputs": [],
   "source": [
    "class BankAccount:\n",
    "    def __init__(self, name, account):\n",
    "        self.name = name\n",
    "        self.account = account"
   ]
  },
  {
   "cell_type": "code",
   "execution_count": 79,
   "id": "35ef9176",
   "metadata": {},
   "outputs": [],
   "source": [
    "customer_1 = BankAccount(\"Ahmad\", \"Current\")\n",
    "customer_2 = BankAccount(\"Khadijat\", \"Savings\")"
   ]
  },
  {
   "cell_type": "code",
   "execution_count": 80,
   "id": "7839568e",
   "metadata": {},
   "outputs": [
    {
     "name": "stdout",
     "output_type": "stream",
     "text": [
      "Ahmad\n",
      "Khadijat\n",
      "Savings\n"
     ]
    }
   ],
   "source": [
    "print(customer_1.name)\n",
    "print(customer_2.name)        \n",
    "print(customer_2.account)"
   ]
  },
  {
   "cell_type": "markdown",
   "id": "2160fde9",
   "metadata": {},
   "source": [
    "Each time a class instance is created, the init method gets called automatically and sets the properties"
   ]
  },
  {
   "cell_type": "markdown",
   "id": "bc475e22",
   "metadata": {},
   "source": [
    "The __self__ is used to represent the instance of the class. With this keyword, you can access the attributes and methods of the class in python. It binds the attributes with the given arguments."
   ]
  },
  {
   "cell_type": "markdown",
   "id": "8a162820",
   "metadata": {},
   "source": [
    "## Class behaviour/action (formally called method/function)"
   ]
  },
  {
   "cell_type": "code",
   "execution_count": 81,
   "id": "66dadeaf",
   "metadata": {},
   "outputs": [],
   "source": [
    "class BankAccount:\n",
    "    def __init__(self, name, account):\n",
    "        self.name = name\n",
    "        self.account = account\n",
    "        self.balance = 0\n",
    "        \n",
    "    def get_name(self):\n",
    "        '''returns the name of the customer''' #docstring \n",
    "        print(self.name)\n",
    "    \n",
    "    def get_account(self):\n",
    "        '''returns the account type'''\n",
    "        return self.account\n",
    "    def show_balance(self):\n",
    "        print\n",
    "    \n",
    "    def withdraw(self, amount):\n",
    "        self.balance -= amount\n",
    "        return self.balance\n",
    "\n",
    "    def deposit(self, amount):\n",
    "        self.balance += amount\n",
    "        return self.balance"
   ]
  },
  {
   "cell_type": "code",
   "execution_count": 82,
   "id": "2295c052",
   "metadata": {},
   "outputs": [],
   "source": [
    "customer_1 = BankAccount(\"Ja'afar\", \"current\")\n",
    "customer_2 = BankAccount(\"Qudus\", \"savings\")"
   ]
  },
  {
   "cell_type": "code",
   "execution_count": 41,
   "id": "983397a6",
   "metadata": {},
   "outputs": [
    {
     "name": "stdout",
     "output_type": "stream",
     "text": [
      "Ja'afar\n"
     ]
    }
   ],
   "source": [
    "customer_1.get_name()"
   ]
  },
  {
   "cell_type": "code",
   "execution_count": 83,
   "id": "00ec9576",
   "metadata": {},
   "outputs": [
    {
     "data": {
      "text/plain": [
       "'savings'"
      ]
     },
     "execution_count": 83,
     "metadata": {},
     "output_type": "execute_result"
    }
   ],
   "source": [
    "customer_2.get_account()"
   ]
  },
  {
   "cell_type": "code",
   "execution_count": 84,
   "id": "64f529a0",
   "metadata": {},
   "outputs": [
    {
     "data": {
      "text/plain": [
       "250"
      ]
     },
     "execution_count": 84,
     "metadata": {},
     "output_type": "execute_result"
    }
   ],
   "source": [
    "customer_1.deposit(250)"
   ]
  },
  {
   "cell_type": "code",
   "execution_count": 85,
   "id": "42b316bc",
   "metadata": {},
   "outputs": [
    {
     "data": {
      "text/plain": [
       "230"
      ]
     },
     "execution_count": 85,
     "metadata": {},
     "output_type": "execute_result"
    }
   ],
   "source": [
    "customer_1.withdraw(20)"
   ]
  },
  {
   "cell_type": "code",
   "execution_count": 86,
   "id": "b6000945",
   "metadata": {},
   "outputs": [
    {
     "data": {
      "text/plain": [
       "190"
      ]
     },
     "execution_count": 86,
     "metadata": {},
     "output_type": "execute_result"
    }
   ],
   "source": [
    "customer_1.withdraw(40)"
   ]
  },
  {
   "cell_type": "code",
   "execution_count": 87,
   "id": "55042c17",
   "metadata": {},
   "outputs": [
    {
     "data": {
      "text/plain": [
       "100"
      ]
     },
     "execution_count": 87,
     "metadata": {},
     "output_type": "execute_result"
    }
   ],
   "source": [
    "customer_1.withdraw(90)"
   ]
  },
  {
   "cell_type": "code",
   "execution_count": 89,
   "id": "c36e11d2",
   "metadata": {},
   "outputs": [
    {
     "data": {
      "text/plain": [
       "-140"
      ]
     },
     "execution_count": 89,
     "metadata": {},
     "output_type": "execute_result"
    }
   ],
   "source": [
    "customer_1.withdraw(150)"
   ]
  },
  {
   "cell_type": "markdown",
   "id": "70b455a7",
   "metadata": {},
   "source": [
    "We can go on to add more functionalities to our methods such as:\n",
    "* Telling the user the user they have no balance if they attempt to make withdrawal while the balance is zero\n",
    "* Setting a withdrawal limit for the user etc.."
   ]
  },
  {
   "cell_type": "markdown",
   "id": "7cdf7474",
   "metadata": {},
   "source": [
    "## Inheritance"
   ]
  },
  {
   "cell_type": "markdown",
   "id": "2f914ef5",
   "metadata": {},
   "source": [
    "Inheritance is the process by which one class takes on the attributes and methods of another. Newly formed classes are called child classes, and the classes that child classes are derived from are called parent classes."
   ]
  },
  {
   "cell_type": "code",
   "execution_count": 90,
   "id": "77ac0599",
   "metadata": {},
   "outputs": [],
   "source": [
    "import math\n",
    "\n",
    "PI = math.pi\n",
    "\n",
    "\n",
    "class Angles:\n",
    "    \n",
    "    '''\n",
    "    The base class where other classes inherit from\n",
    "    '''\n",
    "    def __init__(self,length,breadth):\n",
    "        self.length = length\n",
    "        self.breadth = breadth\n",
    "        \n",
    "class Rectangle(Angles):\n",
    "          \n",
    "    def calc_area(self):                              #where area is lxb\n",
    "        \n",
    "        area = self.length * self.breadth\n",
    "        return area\n",
    "    \n",
    "    def calc_perimeter(self):                         #where perimeter is 2(l + b)      \n",
    "        \n",
    "        perimeter = 2* (self.length + self.breadth)\n",
    "        return perimeter"
   ]
  },
  {
   "cell_type": "code",
   "execution_count": 91,
   "id": "a767f227",
   "metadata": {},
   "outputs": [],
   "source": [
    "football_pitch = Rectangle(2,3)"
   ]
  },
  {
   "cell_type": "code",
   "execution_count": 92,
   "id": "320f0ba7",
   "metadata": {},
   "outputs": [
    {
     "name": "stdout",
     "output_type": "stream",
     "text": [
      "The area of the football pitch is 6 cm2\n",
      "The perimeter of the football pitch is 10 cm\n"
     ]
    }
   ],
   "source": [
    "print(f\"The area of the football pitch is {football_pitch.calc_area()} cm2\")\n",
    "print(f\"The perimeter of the football pitch is {football_pitch.calc_perimeter()} cm\")"
   ]
  },
  {
   "cell_type": "code",
   "execution_count": 93,
   "id": "68d37fe6",
   "metadata": {},
   "outputs": [
    {
     "data": {
      "text/plain": [
       "175"
      ]
     },
     "execution_count": 93,
     "metadata": {},
     "output_type": "execute_result"
    }
   ],
   "source": [
    "tennis_court  = Rectangle(25,7)\n",
    "tennis_court.calc_area()"
   ]
  },
  {
   "cell_type": "code",
   "execution_count": 94,
   "id": "f5be3664",
   "metadata": {},
   "outputs": [
    {
     "data": {
      "text/plain": [
       "64"
      ]
     },
     "execution_count": 94,
     "metadata": {},
     "output_type": "execute_result"
    }
   ],
   "source": [
    "tennis_court.calc_perimeter()"
   ]
  },
  {
   "cell_type": "code",
   "execution_count": 35,
   "id": "ced2c79b",
   "metadata": {},
   "outputs": [],
   "source": [
    "class Circle:\n",
    "    def __init__(self,radius):\n",
    "        self.radius = radius\n",
    "        \n",
    "    def area(self):                                          #where area is pi x r x r\n",
    "\n",
    "        return (PI * (math.pow(self.radius,2)))\n",
    "    \n",
    "    def circumference(self):\n",
    "        \n",
    "        return (2 * PI * self.radius)                        #where circumference is 2 x pi x r\n"
   ]
  },
  {
   "cell_type": "code",
   "execution_count": 95,
   "id": "2be5d6d1",
   "metadata": {},
   "outputs": [
    {
     "name": "stdout",
     "output_type": "stream",
     "text": [
      "The area of the tennis ball is 28.274333882308138cm2\n",
      "The area of the tennis ball is 18.84955592153876cm\n"
     ]
    }
   ],
   "source": [
    "tennis_ball = Circle(3)\n",
    "print(f\"The area of the tennis ball is {tennis_ball.area()}cm2\")\n",
    "print(f\"The area of the tennis ball is {tennis_ball.circumference()}cm\")"
   ]
  },
  {
   "cell_type": "code",
   "execution_count": 37,
   "id": "7c18350b",
   "metadata": {},
   "outputs": [],
   "source": [
    "class Sector(Circle):                #the class inherits from the circle class\n",
    "    def __init__(self,radius,theta):\n",
    "        super().__init__(radius)    #the circle __init__ method handles the construction of radius for us --DRY--\n",
    "        self.theta = theta\n",
    "        \n",
    "    def area(self):\n",
    "        return ((self.theta/360) * (math.pow(self.radius,self.radius)))"
   ]
  },
  {
   "cell_type": "code",
   "execution_count": 38,
   "id": "d8b9c747",
   "metadata": {},
   "outputs": [
    {
     "name": "stdout",
     "output_type": "stream",
     "text": [
      "The area of the sector is 607.6388888888889 cm2\n"
     ]
    }
   ],
   "source": [
    "sector = Sector(radius=5,theta=70)\n",
    "print(f\"The area of the sector is {sector.area()} cm2\")"
   ]
  },
  {
   "cell_type": "code",
   "execution_count": null,
   "id": "1a442bf7",
   "metadata": {},
   "outputs": [],
   "source": []
  }
 ],
 "metadata": {
  "kernelspec": {
   "display_name": "Python 3 (ipykernel)",
   "language": "python",
   "name": "python3"
  },
  "language_info": {
   "codemirror_mode": {
    "name": "ipython",
    "version": 3
   },
   "file_extension": ".py",
   "mimetype": "text/x-python",
   "name": "python",
   "nbconvert_exporter": "python",
   "pygments_lexer": "ipython3",
   "version": "3.10.9"
  }
 },
 "nbformat": 4,
 "nbformat_minor": 5
}
