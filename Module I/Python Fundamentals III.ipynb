{
 "cells": [
  {
   "cell_type": "markdown",
   "id": "ef85f45b",
   "metadata": {},
   "source": [
    "## Control Structure in Python"
   ]
  },
  {
   "cell_type": "markdown",
   "id": "03e72467",
   "metadata": {},
   "source": [
    "What wehave been delaling with so far is a sequecial execution of instruction in which statements are always performed one after the next, in exactly the order specified. However, the world is much more complicated and our program will often need to skip over some statements, execute a series of statements repetitively, or choose between alternate sets of statements to execute.\n",
    "**A control structure therefore directs the order of execution of the statements in a program in a version referred to as control flow**"
   ]
  },
  {
   "cell_type": "markdown",
   "id": "25108f27",
   "metadata": {},
   "source": [
    "### Booleans and conditionals\n",
    "\n",
    "Booleans accept the values __True__ or __False__ and are named after George Boole. Although the concept underlying Booleans is rather straightforward, they greatly increase the power of programming.\n",
    "\n",
    "For instance, it is helpful to take into account various circumstances when writing programs. If you ask the user a question, you might want to respond in a different way depending on their response.\n",
    "\n",
    "For instance, you might respond differently in response to a rating of 0 or 1 than a rating of 9 or 10. __If__ is the crucial phrase here.\n",
    "\n",
    "Branching is a programming technique that takes into account many circumstances. There is a separate precondition for each branch. __Conditionals__ frequently begin with a __if__ clause and then a __\"otherwise\"__ clause. Booleans decide which branch to take based on whether the given conditions are __True__ or __False.__"
   ]
  },
  {
   "cell_type": "code",
   "execution_count": 1,
   "id": "8fb5651a",
   "metadata": {},
   "outputs": [
    {
     "data": {
      "text/plain": [
       "bool"
      ]
     },
     "execution_count": 1,
     "metadata": {},
     "output_type": "execute_result"
    }
   ],
   "source": [
    "# Let's use a Boolean to classify someone as being overweight using the following code snippet:\n",
    "overweight = True\n",
    "type(overweight)"
   ]
  },
  {
   "cell_type": "markdown",
   "id": "0dfcd8b5",
   "metadata": {},
   "source": [
    "We can see here that the output is satisfied, and the type is mentioned as a Boolean, that is, bool."
   ]
  },
  {
   "cell_type": "code",
   "execution_count": 2,
   "id": "5bc0106a",
   "metadata": {},
   "outputs": [
    {
     "data": {
      "text/plain": [
       "bool"
      ]
     },
     "execution_count": 2,
     "metadata": {},
     "output_type": "execute_result"
    }
   ],
   "source": [
    "# Another program to check if a user is an adult\n",
    "adult = False\n",
    "type(adult)"
   ]
  },
  {
   "cell_type": "markdown",
   "id": "730fc7c8",
   "metadata": {},
   "source": [
    "#### Comparison Operators\n",
    "Comparison operators in Python compare two items, however they can only be applied to comparable items. For instance, two texts or two integers can be compared to see if they are identical. However, it is impossible to compare two objects of different types, such as an integer and a string. An error similar to TypeError: \" not supported between instances of 'int' and'str' is returned if such comparisons are performed. Both variables and constants may be the things being compared."
   ]
  },
  {
   "cell_type": "markdown",
   "id": "dca9200a",
   "metadata": {},
   "source": [
    "*   The “equal to” operator (==)\n",
    "*   The “not equal to” operator. (!=)\n",
    "*   The “less than” operator. (<)\n",
    "*   The “greater than” operator (>)\n",
    "*   The “less than or equal to” operator (<=)\n",
    "*   The “greater than or equal to” operator (>=)"
   ]
  },
  {
   "cell_type": "markdown",
   "id": "605e6c14",
   "metadata": {},
   "source": [
    "#### Logical operators\n",
    "Boolean expressions are assessed using Python's logical operators. They use one or two inputs to perform straightforward Boolean operations, returning either True or False. Even lengthier expressions can be created by chaining together logical operators.\n",
    "Boolean expressions can be created in Python from the three main logical operators.\n",
    "\n",
    "* `and`: This is the Python “logical and” operator. It returns True if both expressions are True and False otherwise.\n",
    "* `or`: The Python “logical or” operator returns True if either expression is True and False otherwise.\n",
    "* `not`: Python’s “logical not” operator returns True only if the expression it is evaluating is False."
   ]
  },
  {
   "attachments": {
    "image.png": {
     "image/png": "[encoded data removed]"
    }
   },
   "cell_type": "markdown",
   "id": "0ea1f273",
   "metadata": {},
   "source": [
    "![image.png](attachment:image.png)"
   ]
  },
  {
   "cell_type": "code",
   "execution_count": 6,
   "id": "0688fd87",
   "metadata": {},
   "outputs": [
    {
     "name": "stdout",
     "output_type": "stream",
     "text": [
      "You are eligible  to participate in the election process\n"
     ]
    }
   ],
   "source": [
    "age = 25\n",
    "year_of_birth = 2000\n",
    "\n",
    "if age > 18: \n",
    "    print(\"You are eligible  to participate in the election process\")\n",
    "else:\n",
    "    print(\"Wait till you are 18\")"
   ]
  },
  {
   "cell_type": "code",
   "execution_count": 7,
   "id": "d27b0465",
   "metadata": {},
   "outputs": [
    {
     "name": "stdout",
     "output_type": "stream",
     "text": [
      "passed\n"
     ]
    }
   ],
   "source": [
    "if age < 18 and year_of_birth < 1990:\n",
    "    print(\"You are dismissed\")\n",
    "else:\n",
    "    print(\"passed\")"
   ]
  },
  {
   "cell_type": "code",
   "execution_count": 6,
   "id": "a5b533a7",
   "metadata": {},
   "outputs": [
    {
     "data": {
      "text/plain": [
       "False"
      ]
     },
     "execution_count": 6,
     "metadata": {},
     "output_type": "execute_result"
    }
   ],
   "source": [
    "False and False"
   ]
  },
  {
   "cell_type": "code",
   "execution_count": 11,
   "id": "671caa50",
   "metadata": {},
   "outputs": [],
   "source": [
    "standard_age = 21\n",
    "user1_age = 29\n",
    "user2_age = 15\n",
    "user3_age = 35\n",
    "user5_age = 15"
   ]
  },
  {
   "cell_type": "markdown",
   "id": "5fd4cddc",
   "metadata": {},
   "source": [
    "The `and` operator verifies whether both expressions are __True__. The expression is True only if both are __True__"
   ]
  },
  {
   "cell_type": "code",
   "execution_count": 12,
   "id": "5130d292",
   "metadata": {},
   "outputs": [
    {
     "data": {
      "text/plain": [
       "True"
      ]
     },
     "execution_count": 12,
     "metadata": {},
     "output_type": "execute_result"
    }
   ],
   "source": [
    "# let's use logical operators to validate the following assumptions\n",
    "(user1_age > standard_age) and (user5_age < standard_age) "
   ]
  },
  {
   "cell_type": "code",
   "execution_count": 13,
   "id": "d5e24856",
   "metadata": {},
   "outputs": [
    {
     "data": {
      "text/plain": [
       "False"
      ]
     },
     "execution_count": 13,
     "metadata": {},
     "output_type": "execute_result"
    }
   ],
   "source": [
    "(user1_age > standard_age) and (user5_age == standard_age)"
   ]
  },
  {
   "cell_type": "code",
   "execution_count": 14,
   "id": "f859e6ab",
   "metadata": {},
   "outputs": [
    {
     "data": {
      "text/plain": [
       "False"
      ]
     },
     "execution_count": 14,
     "metadata": {},
     "output_type": "execute_result"
    }
   ],
   "source": [
    "(user1_age >= user3_age) and (user5_age < standard_age)"
   ]
  },
  {
   "cell_type": "markdown",
   "id": "ed301b84",
   "metadata": {},
   "source": [
    "Let's say you assume the person is an adult or overweight. What is the output?"
   ]
  },
  {
   "cell_type": "code",
   "execution_count": 16,
   "id": "a81f63d2",
   "metadata": {},
   "outputs": [
    {
     "data": {
      "text/plain": [
       "False"
      ]
     },
     "execution_count": 16,
     "metadata": {},
     "output_type": "execute_result"
    }
   ],
   "source": [
    "overweight and adult"
   ]
  },
  {
   "cell_type": "markdown",
   "id": "c8d5c053",
   "metadata": {},
   "source": [
    "For the result of an `or` operator to be __True__, one or both of the expressions must be __True__"
   ]
  },
  {
   "cell_type": "code",
   "execution_count": 12,
   "id": "352bc60e",
   "metadata": {},
   "outputs": [
    {
     "data": {
      "text/plain": [
       "True"
      ]
     },
     "execution_count": 12,
     "metadata": {},
     "output_type": "execute_result"
    }
   ],
   "source": [
    "(user1_age > standard_age) or (user5_age < standard_age)"
   ]
  },
  {
   "cell_type": "code",
   "execution_count": 13,
   "id": "b747b915",
   "metadata": {},
   "outputs": [
    {
     "data": {
      "text/plain": [
       "True"
      ]
     },
     "execution_count": 13,
     "metadata": {},
     "output_type": "execute_result"
    }
   ],
   "source": [
    "(user1_age > standard_age) or (user5_age == standard_age)"
   ]
  },
  {
   "cell_type": "code",
   "execution_count": 14,
   "id": "852bf4fb",
   "metadata": {},
   "outputs": [
    {
     "data": {
      "text/plain": [
       "False"
      ]
     },
     "execution_count": 14,
     "metadata": {},
     "output_type": "execute_result"
    }
   ],
   "source": [
    "(user1_age >= user3_age) or (user5_age == standard_age)"
   ]
  },
  {
   "cell_type": "markdown",
   "id": "9ffcff4a",
   "metadata": {},
   "source": [
    "Let's say you are guessing if the person is an adult or overweight. What is the output?"
   ]
  },
  {
   "cell_type": "code",
   "execution_count": null,
   "id": "26a766eb",
   "metadata": {},
   "outputs": [],
   "source": [
    "overweight or adult"
   ]
  },
  {
   "cell_type": "code",
   "execution_count": 15,
   "id": "930090a8",
   "metadata": {},
   "outputs": [
    {
     "data": {
      "text/plain": [
       "True"
      ]
     },
     "execution_count": 15,
     "metadata": {},
     "output_type": "execute_result"
    }
   ],
   "source": [
    "#Let's assume the individual is not an adult and allow our program to validate the assumption\n",
    "not adult"
   ]
  },
  {
   "cell_type": "code",
   "execution_count": 16,
   "id": "a6161537",
   "metadata": {},
   "outputs": [
    {
     "data": {
      "text/plain": [
       "False"
      ]
     },
     "execution_count": 16,
     "metadata": {},
     "output_type": "execute_result"
    }
   ],
   "source": [
    "not overweight"
   ]
  },
  {
   "cell_type": "markdown",
   "id": "cdb797cc",
   "metadata": {},
   "source": [
    "### Using Boolean Operators in Conditional Statements\n",
    "Conditionals are used when we want to express code based upon a set of circumstances or values. Conditionals evaluate Boolean values or Boolean expressions, and they are usually preceded by 'if'. The most important use case for Boolean operators is for their use in conditional statements. When a Boolean expression evaluates to __True__ or __False__, it can be used to control the flow of a program. Both `if` and `else` statements and `loops` use boolean expressions."
   ]
  },
  {
   "cell_type": "markdown",
   "id": "81b31190",
   "metadata": {},
   "source": [
    "* The **if** statement is the most commonnly used conditional statement in Python and it is used to perform this sort of decision-making. It allows for conditional execution of a statement or group of statements based on the value of an expression."
   ]
  },
  {
   "cell_type": "code",
   "execution_count": 10,
   "id": "aa689142",
   "metadata": {},
   "outputs": [],
   "source": [
    "#if condition is met:\n",
    "#    do A"
   ]
  },
  {
   "cell_type": "markdown",
   "id": "fde25d8c",
   "metadata": {},
   "source": [
    "Let's say we are writing a voting program, and we want to print something only if the user is under 18."
   ]
  },
  {
   "cell_type": "code",
   "execution_count": 17,
   "id": "938364fb",
   "metadata": {},
   "outputs": [
    {
     "name": "stdout",
     "output_type": "stream",
     "text": [
      "You are not old enough to vote\n"
     ]
    }
   ],
   "source": [
    "candidate_age = 15\n",
    "if candidate_age < 18:\n",
    "    print(\"You are not old enough to vote\")"
   ]
  },
  {
   "cell_type": "markdown",
   "id": "a621b98c",
   "metadata": {},
   "source": [
    "The first is the `if` keyword. Most conditionals start with an if clause. Everything between `if` and the colon is the condition that we are checking.\n",
    "\n",
    "The next important piece is the colon :. The colon indicates that the if clause has completed. At this point, the compiler decides whether the preceding condition is __True__ or __False.__\n",
    "\n",
    "Syntactically, everything that follows the colon is indented."
   ]
  },
  {
   "cell_type": "markdown",
   "id": "200cb939",
   "metadata": {},
   "source": [
    "Another program where we check wether applicant's height meets up with the required height in a job screening"
   ]
  },
  {
   "cell_type": "code",
   "execution_count": 18,
   "id": "ffae6b1e",
   "metadata": {},
   "outputs": [
    {
     "name": "stdout",
     "output_type": "stream",
     "text": [
      "You can't apply for this job\n"
     ]
    }
   ],
   "source": [
    "standard_height = 6.0\n",
    "applicant_height = 5.6\n",
    "\n",
    "if applicant_height < standard_height:\n",
    "    print(\"You can't apply for this job\")"
   ]
  },
  {
   "cell_type": "markdown",
   "id": "8c8dc8ff",
   "metadata": {},
   "source": [
    "Let's tell the candidate the number of years they need to wait to be able to vote"
   ]
  },
  {
   "cell_type": "code",
   "execution_count": 24,
   "id": "cec30ca9",
   "metadata": {},
   "outputs": [
    {
     "name": "stdout",
     "output_type": "stream",
     "text": [
      "Enter your age: 21\n"
     ]
    }
   ],
   "source": [
    "voters_age = input(\"Enter your age: \")\n",
    "voters_age = int(voters_age)\n",
    "\n",
    "if voters_age < 18:\n",
    "    # calulate the years in they need to waith substrating their age from 18\n",
    "    waiting_period = 18 - candidate_age\n",
    "    print(f\"You are not old enough to vote, you have to wait {waiting_period} years more before you can vote\")"
   ]
  },
  {
   "cell_type": "code",
   "execution_count": 12,
   "id": "75097125",
   "metadata": {},
   "outputs": [
    {
     "name": "stdout",
     "output_type": "stream",
     "text": [
      "45 is greater than 40\n"
     ]
    }
   ],
   "source": [
    "x = 45\n",
    "y = 40\n",
    "if x > y:\n",
    "    print(f\"{x} is greater than {y}\")"
   ]
  },
  {
   "cell_type": "markdown",
   "id": "72601553",
   "metadata": {},
   "source": [
    "The **else** and **elif** clauses"
   ]
  },
  {
   "cell_type": "markdown",
   "id": "7655230e",
   "metadata": {},
   "source": [
    "`if` conditionals are commonly joined with `else` clauses. The idea is as follows. Say you want to print something to all applicants if their height is not up to what is required. You can address this with an if-else conditional. If the applicant's height is less than standard height, you print one statement. Otherwise, you print another. The otherwise clause is preceded with `else`."
   ]
  },
  {
   "cell_type": "code",
   "execution_count": 15,
   "id": "05dc12fa",
   "metadata": {},
   "outputs": [
    {
     "name": "stdout",
     "output_type": "stream",
     "text": [
      "You may proceed with your application\n"
     ]
    }
   ],
   "source": [
    "standard_height = 6.0\n",
    "applicant_height = 6.1\n",
    "if applicant_height < standard_height:\n",
    "    print(\"You can't apply for this job\")\n",
    "else:\n",
    "    print(\"You may proceed with your application\")"
   ]
  },
  {
   "cell_type": "markdown",
   "id": "f3244090",
   "metadata": {},
   "source": [
    "Let's try to get an input into out voting system this time around"
   ]
  },
  {
   "cell_type": "code",
   "execution_count": 24,
   "id": "c08cac6e",
   "metadata": {},
   "outputs": [
    {
     "name": "stdout",
     "output_type": "stream",
     "text": [
      "Enter your age: 17\n",
      "You are not old enough to vote\n"
     ]
    }
   ],
   "source": [
    "candidate_age = int(input(\"Enter your age: \"))\n",
    "\n",
    "#name = input(\"Enter your name: \")\n",
    "\n",
    "if candidate_age < 18:\n",
    "    print(\"You are not old enough to vote\")\n",
    "else:\n",
    "    print(\"You may proceed with the voting process\")"
   ]
  },
  {
   "cell_type": "code",
   "execution_count": 28,
   "id": "8f7a62c3",
   "metadata": {},
   "outputs": [
    {
     "name": "stdout",
     "output_type": "stream",
     "text": [
      "Enter your name: basit\n",
      "Your name is not known\n"
     ]
    }
   ],
   "source": [
    "name = input(\"Enter your name: \")\n",
    "if name == \"Basit\":\n",
    "    print(\"welcome Basit\")\n",
    "elif name == \"Surur\":\n",
    "    print(\"Welcome Surur\")\n",
    "elif name == \"Abdullah\":\n",
    "    print(\"Hello Abdullah\")\n",
    "else:\n",
    "    print(\"Your name is not known\")"
   ]
  },
  {
   "cell_type": "code",
   "execution_count": 30,
   "id": "d592c8d7",
   "metadata": {},
   "outputs": [
    {
     "name": "stdout",
     "output_type": "stream",
     "text": [
      "Enter your name: basit\n",
      "welcome Basit\n"
     ]
    }
   ],
   "source": [
    "name = input(\"Enter your name: \")\n",
    "name_converetd = name.capitalize()\n",
    "if name_converetd == \"Basit\":\n",
    "    print(\"welcome Basit\")\n",
    "elif name_converetd == \"Surur\":\n",
    "    print(\"Welcome Surur\")\n",
    "elif name_converetd == \"Abdullah\":\n",
    "    print(\"Hello Abdullah\")\n",
    "else:\n",
    "    print(\"Your name is not known\")"
   ]
  },
  {
   "cell_type": "code",
   "execution_count": 34,
   "id": "9705bf8f",
   "metadata": {},
   "outputs": [
    {
     "name": "stdout",
     "output_type": "stream",
     "text": [
      "Which course do you want to study PHYSICS \n",
      "Your chosen course is not availble, please apply somewhere else\n"
     ]
    }
   ],
   "source": [
    "course_of_choice = input(\"Which course do you want to study \").lower()\n",
    "\n",
    "available_courses = ['physics', 'agriculture', 'law', 'medicine', 'accounting']\n",
    "\n",
    "if course_of_choice in available_courses:\n",
    "    print(\"Congratulations, the university offers your course of choice\")\n",
    "else:\n",
    "    print(\"Your chosen course is not availble, please apply somewhere else\")"
   ]
  },
  {
   "cell_type": "markdown",
   "id": "84605865",
   "metadata": {},
   "source": [
    "## Loops and iteration\n",
    "\n",
    "A loop is a statement that contains instructions that repeatedly run until a specific condition is met in a computer language.\n",
    "\n",
    "When a process needs to be repeated numerous times, loops assist us in removing the redundant code. We can reduce those one hundred lines of code to just a few with the help of loops. Consider printing the phrase \"Huray! Python is awesome\" five times. By specifying the number of repetitions required, loops can be used in place of writing a print statement five times."
   ]
  },
  {
   "cell_type": "markdown",
   "id": "03a8c022",
   "metadata": {},
   "source": [
    "### for loop"
   ]
  },
  {
   "cell_type": "markdown",
   "id": "d5c4074a",
   "metadata": {},
   "source": [
    "The for loop executes a \tblock of code\n",
    "\trepeatedly until the condition in the for statement is no longer \tvalid."
   ]
  },
  {
   "cell_type": "markdown",
   "id": "2212be99",
   "metadata": {},
   "source": [
    "Without for loop"
   ]
  },
  {
   "cell_type": "code",
   "execution_count": 35,
   "id": "8a1ab345",
   "metadata": {},
   "outputs": [
    {
     "name": "stdout",
     "output_type": "stream",
     "text": [
      "Huray! Python is awesome\n",
      "Huray! Python is awesome\n",
      "Huray! Python is awesome\n",
      "Huray! Python is awesome\n",
      "Huray! Python is awesome\n"
     ]
    }
   ],
   "source": [
    "print(\"Huray! Python is awesome\")\n",
    "print(\"Huray! Python is awesome\")\n",
    "print(\"Huray! Python is awesome\")\n",
    "print(\"Huray! Python is awesome\")\n",
    "print(\"Huray! Python is awesome\")"
   ]
  },
  {
   "cell_type": "markdown",
   "id": "de349458",
   "metadata": {},
   "source": [
    "With for loop"
   ]
  },
  {
   "cell_type": "code",
   "execution_count": 36,
   "id": "ec80c429",
   "metadata": {},
   "outputs": [
    {
     "name": "stdout",
     "output_type": "stream",
     "text": [
      "Huray! Python is awesome\n",
      "Huray! Python is awesome\n",
      "Huray! Python is awesome\n",
      "Huray! Python is awesome\n",
      "Huray! Python is awesome\n"
     ]
    }
   ],
   "source": [
    "for i in range(5):\n",
    "    print(\"Huray! Python is awesome\")"
   ]
  },
  {
   "cell_type": "code",
   "execution_count": 37,
   "id": "035132be",
   "metadata": {},
   "outputs": [
    {
     "data": {
      "text/plain": [
       "range(0, 10)"
      ]
     },
     "execution_count": 37,
     "metadata": {},
     "output_type": "execute_result"
    }
   ],
   "source": [
    "range(10)"
   ]
  },
  {
   "cell_type": "code",
   "execution_count": 38,
   "id": "0ab738b7",
   "metadata": {},
   "outputs": [
    {
     "data": {
      "text/plain": [
       "['physics', 'agriculture', 'law', 'medicine', 'accounting']"
      ]
     },
     "execution_count": 38,
     "metadata": {},
     "output_type": "execute_result"
    }
   ],
   "source": [
    "available_courses"
   ]
  },
  {
   "cell_type": "code",
   "execution_count": 23,
   "id": "b4681e81",
   "metadata": {},
   "outputs": [
    {
     "name": "stdout",
     "output_type": "stream",
     "text": [
      "physics\n",
      "agriculture\n",
      "law\n",
      "medicine\n",
      "accounting\n"
     ]
    }
   ],
   "source": [
    "for course in available_courses:\n",
    "    print(course)"
   ]
  },
  {
   "cell_type": "code",
   "execution_count": 38,
   "id": "7c1dac2e",
   "metadata": {},
   "outputs": [
    {
     "name": "stdout",
     "output_type": "stream",
     "text": [
      "physics\n",
      "agriculture\n",
      "law\n"
     ]
    }
   ],
   "source": [
    "for course in available_courses[:3]:\n",
    "    print(course)"
   ]
  },
  {
   "cell_type": "markdown",
   "id": "bd8f2661",
   "metadata": {},
   "source": [
    "The loop variable is created when the for statement runs, so you do not need to create the variable before then. Each iteration assigns the the loop variable to the next element in the sequence, and then executes the statements in the body. The statement finishes when the last element in the sequence is reached."
   ]
  },
  {
   "cell_type": "code",
   "execution_count": 39,
   "id": "aa4c86a1",
   "metadata": {},
   "outputs": [
    {
     "name": "stdout",
     "output_type": "stream",
     "text": [
      "Hi Harison.  Please come to my party on Saturday!\n",
      "Hi Mike.  Please come to my party on Saturday!\n",
      "Hi Philips.  Please come to my party on Saturday!\n",
      "Hi Ade.  Please come to my party on Saturday!\n",
      "Hi Joel.  Please come to my party on Saturday!\n"
     ]
    }
   ],
   "source": [
    "friends = ['Harison', 'Mike', 'Philips', 'Ade', 'Joel']\n",
    "\n",
    "for friend in friends:\n",
    "    #invitation = \"Hi \" + friend + \".  Please come to my party on Saturday!\"\n",
    "    invitation = f\"Hi {friend}.  Please come to my party on Saturday!\"\n",
    "    print(invitation)"
   ]
  },
  {
   "cell_type": "code",
   "execution_count": 40,
   "id": "acc87640",
   "metadata": {},
   "outputs": [],
   "source": [
    "number = [1,2,3,4,5]\n",
    "number_square = []\n",
    "\n",
    "for n in number:\n",
    "    number_square.append(n**2)"
   ]
  },
  {
   "cell_type": "code",
   "execution_count": 41,
   "id": "9fadcb91",
   "metadata": {},
   "outputs": [
    {
     "name": "stdout",
     "output_type": "stream",
     "text": [
      "[1, 4, 9, 16, 25]\n"
     ]
    }
   ],
   "source": [
    "print(number_square)"
   ]
  },
  {
   "cell_type": "code",
   "execution_count": 42,
   "id": "6556bb14",
   "metadata": {},
   "outputs": [],
   "source": [
    "continet_dict = {\"South America\": [\"Haiti\",\"Argetina\", \"Brazil\"],\n",
    "        \"Africa\": [\"Kenya\", \"Morocco\", \"Libya\"]}"
   ]
  },
  {
   "cell_type": "code",
   "execution_count": 43,
   "id": "04a411e2",
   "metadata": {},
   "outputs": [
    {
     "data": {
      "text/plain": [
       "dict_keys(['South America', 'Africa'])"
      ]
     },
     "execution_count": 43,
     "metadata": {},
     "output_type": "execute_result"
    }
   ],
   "source": [
    "continet_dict.keys()"
   ]
  },
  {
   "cell_type": "code",
   "execution_count": 46,
   "id": "e09ca27e",
   "metadata": {},
   "outputs": [
    {
     "name": "stdout",
     "output_type": "stream",
     "text": [
      "South America\n",
      "Africa\n"
     ]
    }
   ],
   "source": [
    "# we can iterte over the dictionary and do some fun things\n",
    "#print the keys\n",
    "for key in continet_dict.keys():\n",
    "    print(key)"
   ]
  },
  {
   "cell_type": "code",
   "execution_count": 47,
   "id": "76e0b147",
   "metadata": {},
   "outputs": [
    {
     "name": "stdout",
     "output_type": "stream",
     "text": [
      "['Haiti', 'Argetina', 'Brazil']\n",
      "['Kenya', 'Morocco', 'Libya']\n"
     ]
    }
   ],
   "source": [
    "# get the values \n",
    "for value in continet_dict.values():\n",
    "    print(value)"
   ]
  },
  {
   "cell_type": "code",
   "execution_count": 48,
   "id": "1c05a93d",
   "metadata": {},
   "outputs": [
    {
     "name": "stdout",
     "output_type": "stream",
     "text": [
      "South America --> ['Haiti', 'Argetina', 'Brazil']\n",
      "Africa --> ['Kenya', 'Morocco', 'Libya']\n"
     ]
    }
   ],
   "source": [
    "# get keys and values\n",
    "for key, value in continet_dict.items():\n",
    "    print(key, \"-->\", value)"
   ]
  },
  {
   "cell_type": "code",
   "execution_count": 45,
   "id": "d71cb296",
   "metadata": {},
   "outputs": [
    {
     "name": "stdout",
     "output_type": "stream",
     "text": [
      "Argetina\n",
      "Morocco\n"
     ]
    }
   ],
   "source": [
    "new_dict = {}\n",
    "\n",
    "for key, values in continet_dict.items():\n",
    "    for value in values:\n",
    "        #print(value)\n",
    "        if len(value) > 6:\n",
    "            print(value)\n",
    "            new_dict[key] = value"
   ]
  },
  {
   "cell_type": "markdown",
   "id": "9eec3270",
   "metadata": {},
   "source": [
    "### break statement"
   ]
  },
  {
   "cell_type": "code",
   "execution_count": 50,
   "id": "10be0f71",
   "metadata": {},
   "outputs": [
    {
     "data": {
      "text/plain": [
       "['physics', 'agriculture', 'law', 'medicine', 'accounting']"
      ]
     },
     "execution_count": 50,
     "metadata": {},
     "output_type": "execute_result"
    }
   ],
   "source": [
    "available_courses"
   ]
  },
  {
   "cell_type": "code",
   "execution_count": 49,
   "id": "d03e480b",
   "metadata": {},
   "outputs": [
    {
     "name": "stdout",
     "output_type": "stream",
     "text": [
      "physics\n",
      "agriculture\n"
     ]
    }
   ],
   "source": [
    "for course in available_courses:\n",
    "    if course == \"law\":\n",
    "        break    #the iteration stops at law\n",
    "    print(course)"
   ]
  },
  {
   "cell_type": "markdown",
   "id": "775da179",
   "metadata": {},
   "source": [
    "### continue statement"
   ]
  },
  {
   "cell_type": "code",
   "execution_count": 27,
   "id": "c1c722cd",
   "metadata": {},
   "outputs": [
    {
     "name": "stdout",
     "output_type": "stream",
     "text": [
      "physics\n",
      "agriculture\n",
      "law\n",
      "accounting\n"
     ]
    }
   ],
   "source": [
    "for course in available_courses:\n",
    "    if course == \"medicine\":\n",
    "        continue   #medicine is skipped\n",
    "    print(course)"
   ]
  },
  {
   "cell_type": "markdown",
   "id": "86ea6c13",
   "metadata": {},
   "source": [
    "### While loop"
   ]
  },
  {
   "cell_type": "markdown",
   "id": "c9ac4a9a",
   "metadata": {},
   "source": [
    "A while loop in python is used to iterate over a block of code or statements as long as the test expression is true"
   ]
  },
  {
   "cell_type": "code",
   "execution_count": 57,
   "id": "b6ba109e",
   "metadata": {},
   "outputs": [
    {
     "name": "stdout",
     "output_type": "stream",
     "text": [
      "enter a number-4\n"
     ]
    }
   ],
   "source": [
    "num =int(input('enter a number'))\n",
    "\n",
    "while num >= 0:\n",
    "    if num == 0:\n",
    "        print('equal to zero')\n",
    "    elif num > 0:\n",
    "        print('greater than zero')\n",
    "    else:\n",
    "        print('enter a valid number')\n",
    "    break"
   ]
  },
  {
   "cell_type": "code",
   "execution_count": 59,
   "id": "071ee4f6",
   "metadata": {},
   "outputs": [
    {
     "name": "stdout",
     "output_type": "stream",
     "text": [
      "What is the meaning of life, the universe, and everything? 54\n",
      "What is the meaning of life, the universe, and everything? 65\n",
      "What is the meaning of life, the universe, and everything? 0\n",
      "What is the meaning of life, the universe, and everything? 42\n"
     ]
    }
   ],
   "source": [
    "number = 0\n",
    "prompt = \"What is the meaning of life, the universe, and everything? \"\n",
    "\n",
    "while number != \"42\":\n",
    "    number =  input(prompt)"
   ]
  },
  {
   "cell_type": "markdown",
   "id": "655f8cc8",
   "metadata": {},
   "source": [
    "The flow of execution for a while statement works like this:\n",
    "\n",
    "Evaluate the condition (BOOLEAN EXPRESSION), yielding False or True.\n",
    "\n",
    "If the condition is false, exit the while statement and continue execution at the next statement.\n",
    "\n",
    "If the condition is true, execute each of the STATEMENTS in the body and then go back to step 1."
   ]
  },
  {
   "cell_type": "code",
   "execution_count": null,
   "id": "7af69dc0",
   "metadata": {},
   "outputs": [],
   "source": [
    "name[0]"
   ]
  },
  {
   "cell_type": "code",
   "execution_count": null,
   "id": "e92db1c3",
   "metadata": {},
   "outputs": [],
   "source": [
    "name = 'James'\n",
    "guess = input(\"So I'm thinking of person's name. Try to guess it: \")\n",
    "pos = 0\n",
    "\n",
    "while guess != name and pos < len(name):\n",
    "    print(f\"Nope, that's not it! Hint: letter {pos + 1} is {name[pos]}.\")\n",
    "#     print(\"Nope, that's not it! Hint: letter \", end='')\n",
    "#     print(pos + 1, \"is\", name[pos] + \". \", end='')\n",
    "    guess = input(\"Guess again: \")\n",
    "    pos = pos + 1\n",
    "\n",
    "if pos == len(name) and name != guess:\n",
    "    print(\"Too bad, you couldn't get it.  The name was\", name + \".\")\n",
    "else:\n",
    "    print(\"\\nGreat, you got it in\", pos + 1,  \"guesses!\")"
   ]
  },
  {
   "cell_type": "markdown",
   "id": "dabd0608",
   "metadata": {},
   "source": [
    "## While or for loop?\n",
    "\n",
    "If you are aware of the maximum number of times the body will need to be executed before you begin looping, use a for loop. For instance, if you're traversing a list of elements, you are aware that \"all the elements in the list\" is the possible number of loop iterations you may potentially require. We also know how many times the loop needs to run if you need to produce the 12 times table.\n",
    "\n",
    "Therefore, a for loop is recommended for any job like \"iterate this weather model for 1000 cycles,\" \"search this list of phrases,\" or \"find all prime numbers up to 10,000.\"\n",
    "\n",
    "By contrast, if you are required to repeat some computation until some condition is met, and you cannot calculate in advance when this will happen, as we did in the “greatest name” program, you’ll need a while loop."
   ]
  },
  {
   "cell_type": "markdown",
   "id": "265e7779",
   "metadata": {},
   "source": [
    "# Exercise 5"
   ]
  },
  {
   "cell_type": "markdown",
   "id": "0b0042c9",
   "metadata": {},
   "source": [
    "Obesity is a complex disease involving an excessive amount of body fat. Obesity isn't just a cosmetic concern. It's a medical problem that increases the risk of other diseases and health problems, such as heart disease, diabetes, high blood pressure and certain cancers. One of the most common indicators of detecting obesity is to compute the Body Mass Index (BMI). In order to alert potentially obessed people of their status, you are asked to design a program that prompts the user to enter weight in kg and height in meter square. \n",
    "\n",
    "Compute the BMI from these two parameter. \n",
    "\n",
    "If the BMI is equal to or more than 25, your program should tell them they are overweight.\n",
    "\n",
    "If the value falls between 18.5 and 24.9, the weight is considered normal. \n",
    "\n",
    "If the value is not up to 18, then they are underweight."
   ]
  },
  {
   "cell_type": "markdown",
   "id": "761b97e5",
   "metadata": {},
   "source": [
    "# Exercise 6"
   ]
  },
  {
   "cell_type": "markdown",
   "id": "9deef8c5",
   "metadata": {},
   "source": [
    "According to building regulatory plocies in the country, a lecture theatre is not supposed to hold more than 1000 occupants at a time. Write a program that determines whether a school is in violation of this regulations regarding the maximum theatre capacity. The program will read in the number of people to attend the lecture. If the number of people is less \n",
    "than or equal to the maximum capacity, the program announces that it is legal to \n",
    "hold the lecture and tells how many additional people may legally attend. If the number \n",
    "of people exceeds the maximum theatre capacity, the program announces that the lecture \n",
    "cannot be held as planned due to regulations and tells how many people must be \n",
    "excluded in order to meet the regulatory policies."
   ]
  },
  {
   "cell_type": "markdown",
   "id": "15a7afec",
   "metadata": {},
   "source": [
    "# Exercise 7"
   ]
  },
  {
   "cell_type": "markdown",
   "id": "751ae386",
   "metadata": {},
   "source": [
    "Using your data from Ali & Johnson, the store owner wishes to see the products with names longer than 5 letters. Use your skill of iteration and branching to search for this products and print out their names as well as the number of letters in them"
   ]
  },
  {
   "cell_type": "code",
   "execution_count": 13,
   "id": "ad2308ab",
   "metadata": {},
   "outputs": [],
   "source": [
    "student_list = [\"Ade Adekola\", \"Ajala Micheal\", \"Mike Akintola\", \"Joe Aba\", \"Ali Ali\"]\n",
    "salary_list = [245, 456, 56, 56, 897]\n",
    "salary_after_bonus_list = []\n",
    "\n",
    "# for student in student_list:\n",
    "#     print(student)\n",
    "for salary in salary_list:\n",
    "    salary_after_bonus = salary + 5\n",
    "    salary_after_bonus_list.append(salary_after_bonus)\n",
    "#     print(f\"Yor salary after bonus is {salary_after_bonus}\")"
   ]
  },
  {
   "cell_type": "code",
   "execution_count": 14,
   "id": "ae46195e",
   "metadata": {},
   "outputs": [
    {
     "data": {
      "text/plain": [
       "[250, 461, 61, 61, 902]"
      ]
     },
     "execution_count": 14,
     "metadata": {},
     "output_type": "execute_result"
    }
   ],
   "source": [
    "salary_after_bonus_list"
   ]
  },
  {
   "cell_type": "code",
   "execution_count": 16,
   "id": "9be9f015",
   "metadata": {},
   "outputs": [],
   "source": [
    "first_name_list = []\n",
    "last_name_list = []\n",
    "for student in student_list:\n",
    "    first_name = student.split()[0]\n",
    "    last_name = student.split()[1]\n",
    "    first_name_list.append(first_name)\n",
    "    last_name_list.append(last_name)"
   ]
  },
  {
   "cell_type": "code",
   "execution_count": 17,
   "id": "4a4fdc0f",
   "metadata": {},
   "outputs": [
    {
     "data": {
      "text/plain": [
       "['Ade', 'Ajala', 'Mike', 'Joe', 'Ali']"
      ]
     },
     "execution_count": 17,
     "metadata": {},
     "output_type": "execute_result"
    }
   ],
   "source": [
    "first_name_list"
   ]
  },
  {
   "cell_type": "code",
   "execution_count": 18,
   "id": "96c030b0",
   "metadata": {},
   "outputs": [
    {
     "data": {
      "text/plain": [
       "['Adekola', 'Micheal', 'Akintola', 'Aba', 'Ali']"
      ]
     },
     "execution_count": 18,
     "metadata": {},
     "output_type": "execute_result"
    }
   ],
   "source": [
    "last_name_list"
   ]
  },
  {
   "cell_type": "code",
   "execution_count": null,
   "id": "d0154fa7",
   "metadata": {},
   "outputs": [],
   "source": []
  }
 ],
 "metadata": {
  "kernelspec": {
   "display_name": "Python 3 (ipykernel)",
   "language": "python",
   "name": "python3"
  },
  "language_info": {
   "codemirror_mode": {
    "name": "ipython",
    "version": 3
   },
   "file_extension": ".py",
   "mimetype": "text/x-python",
   "name": "python",
   "nbconvert_exporter": "python",
   "pygments_lexer": "ipython3",
   "version": "3.10.9"
  }
 },
 "nbformat": 4,
 "nbformat_minor": 5
}
