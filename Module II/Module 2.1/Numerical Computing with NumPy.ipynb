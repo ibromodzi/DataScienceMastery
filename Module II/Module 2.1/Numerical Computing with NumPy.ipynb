{
 "cells": [
  {
   "cell_type": "markdown",
   "id": "282af3a7",
   "metadata": {},
   "source": [
    "## Foundations of Numerical Computing with NumPy\n",
    "\n",
    "In the previous sections, you've built a strong foundation in Python programming, including an understanding of Object-Oriented Programming (OOP) principles. Now, we're entering the world of data and array manipulation, a fundamental skill for any data scientist.\n",
    "\n",
    "In this module, we will introduce you to NumPy, short for Numerical Python. NumPy is a powerful Python library that forms the cornerstone of scientific computing and data manipulation. With NumPy, you can perform a wide range of operations on data, from basic mathematical computations to advanced data transformations.\n"
   ]
  },
  {
   "cell_type": "markdown",
   "id": "ab937454",
   "metadata": {},
   "source": [
    "## Numpy"
   ]
  },
  {
   "cell_type": "markdown",
   "id": "4797e6d2",
   "metadata": {},
   "source": [
    "NumPy, short for **Numerical Python**, is the foundational package for scientific computing in Python. It is a Python library that provides a multidimensional array object, various derived objects (such as masked arrays and matrices), and an assortment of routines for fast operations on arrays, including mathematical, logical, shape manipulation, sorting, selecting, I/O, discrete Fourier transforms, basic linear algebra, basic statistical operations, random simulation and much more. NumPy arrays are called __ndarray or N-dimensional arrays__ and they store elements of the same type and size"
   ]
  },
  {
   "cell_type": "markdown",
   "id": "1bab075b",
   "metadata": {},
   "source": [
    "### Why NumPy?\n",
    "\n",
    "You might wonder, \"Why do we need NumPy when we already have Python lists?\" The answer lies in efficiency and functionality. NumPy arrays are designed to handle large datasets efficiently, and they come with a multitude of functions for data manipulation and analysis. In the world of data science, NumPy is an essential tool for tasks like data cleaning, exploration, and transformation.\n",
    "\n",
    "### Key Concepts in NumPy\n",
    "\n",
    "As we delve into NumPy, here are some key concepts we'll explore:\n",
    "\n",
    "- **Creating Arrays:** Learn how to create arrays from scratch or from existing data.\n",
    "- **Operations with Arrays:** Perform element-wise operations, mathematical computations, and more.\n",
    "- **Indexing and Slicing:** Access and modify specific elements or sections of arrays.\n",
    "- **Universal Functions (UFuncs):** Discover functions that operate element-wise on arrays.\n",
    "- **Aggregation and Statistics:** Calculate statistics and aggregate data within arrays.\n",
    "- **Broadcasting:** Understand how NumPy handles operations on arrays with different shapes.\n",
    "- **Array Shape and Reshaping:** Manipulate the shape and structure of arrays.\n",
    "\n",
    "### Getting Started\n",
    "\n",
    "Before we dive into the details, make sure you have NumPy installed. If it's not already installed, you can typically install it using:\n",
    "\n",
    "\n",
    "`!pip install numpy`"
   ]
  },
  {
   "cell_type": "code",
   "execution_count": 58,
   "id": "a696dd5e",
   "metadata": {},
   "outputs": [],
   "source": [
    "#!pip install numpy"
   ]
  },
  {
   "cell_type": "markdown",
   "id": "2f668961",
   "metadata": {},
   "source": [
    "### Using Numpy\n",
    "Arrays are a collection of elements/values, that can have one or more dimensions. An array of one dimension is called a __Vector__ while having two dimensions is called a __Matrix__. We can create Numpy array using different methods. <br>We can think of a one-dimensional array as a column or a row of a table with one or more elements. While a multi-dimensional array can be likened to an Excel Spreadsheet — it has columns and rows. Each column can be considered as a dimension.\n"
   ]
  },
  {
   "cell_type": "markdown",
   "id": "c78d9eff",
   "metadata": {},
   "source": [
    "<img src =\"https://miro.medium.com/max/436/1*5aZagBBjt1gUClPQOjqj4A.png\" alt = \"1D array\"/>\n",
    "<br>\n",
    "<img src =\"https://miro.medium.com/max/301/1*DGOyuKMZE4ff9rYpZ6_NbQ.png\" alt = \"2D array\"/>\n",
    "<br> \n",
    "source:https://medium.com/fintechexplained/why-should-we-use-numpy-c14a4fb03ee9"
   ]
  },
  {
   "cell_type": "markdown",
   "id": "a56ff575",
   "metadata": {},
   "source": [
    "##### Basic ndarray"
   ]
  },
  {
   "cell_type": "code",
   "execution_count": 62,
   "id": "8beab95f",
   "metadata": {},
   "outputs": [
    {
     "name": "stdout",
     "output_type": "stream",
     "text": [
      "[24 18 16 30 45]\n",
      "<class 'list'>\n",
      "<class 'numpy.ndarray'>\n"
     ]
    }
   ],
   "source": [
    "import numpy as np\n",
    "\n",
    "# Note: It is common practice to import numpy \n",
    "# under the alias np — that way, we have to type less code to reference it further down the line.\n",
    "\n",
    "# The easiest way to create an array is to use the array function\n",
    "#creating Numpy array using Python list\n",
    "age_list = [24, 18, 16, 30, 45]\n",
    "age_list_array = np.array(age_list)\n",
    "print(age_list_array)\n",
    "print(type(age_list))\n",
    "print(type(age_list_array))"
   ]
  },
  {
   "cell_type": "code",
   "execution_count": 63,
   "id": "2b2103e3",
   "metadata": {},
   "outputs": [
    {
     "data": {
      "text/plain": [
       "array([2., 3., 6., 9., 5.])"
      ]
     },
     "execution_count": 63,
     "metadata": {},
     "output_type": "execute_result"
    }
   ],
   "source": [
    "# We can specify the data type using the dtype argument\n",
    "points_scored = np.array([2,3,6,9,5], dtype = np.float64)\n",
    "points_scored"
   ]
  },
  {
   "cell_type": "code",
   "execution_count": 64,
   "id": "842a346e",
   "metadata": {},
   "outputs": [
    {
     "data": {
      "text/plain": [
       "array([[2, 4, 6, 7, 8],\n",
       "       [1, 3, 5, 4, 2]])"
      ]
     },
     "execution_count": 64,
     "metadata": {},
     "output_type": "execute_result"
    }
   ],
   "source": [
    "# We can as well give a multidimensional array\n",
    "points_upgraded = np.array([[2,4,6,7,8], [1, 3, 5, 4, 2]])\n",
    "points_upgraded"
   ]
  },
  {
   "cell_type": "markdown",
   "id": "eb0c9bb2",
   "metadata": {},
   "source": [
    "##### Evenly spaced arrays\n",
    "\n",
    "You can quickly get an evenly spaced array of numbers using the `np.arange()` method:"
   ]
  },
  {
   "cell_type": "code",
   "execution_count": 65,
   "id": "3354b9b6",
   "metadata": {},
   "outputs": [
    {
     "data": {
      "text/plain": [
       "array([0, 1, 2, 3, 4, 5])"
      ]
     },
     "execution_count": 65,
     "metadata": {},
     "output_type": "execute_result"
    }
   ],
   "source": [
    "spaced_array = np.arange(6)\n",
    "spaced_array"
   ]
  },
  {
   "cell_type": "markdown",
   "id": "caaafdac",
   "metadata": {},
   "source": [
    "The start, end and step size of the interval of values can be explicitly defined by passing in three numbers as arguments for these values respectively"
   ]
  },
  {
   "cell_type": "code",
   "execution_count": 66,
   "id": "10cda5bb",
   "metadata": {},
   "outputs": [
    {
     "data": {
      "text/plain": [
       "array([2, 4, 6, 8])"
      ]
     },
     "execution_count": 66,
     "metadata": {},
     "output_type": "execute_result"
    }
   ],
   "source": [
    "spaced_array_stepped = np.arange(2, 10, 2)\n",
    "spaced_array_stepped"
   ]
  },
  {
   "cell_type": "markdown",
   "id": "a37b9360",
   "metadata": {},
   "source": [
    "<img src = \"https://cdn.analyticsvidhya.com/wp-content/uploads/2020/04/np_arange.png\" alt = \"arange description\"/>"
   ]
  },
  {
   "cell_type": "markdown",
   "id": "9981a530",
   "metadata": {},
   "source": [
    "Another similar function is `np.linspace()`, but instead of step size, it takes in the number of samples that need to be retrieved from the interval."
   ]
  },
  {
   "cell_type": "code",
   "execution_count": 67,
   "id": "13a1f82f",
   "metadata": {},
   "outputs": [
    {
     "data": {
      "text/plain": [
       "array([0. , 0.2, 0.4, 0.6, 0.8, 1. ])"
      ]
     },
     "execution_count": 67,
     "metadata": {},
     "output_type": "execute_result"
    }
   ],
   "source": [
    "another_spaced_array = np.linspace(0,1, 6)\n",
    "another_spaced_array"
   ]
  },
  {
   "cell_type": "markdown",
   "id": "884045b8",
   "metadata": {},
   "source": [
    "##### Array of random numbers\n",
    "We can use the `np.random.rand()`method to create an array of a given shape with random values from [0,1]"
   ]
  },
  {
   "cell_type": "code",
   "execution_count": 68,
   "id": "e323e8ec",
   "metadata": {},
   "outputs": [
    {
     "data": {
      "text/plain": [
       "array([[0.32728381, 0.19138463, 0.13038947],\n",
       "       [0.29034522, 0.14587734, 0.60543195]])"
      ]
     },
     "execution_count": 68,
     "metadata": {},
     "output_type": "execute_result"
    }
   ],
   "source": [
    "random_array = np.random.rand(2,3)\n",
    "random_array"
   ]
  },
  {
   "cell_type": "markdown",
   "id": "8933053a",
   "metadata": {},
   "source": [
    "##### Arrays of specific numbers\n",
    "We can use special functions like `np.ones()`, `np.zeros()`, `np.full()` to create arrays with specific numbers"
   ]
  },
  {
   "cell_type": "code",
   "execution_count": 69,
   "id": "a95d47e9",
   "metadata": {},
   "outputs": [
    {
     "data": {
      "text/plain": [
       "array([[0., 0.],\n",
       "       [0., 0.]])"
      ]
     },
     "execution_count": 69,
     "metadata": {},
     "output_type": "execute_result"
    }
   ],
   "source": [
    "array_zero = np.zeros((2,2))\n",
    "array_zero"
   ]
  },
  {
   "cell_type": "code",
   "execution_count": 70,
   "id": "664ab36e",
   "metadata": {},
   "outputs": [
    {
     "data": {
      "text/plain": [
       "array([1., 1., 1.])"
      ]
     },
     "execution_count": 70,
     "metadata": {},
     "output_type": "execute_result"
    }
   ],
   "source": [
    "array_one = np.ones(3)\n",
    "array_one"
   ]
  },
  {
   "cell_type": "code",
   "execution_count": 71,
   "id": "20b2aff8",
   "metadata": {},
   "outputs": [
    {
     "data": {
      "text/plain": [
       "array([[1., 1., 1.],\n",
       "       [1., 1., 1.],\n",
       "       [1., 1., 1.],\n",
       "       [1., 1., 1.]])"
      ]
     },
     "execution_count": 71,
     "metadata": {},
     "output_type": "execute_result"
    }
   ],
   "source": [
    "array_one_multi = np.ones((4,3)) # we want array of ones with dimension 4*3\n",
    "array_one_multi"
   ]
  },
  {
   "cell_type": "code",
   "execution_count": 72,
   "id": "4a7bcdc9",
   "metadata": {},
   "outputs": [
    {
     "data": {
      "text/plain": [
       "array([[4, 4, 4],\n",
       "       [4, 4, 4]])"
      ]
     },
     "execution_count": 72,
     "metadata": {},
     "output_type": "execute_result"
    }
   ],
   "source": [
    "choice_array = np.full((2,3), 4) # we want array of fours with dimension 2*3\n",
    "choice_array"
   ]
  },
  {
   "cell_type": "markdown",
   "id": "cd401e7e",
   "metadata": {},
   "source": [
    "### Getting Basic Info about the array"
   ]
  },
  {
   "cell_type": "markdown",
   "id": "4263d7a2",
   "metadata": {},
   "source": [
    "#### Dimensions of Numpy Arrays\n",
    "We can easily determine the number of dimensions or axes of a NumPy array using the `ndims` attribute"
   ]
  },
  {
   "cell_type": "code",
   "execution_count": 73,
   "id": "24f3f51c",
   "metadata": {},
   "outputs": [
    {
     "name": "stdout",
     "output_type": "stream",
     "text": [
      "Choice array has a dimension of 2\n"
     ]
    }
   ],
   "source": [
    "choice_array_dimension = choice_array.ndim\n",
    "print(f\"Choice array has a dimension of {choice_array_dimension}\")"
   ]
  },
  {
   "cell_type": "markdown",
   "id": "45af4801",
   "metadata": {},
   "source": [
    "#### Shape of Numpy Arrays\n",
    "The `shape` is an attribute of the NumPy array that shows how many rows of elements are there along each dimension"
   ]
  },
  {
   "cell_type": "code",
   "execution_count": 75,
   "id": "3157d128",
   "metadata": {},
   "outputs": [
    {
     "name": "stdout",
     "output_type": "stream",
     "text": [
      "Choice array has a shape of (2, 3)\n"
     ]
    }
   ],
   "source": [
    "choice_array_shape = choice_array.shape\n",
    "print(f\"Choice array has a shape of {choice_array_shape}\")"
   ]
  },
  {
   "cell_type": "markdown",
   "id": "4d600869",
   "metadata": {},
   "source": [
    "#### Size of Numpy Array\n",
    "You can determine how many values there are in the array using the `size` attribute"
   ]
  },
  {
   "cell_type": "code",
   "execution_count": 76,
   "id": "b653df61",
   "metadata": {},
   "outputs": [
    {
     "name": "stdout",
     "output_type": "stream",
     "text": [
      "[[4 4 4]\n",
      " [4 4 4]]\n",
      "Choice array contains 6 elements\n"
     ]
    }
   ],
   "source": [
    "choice_array_size = choice_array.size\n",
    "print(choice_array)\n",
    "print(f\"Choice array contains {choice_array_size} elements\")"
   ]
  },
  {
   "cell_type": "markdown",
   "id": "b9899788",
   "metadata": {},
   "source": [
    "### Operations between Arrays and Scalars\n",
    "Arrays are important because they enable you to express batch operations on data\n",
    "without writing any for loops. This is usually called vectorization. Any arithmetic op￾erations between equal-size arrays applies the operation elementwise"
   ]
  },
  {
   "cell_type": "code",
   "execution_count": 78,
   "id": "429441d8",
   "metadata": {},
   "outputs": [
    {
     "name": "stdout",
     "output_type": "stream",
     "text": [
      "[ 4  6 16 22 40]\n"
     ]
    }
   ],
   "source": [
    "list1 = [2,3, 8, 11, 20]\n",
    "\n",
    "# multiplying 2 with every element in a Python list\n",
    "'''\n",
    "new_list = []\n",
    "for element in list1:\n",
    "    new_list.append(element*2)\n",
    "    \n",
    "print(new_list)\n",
    "\n",
    "'''\n",
    "\n",
    "array1 = np.array(list1) # Let's create our array from the list\n",
    "new_array = array1*2     # multplies every element of the array by 2\n",
    "print(new_array)"
   ]
  },
  {
   "cell_type": "code",
   "execution_count": 79,
   "id": "767295f6",
   "metadata": {},
   "outputs": [
    {
     "name": "stdout",
     "output_type": "stream",
     "text": [
      "[ 2  2  6  8 16]\n"
     ]
    }
   ],
   "source": [
    "array2 = np.arange(5)     # creates another array\n",
    "sub_array = array1-array2 # element-wise subtraction of array1 and array2\n",
    "print(sub_array)"
   ]
  },
  {
   "cell_type": "code",
   "execution_count": 80,
   "id": "ecfb41b0",
   "metadata": {},
   "outputs": [
    {
     "name": "stdout",
     "output_type": "stream",
     "text": [
      "[ 0  3 16 33 80]\n"
     ]
    }
   ],
   "source": [
    "mult_array = array1*array2  #multiplies array1 and array2\n",
    "print(mult_array)"
   ]
  },
  {
   "cell_type": "code",
   "execution_count": 81,
   "id": "5fda9fcf",
   "metadata": {},
   "outputs": [
    {
     "name": "stdout",
     "output_type": "stream",
     "text": [
      "[3 4 5 6 7]\n"
     ]
    }
   ],
   "source": [
    "div_array = array2 + 3 # adds 3 to every element in array2\n",
    "print(div_array)"
   ]
  },
  {
   "cell_type": "markdown",
   "id": "a26ba13f",
   "metadata": {},
   "source": [
    "### Indexing and Slicing\n",
    " These techniques allow us to select\n",
    "a subset of our data or individual elements"
   ]
  },
  {
   "cell_type": "code",
   "execution_count": 82,
   "id": "64356e9c",
   "metadata": {},
   "outputs": [
    {
     "name": "stdout",
     "output_type": "stream",
     "text": [
      "[ 2  6 10 14 18 22 26 30 34 38]\n"
     ]
    }
   ],
   "source": [
    "# Let's create a new array here \n",
    "another_array = np.arange(2,40,4) \n",
    "print(another_array)"
   ]
  },
  {
   "cell_type": "code",
   "execution_count": 83,
   "id": "51428595",
   "metadata": {},
   "outputs": [
    {
     "data": {
      "text/plain": [
       "10"
      ]
     },
     "execution_count": 83,
     "metadata": {},
     "output_type": "execute_result"
    }
   ],
   "source": [
    "another_array[2] #gets the element at index 2"
   ]
  },
  {
   "cell_type": "code",
   "execution_count": 84,
   "id": "2d239b03",
   "metadata": {},
   "outputs": [
    {
     "data": {
      "text/plain": [
       "array([10, 14, 18, 22])"
      ]
     },
     "execution_count": 84,
     "metadata": {},
     "output_type": "execute_result"
    }
   ],
   "source": [
    "another_array[2:6] # gets the element between 2 qnd 6"
   ]
  },
  {
   "cell_type": "code",
   "execution_count": 85,
   "id": "c822e9d0",
   "metadata": {},
   "outputs": [
    {
     "data": {
      "text/plain": [
       "array([[1, 2, 3],\n",
       "       [4, 5, 6],\n",
       "       [7, 8, 9]])"
      ]
     },
     "execution_count": 85,
     "metadata": {},
     "output_type": "execute_result"
    }
   ],
   "source": [
    "# Let's create a 2D arrary\n",
    "arr2d = np.array([[1, 2, 3], [4, 5, 6], [7, 8, 9]])\n",
    "arr2d"
   ]
  },
  {
   "cell_type": "code",
   "execution_count": 86,
   "id": "ee961df9",
   "metadata": {},
   "outputs": [
    {
     "data": {
      "text/plain": [
       "array([1, 2, 3])"
      ]
     },
     "execution_count": 86,
     "metadata": {},
     "output_type": "execute_result"
    }
   ],
   "source": [
    "arr2d[0] # fethces the arrays at zeroth index"
   ]
  },
  {
   "cell_type": "code",
   "execution_count": 89,
   "id": "b38dc7c1",
   "metadata": {},
   "outputs": [
    {
     "data": {
      "text/plain": [
       "array([4, 5, 6])"
      ]
     },
     "execution_count": 89,
     "metadata": {},
     "output_type": "execute_result"
    }
   ],
   "source": [
    "arr2d[1]"
   ]
  },
  {
   "cell_type": "code",
   "execution_count": 25,
   "id": "5c869794",
   "metadata": {},
   "outputs": [
    {
     "data": {
      "text/plain": [
       "array([7, 8, 9])"
      ]
     },
     "execution_count": 25,
     "metadata": {},
     "output_type": "execute_result"
    }
   ],
   "source": [
    "arr2d[2]"
   ]
  },
  {
   "cell_type": "code",
   "execution_count": 90,
   "id": "b03991b9",
   "metadata": {},
   "outputs": [
    {
     "data": {
      "text/plain": [
       "8"
      ]
     },
     "execution_count": 90,
     "metadata": {},
     "output_type": "execute_result"
    }
   ],
   "source": [
    "arr2d[2][1] # gets the array at index 2 and then the second element of that array"
   ]
  },
  {
   "cell_type": "markdown",
   "id": "a312aab7",
   "metadata": {},
   "source": [
    "### Universal Functions\n",
    "NumPy provides familiar mathematical functions such as sin, cos, and exp. In NumPy, these are called “universal\n",
    "functions”(ufunc). Within NumPy, these functions operate elementwise on an array, producing an array as output"
   ]
  },
  {
   "cell_type": "code",
   "execution_count": 91,
   "id": "9a45abff",
   "metadata": {},
   "outputs": [
    {
     "data": {
      "text/plain": [
       "array([0, 1, 2, 3, 4, 5, 6, 7, 8, 9])"
      ]
     },
     "execution_count": 91,
     "metadata": {},
     "output_type": "execute_result"
    }
   ],
   "source": [
    "# Let's create an array here and apply some universal functions on them\n",
    "our_array = np.arange(10)\n",
    "our_array"
   ]
  },
  {
   "cell_type": "code",
   "execution_count": 92,
   "id": "abdf73de",
   "metadata": {},
   "outputs": [
    {
     "data": {
      "text/plain": [
       "array([0.        , 1.        , 1.41421356, 1.73205081, 2.        ,\n",
       "       2.23606798, 2.44948974, 2.64575131, 2.82842712, 3.        ])"
      ]
     },
     "execution_count": 92,
     "metadata": {},
     "output_type": "execute_result"
    }
   ],
   "source": [
    "np.sqrt(our_array) # get the square root of each element"
   ]
  },
  {
   "cell_type": "code",
   "execution_count": 93,
   "id": "8e7e2328",
   "metadata": {},
   "outputs": [
    {
     "data": {
      "text/plain": [
       "array([1.00000000e+00, 2.71828183e+00, 7.38905610e+00, 2.00855369e+01,\n",
       "       5.45981500e+01, 1.48413159e+02, 4.03428793e+02, 1.09663316e+03,\n",
       "       2.98095799e+03, 8.10308393e+03])"
      ]
     },
     "execution_count": 93,
     "metadata": {},
     "output_type": "execute_result"
    }
   ],
   "source": [
    "np.exp(our_array) # gets the exponent of each element"
   ]
  },
  {
   "cell_type": "code",
   "execution_count": 94,
   "id": "67f8d3db",
   "metadata": {},
   "outputs": [
    {
     "data": {
      "text/plain": [
       "9"
      ]
     },
     "execution_count": 94,
     "metadata": {},
     "output_type": "execute_result"
    }
   ],
   "source": [
    "np.max(our_array)"
   ]
  },
  {
   "cell_type": "code",
   "execution_count": 95,
   "id": "899e692d",
   "metadata": {},
   "outputs": [
    {
     "data": {
      "text/plain": [
       "45"
      ]
     },
     "execution_count": 95,
     "metadata": {},
     "output_type": "execute_result"
    }
   ],
   "source": [
    "np.sum(our_array)"
   ]
  },
  {
   "cell_type": "code",
   "execution_count": 96,
   "id": "eece69ac",
   "metadata": {},
   "outputs": [
    {
     "data": {
      "text/plain": [
       "0"
      ]
     },
     "execution_count": 96,
     "metadata": {},
     "output_type": "execute_result"
    }
   ],
   "source": [
    "np.min(our_array)"
   ]
  },
  {
   "cell_type": "markdown",
   "id": "9412a424",
   "metadata": {},
   "source": [
    "### Mathematical and Statistical Methods\n",
    "A set of mathematical functions which compute statistics about an entire array or about\n",
    "the data along an axis are accessible as array methods. Aggregations (often called\n",
    "reductions) like sum, mean, and standard deviation std can either be used by calling the\n",
    "array instance method or using the top level NumPy function\n"
   ]
  },
  {
   "cell_type": "code",
   "execution_count": 97,
   "id": "eed9d2b6",
   "metadata": {},
   "outputs": [
    {
     "data": {
      "text/plain": [
       "array([[ 2.11680621, -0.90924039,  0.39158561, -1.80273441],\n",
       "       [ 2.38230282,  2.00928676,  0.93573575, -0.95656741],\n",
       "       [ 0.35065067,  0.94837139,  1.64350293,  0.74446022],\n",
       "       [ 0.86993566,  1.23246124,  0.01012588,  0.24554177],\n",
       "       [ 0.10536033, -0.41342285, -0.06289723, -0.65986709]])"
      ]
     },
     "execution_count": 97,
     "metadata": {},
     "output_type": "execute_result"
    }
   ],
   "source": [
    "arr = np.random.randn(5, 4) # normally-distributed data\n",
    "arr"
   ]
  },
  {
   "cell_type": "code",
   "execution_count": 98,
   "id": "1b0edcbf",
   "metadata": {},
   "outputs": [
    {
     "data": {
      "text/plain": [
       "0.4590698933034485"
      ]
     },
     "execution_count": 98,
     "metadata": {},
     "output_type": "execute_result"
    }
   ],
   "source": [
    "arr.mean()  # gets the mean of the whole array"
   ]
  },
  {
   "cell_type": "code",
   "execution_count": 99,
   "id": "8015d8a4",
   "metadata": {},
   "outputs": [
    {
     "data": {
      "text/plain": [
       "9.18139786606897"
      ]
     },
     "execution_count": 99,
     "metadata": {},
     "output_type": "execute_result"
    }
   ],
   "source": [
    "np.sum(arr) # gets the summ of the whole array"
   ]
  },
  {
   "cell_type": "code",
   "execution_count": 100,
   "id": "ca92de16",
   "metadata": {},
   "outputs": [
    {
     "data": {
      "text/plain": [
       "array([-0.05089574,  1.09268948,  0.9217463 ,  0.58951614, -0.25770671])"
      ]
     },
     "execution_count": 100,
     "metadata": {},
     "output_type": "execute_result"
    }
   ],
   "source": [
    "arr.mean(axis=1) #get the mean along the horizontal axis (i.e row)"
   ]
  },
  {
   "cell_type": "code",
   "execution_count": 37,
   "id": "ca706ce3",
   "metadata": {},
   "outputs": [
    {
     "data": {
      "text/plain": [
       "array([ 0.4242656 ,  0.10430457, -0.61348887, -0.19928287])"
      ]
     },
     "execution_count": 37,
     "metadata": {},
     "output_type": "execute_result"
    }
   ],
   "source": [
    "np.mean(arr, axis=0) #get the mean along the vertical axis (i.e column)"
   ]
  },
  {
   "cell_type": "code",
   "execution_count": 101,
   "id": "23a76b23",
   "metadata": {},
   "outputs": [
    {
     "data": {
      "text/plain": [
       "2.3823028206705095"
      ]
     },
     "execution_count": 101,
     "metadata": {},
     "output_type": "execute_result"
    }
   ],
   "source": [
    "arr.max()"
   ]
  },
  {
   "cell_type": "code",
   "execution_count": 102,
   "id": "bf1d4e1c",
   "metadata": {},
   "outputs": [
    {
     "data": {
      "text/plain": [
       "1.0778294300519962"
      ]
     },
     "execution_count": 102,
     "metadata": {},
     "output_type": "execute_result"
    }
   ],
   "source": [
    "arr.std()"
   ]
  },
  {
   "cell_type": "markdown",
   "id": "46674117",
   "metadata": {},
   "source": [
    "### Unique & Sorting\n",
    "NumPy has some basic set operations for one-dimensional ndarrays. Probably the most\n",
    "commonly used one is np.unique, which returns the sorted unique values in an array."
   ]
  },
  {
   "cell_type": "code",
   "execution_count": 103,
   "id": "a56c13ac",
   "metadata": {},
   "outputs": [
    {
     "data": {
      "text/plain": [
       "array(['Bob', 'Joe', 'Will', 'Bob', 'Will', 'Joe', 'Joe'], dtype='<U4')"
      ]
     },
     "execution_count": 103,
     "metadata": {},
     "output_type": "execute_result"
    }
   ],
   "source": [
    "names = np.array(['Bob', 'Joe', 'Will', 'Bob', 'Will', 'Joe', 'Joe'])\n",
    "names"
   ]
  },
  {
   "cell_type": "code",
   "execution_count": 104,
   "id": "1c6dad09",
   "metadata": {},
   "outputs": [
    {
     "data": {
      "text/plain": [
       "array(['Bob', 'Joe', 'Will'], dtype='<U4')"
      ]
     },
     "execution_count": 104,
     "metadata": {},
     "output_type": "execute_result"
    }
   ],
   "source": [
    "np.unique(names)"
   ]
  },
  {
   "cell_type": "code",
   "execution_count": 105,
   "id": "0ca423df",
   "metadata": {},
   "outputs": [
    {
     "data": {
      "text/plain": [
       "array(['Bob', 'Bob', 'Joe', 'Joe', 'Joe', 'Will', 'Will'], dtype='<U4')"
      ]
     },
     "execution_count": 105,
     "metadata": {},
     "output_type": "execute_result"
    }
   ],
   "source": [
    "np.sort(names)"
   ]
  },
  {
   "cell_type": "markdown",
   "id": "5bc27de9",
   "metadata": {},
   "source": [
    "### Linear Algebra\n",
    "Linear algebra, like matrix multiplication, decompositions, determinants, and other\n",
    "square matrix math, is an important part of any array library"
   ]
  },
  {
   "cell_type": "code",
   "execution_count": 109,
   "id": "12fca30c",
   "metadata": {},
   "outputs": [
    {
     "name": "stdout",
     "output_type": "stream",
     "text": [
      "[[1. 2. 3.]\n",
      " [4. 5. 6.]]\n",
      "[[ 6. 23.]\n",
      " [-1.  7.]\n",
      " [ 8.  9.]]\n",
      "Dimension of array x: (2, 3)\n",
      "Dimension of array y: (3, 2)\n"
     ]
    }
   ],
   "source": [
    "x = np.array([[1., 2., 3.], [4., 5., 6.]])\n",
    "y = np.array([[6., 23.], [-1, 7], [8, 9]])\n",
    "print(x)\n",
    "print(y)\n",
    "print(f\"Dimension of array x: {x.shape}\")\n",
    "print(f\"Dimension of array y: {y.shape}\")"
   ]
  },
  {
   "cell_type": "code",
   "execution_count": 107,
   "id": "f409d03e",
   "metadata": {},
   "outputs": [
    {
     "data": {
      "text/plain": [
       "array([[ 28.,  64.],\n",
       "       [ 67., 181.]])"
      ]
     },
     "execution_count": 107,
     "metadata": {},
     "output_type": "execute_result"
    }
   ],
   "source": [
    "np.dot(x,y)"
   ]
  },
  {
   "cell_type": "markdown",
   "id": "b72f996a",
   "metadata": {},
   "source": [
    "***\n",
    "__Difference between dot product and Matrix Multiplication__\n",
    "***\n",
    "The dot product is the sum of products of values in two same-sized vectors and the matrix multiplication is a matrix version of the dot product with two matrices. The output of the dot product is a scalar whereas that of the matrix multiplication is a matrix whose elements are the dot products of pairs of vectors in each matrix.<br><br>\n",
    "Dot Product $$\\begin{bmatrix} a_{1} & a_{2}\\end{bmatrix} \\begin{bmatrix} b_{1}\\\\b_{2}\\end{bmatrix} = a_{1}b_{1} + a_{2}b_{2}$$"
   ]
  },
  {
   "cell_type": "markdown",
   "id": "a53d5c58",
   "metadata": {},
   "source": [
    "Matrix Multiplication $$\\begin{bmatrix} a_{11} & a_{12}\\\\a_{21} & a_{22}\\end{bmatrix} \\begin{bmatrix} b_{11} & b_{12}\\\\b_{21} & b_{22}\\end{bmatrix} =  \\begin{bmatrix} a_{11}b_{11} + a_{12}b_{21}  & a_{11}b_{12} + a_{12}b_{22}\\\\a_{21}b_{11} + a_{22}b_{21}  & a_{21}b_{12} + a_{22}b_{22}\\end{bmatrix}$$"
   ]
  },
  {
   "cell_type": "code",
   "execution_count": 110,
   "id": "cd823ecb",
   "metadata": {},
   "outputs": [
    {
     "data": {
      "text/plain": [
       "array([[ 2,  4],\n",
       "       [ 6,  8],\n",
       "       [10, 12],\n",
       "       [14, 16]])"
      ]
     },
     "execution_count": 110,
     "metadata": {},
     "output_type": "execute_result"
    }
   ],
   "source": [
    "X = np.arange(2,18,2).reshape(4, 2) # create a 1D array and change it to 2D with shape (4 by 2)\n",
    "X"
   ]
  },
  {
   "cell_type": "code",
   "execution_count": 46,
   "id": "c93189c2",
   "metadata": {},
   "outputs": [
    {
     "data": {
      "text/plain": [
       "array([[ 2,  6, 10, 14],\n",
       "       [ 4,  8, 12, 16]])"
      ]
     },
     "execution_count": 46,
     "metadata": {},
     "output_type": "execute_result"
    }
   ],
   "source": [
    "X_transpose = X.T # get the transpose of the array i.e flipping the vertical axis (column) to become the horizontal axis\n",
    "X_transpose"
   ]
  },
  {
   "cell_type": "code",
   "execution_count": 47,
   "id": "fcef5862",
   "metadata": {},
   "outputs": [
    {
     "data": {
      "text/plain": [
       "array([[336, 400],\n",
       "       [400, 480]])"
      ]
     },
     "execution_count": 47,
     "metadata": {},
     "output_type": "execute_result"
    }
   ],
   "source": [
    "from numpy.linalg import inv\n",
    "\n",
    "X_transpose_dot = X_transpose.dot(X) # find the dot product of the transpose and X\n",
    "X_transpose_dot"
   ]
  },
  {
   "cell_type": "code",
   "execution_count": 48,
   "id": "b899b39f",
   "metadata": {},
   "outputs": [
    {
     "data": {
      "text/plain": [
       "array([[ 0.375 , -0.3125],\n",
       "       [-0.3125,  0.2625]])"
      ]
     },
     "execution_count": 48,
     "metadata": {},
     "output_type": "execute_result"
    }
   ],
   "source": [
    "inv(X_transpose_dot) # calculates the inverse: Read up how matrix inverse is calculated"
   ]
  },
  {
   "cell_type": "markdown",
   "id": "b23ce48e",
   "metadata": {},
   "source": [
    "### Shape Manipulation"
   ]
  },
  {
   "cell_type": "code",
   "execution_count": 111,
   "id": "ee180bb0",
   "metadata": {},
   "outputs": [
    {
     "data": {
      "text/plain": [
       "array([[0.68871511, 0.46346999, 0.96459236, 0.56397997],\n",
       "       [0.67491938, 0.47149256, 0.55719734, 0.10674738],\n",
       "       [0.14924297, 0.44825097, 0.22753075, 0.20784481]])"
      ]
     },
     "execution_count": 111,
     "metadata": {},
     "output_type": "execute_result"
    }
   ],
   "source": [
    "a = np.random.random((3,4))\n",
    "a"
   ]
  },
  {
   "cell_type": "code",
   "execution_count": 116,
   "id": "5bf63835",
   "metadata": {},
   "outputs": [
    {
     "name": "stdout",
     "output_type": "stream",
     "text": [
      "(3, 4)\n",
      "2\n"
     ]
    }
   ],
   "source": [
    "print(a.shape) # Let's check the shape\n",
    "print(a.ndim)"
   ]
  },
  {
   "cell_type": "code",
   "execution_count": 115,
   "id": "9c2ee4ca",
   "metadata": {},
   "outputs": [
    {
     "name": "stdout",
     "output_type": "stream",
     "text": [
      "[0.68871511 0.46346999 0.96459236 0.56397997 0.67491938 0.47149256\n",
      " 0.55719734 0.10674738 0.14924297 0.44825097 0.22753075 0.20784481]\n",
      "Dimension of flattened a: 1\n"
     ]
    }
   ],
   "source": [
    "a_flattened = a.ravel()  # this flattens the array\n",
    "print(a_flattened)\n",
    "print(f\"Dimension of flattened a: {a_flattened.ndim}\")"
   ]
  },
  {
   "cell_type": "code",
   "execution_count": 119,
   "id": "c9943758",
   "metadata": {},
   "outputs": [
    {
     "name": "stdout",
     "output_type": "stream",
     "text": [
      "The modified shape is now (6, 2)\n"
     ]
    },
    {
     "data": {
      "text/plain": [
       "array([[0.68871511, 0.46346999],\n",
       "       [0.96459236, 0.56397997],\n",
       "       [0.67491938, 0.47149256],\n",
       "       [0.55719734, 0.10674738],\n",
       "       [0.14924297, 0.44825097],\n",
       "       [0.22753075, 0.20784481]])"
      ]
     },
     "execution_count": 119,
     "metadata": {},
     "output_type": "execute_result"
    }
   ],
   "source": [
    "a_reshaped = a.reshape(6,2) # this returns the array with a modified shape\n",
    "print(f\"The modified shape is now {a_reshaped.shape}\")\n",
    "a_reshaped"
   ]
  },
  {
   "cell_type": "code",
   "execution_count": 53,
   "id": "985b4424",
   "metadata": {},
   "outputs": [
    {
     "data": {
      "text/plain": [
       "array([[0.48357879, 0.84253715, 0.6051085 ],\n",
       "       [0.79104015, 0.34433375, 0.57710734],\n",
       "       [0.55372131, 0.73670158, 0.57713076],\n",
       "       [0.06650873, 0.22199996, 0.67193253]])"
      ]
     },
     "execution_count": 53,
     "metadata": {},
     "output_type": "execute_result"
    }
   ],
   "source": [
    "# If a dimension is given as -1 in a reshaping operation, the other dimensions are automatically calculated:\n",
    "a_reshaped = a.reshape(4, -1)\n",
    "a_reshaped"
   ]
  },
  {
   "cell_type": "markdown",
   "id": "36691e6c",
   "metadata": {},
   "source": [
    "### Stacking arrays"
   ]
  },
  {
   "cell_type": "markdown",
   "id": "9dcb5071",
   "metadata": {},
   "source": [
    "We can create a new array fom existing arrays using the vstack() method, thereby increasing the number of rows in the resulting array Or combine the arrays in a horizontal fashion (i.e. along the columns) using the hstack(), thereby increasing the number of columns in the resultant array."
   ]
  },
  {
   "cell_type": "code",
   "execution_count": 120,
   "id": "9d18ca6c",
   "metadata": {},
   "outputs": [
    {
     "data": {
      "text/plain": [
       "array([[7, 7, 7],\n",
       "       [7, 7, 7],\n",
       "       [7, 7, 7]])"
      ]
     },
     "execution_count": 120,
     "metadata": {},
     "output_type": "execute_result"
    }
   ],
   "source": [
    "a = np.full((3,3),7)\n",
    "a"
   ]
  },
  {
   "cell_type": "code",
   "execution_count": 125,
   "id": "890192b4",
   "metadata": {},
   "outputs": [
    {
     "name": "stdout",
     "output_type": "stream",
     "text": [
      "[[1. 1. 1.]\n",
      " [1. 1. 1.]\n",
      " [1. 1. 1.]]\n",
      "(3, 3)\n",
      "9\n",
      "2\n"
     ]
    }
   ],
   "source": [
    "b = np.ones((3,3))\n",
    "print(b)\n",
    "print(b.shape)\n",
    "print(b.size)\n",
    "print(b.ndim)"
   ]
  },
  {
   "cell_type": "code",
   "execution_count": 127,
   "id": "4245b634",
   "metadata": {},
   "outputs": [
    {
     "name": "stdout",
     "output_type": "stream",
     "text": [
      "18\n"
     ]
    },
    {
     "data": {
      "text/plain": [
       "array([[7., 7., 7.],\n",
       "       [7., 7., 7.],\n",
       "       [7., 7., 7.],\n",
       "       [1., 1., 1.],\n",
       "       [1., 1., 1.],\n",
       "       [1., 1., 1.]])"
      ]
     },
     "execution_count": 127,
     "metadata": {},
     "output_type": "execute_result"
    }
   ],
   "source": [
    "vertical_stack = np.vstack((a,b))\n",
    "print(vertical_stack.size)\n",
    "vertical_stack"
   ]
  },
  {
   "cell_type": "code",
   "execution_count": 129,
   "id": "ede6c53c",
   "metadata": {},
   "outputs": [
    {
     "name": "stdout",
     "output_type": "stream",
     "text": [
      "(3, 6)\n",
      "2\n"
     ]
    },
    {
     "data": {
      "text/plain": [
       "array([[7., 7., 7., 1., 1., 1.],\n",
       "       [7., 7., 7., 1., 1., 1.],\n",
       "       [7., 7., 7., 1., 1., 1.]])"
      ]
     },
     "execution_count": 129,
     "metadata": {},
     "output_type": "execute_result"
    }
   ],
   "source": [
    "horizontal_stack = np.hstack((a,b))\n",
    "print(horizontal_stack.shape)\n",
    "print(horizontal_stack.ndim)\n",
    "horizontal_stack"
   ]
  },
  {
   "cell_type": "markdown",
   "id": "acf351fc",
   "metadata": {},
   "source": [
    "### Numpy Drill -- DIY"
   ]
  },
  {
   "cell_type": "code",
   "execution_count": 1,
   "id": "b422cca3",
   "metadata": {},
   "outputs": [],
   "source": [
    "# Uncomment the next line if you need install numpy\n",
    "# !pip install numpy --upgrade"
   ]
  },
  {
   "cell_type": "markdown",
   "id": "2be9ab60",
   "metadata": {},
   "source": [
    "#### 1. Import the numpy package under the name `np` "
   ]
  },
  {
   "cell_type": "code",
   "execution_count": null,
   "id": "ac903004",
   "metadata": {},
   "outputs": [],
   "source": []
  },
  {
   "cell_type": "markdown",
   "id": "3480340c",
   "metadata": {},
   "source": [
    "#### 2. Create a null vector of size 10"
   ]
  },
  {
   "cell_type": "code",
   "execution_count": null,
   "id": "15fc52af",
   "metadata": {},
   "outputs": [],
   "source": []
  },
  {
   "cell_type": "markdown",
   "id": "fe050835",
   "metadata": {},
   "source": [
    "#### 3. Create a vector with values ranging from 10 to 30 "
   ]
  },
  {
   "cell_type": "code",
   "execution_count": null,
   "id": "fc7f6e69",
   "metadata": {},
   "outputs": [],
   "source": []
  },
  {
   "cell_type": "markdown",
   "id": "44aa2cb9",
   "metadata": {},
   "source": [
    "#### 4. Reverse a vector (first element becomes last)"
   ]
  },
  {
   "cell_type": "code",
   "execution_count": null,
   "id": "2e88a6c2",
   "metadata": {},
   "outputs": [],
   "source": []
  },
  {
   "cell_type": "markdown",
   "id": "d998a721",
   "metadata": {},
   "source": [
    "#### 5. Create a 3x3 matrix with values ranging from 0 to 8 "
   ]
  },
  {
   "cell_type": "code",
   "execution_count": null,
   "id": "fb466704",
   "metadata": {},
   "outputs": [],
   "source": []
  },
  {
   "cell_type": "markdown",
   "id": "cc9ad5e1",
   "metadata": {},
   "source": [
    "#### 6. Create a 10x10 array with random values and find the minimum and maximum values"
   ]
  },
  {
   "cell_type": "code",
   "execution_count": null,
   "id": "16d3b475",
   "metadata": {},
   "outputs": [],
   "source": []
  },
  {
   "cell_type": "markdown",
   "id": "61e0a919",
   "metadata": {},
   "source": [
    "#### 7. Create random vector of size 10 and replace the maximum value by 0"
   ]
  },
  {
   "cell_type": "code",
   "execution_count": null,
   "id": "fab72c84",
   "metadata": {},
   "outputs": [],
   "source": []
  },
  {
   "cell_type": "markdown",
   "id": "4033390b",
   "metadata": {},
   "source": [
    "#### 8. Create an array and find the most frequent value in the array"
   ]
  },
  {
   "cell_type": "code",
   "execution_count": null,
   "id": "71f9b33a",
   "metadata": {},
   "outputs": [],
   "source": []
  },
  {
   "cell_type": "markdown",
   "id": "e41fbe69",
   "metadata": {},
   "source": [
    "#### 9. Find the total value of the elements in the array created in 8"
   ]
  },
  {
   "cell_type": "code",
   "execution_count": null,
   "id": "09dea457",
   "metadata": {},
   "outputs": [],
   "source": []
  },
  {
   "cell_type": "markdown",
   "id": "4c3be93c",
   "metadata": {},
   "source": [
    "#### 9. Add 3 to every element of the array created in 8 and find the lowest value in the resulting array"
   ]
  },
  {
   "cell_type": "code",
   "execution_count": null,
   "id": "8dcef00b",
   "metadata": {},
   "outputs": [],
   "source": []
  },
  {
   "cell_type": "markdown",
   "id": "58ea3797",
   "metadata": {},
   "source": [
    "#### 10. Create an array and find the most frequent value in the array"
   ]
  },
  {
   "cell_type": "code",
   "execution_count": null,
   "id": "e16506d5",
   "metadata": {},
   "outputs": [],
   "source": []
  },
  {
   "cell_type": "markdown",
   "id": "650ecb68",
   "metadata": {},
   "source": [
    "The array below represents the distance covered by racers in meters"
   ]
  },
  {
   "cell_type": "code",
   "execution_count": 3,
   "id": "275fe0e8",
   "metadata": {},
   "outputs": [
    {
     "name": "stdout",
     "output_type": "stream",
     "text": [
      "[440 429 203 499 532 338 425 355 399 216 283 500 430 202 207 387 270 280\n",
      " 416 368 436 360 305 291 349 472 544 285 521 467]\n"
     ]
    }
   ],
   "source": [
    "distance_covered = np.random.randint(200, 550, 30)\n",
    "#print(distance_covered)"
   ]
  },
  {
   "cell_type": "markdown",
   "id": "999abb50",
   "metadata": {},
   "source": [
    "#### 11. What is the avergae distance covered by the racers?"
   ]
  },
  {
   "cell_type": "code",
   "execution_count": null,
   "id": "8d7f5277",
   "metadata": {},
   "outputs": [],
   "source": []
  },
  {
   "cell_type": "markdown",
   "id": "9f6a0904",
   "metadata": {},
   "source": [
    "#### 11. What is the total distance covered in `kilometers`?"
   ]
  },
  {
   "cell_type": "code",
   "execution_count": null,
   "id": "5a6d92a7",
   "metadata": {},
   "outputs": [],
   "source": []
  },
  {
   "cell_type": "markdown",
   "id": "b5fa1979",
   "metadata": {},
   "source": [
    "#### 12. How many meter is covered by the racer with the lowest distance travelled?"
   ]
  },
  {
   "cell_type": "code",
   "execution_count": null,
   "id": "8bbd9229",
   "metadata": {},
   "outputs": [],
   "source": []
  },
  {
   "cell_type": "markdown",
   "id": "6a7fbbe1",
   "metadata": {},
   "source": [
    "#### 13. How many racers are included altogether?"
   ]
  },
  {
   "cell_type": "code",
   "execution_count": null,
   "id": "d4ed640d",
   "metadata": {},
   "outputs": [],
   "source": []
  },
  {
   "cell_type": "markdown",
   "id": "63fd09e5",
   "metadata": {},
   "source": [
    "#### 14. Given the average time travelled as 85 minutes, callute the speed travelled by the respective racer in `Km/hr`"
   ]
  },
  {
   "cell_type": "code",
   "execution_count": null,
   "id": "c86a0c63",
   "metadata": {},
   "outputs": [],
   "source": []
  },
  {
   "cell_type": "markdown",
   "id": "41c91915",
   "metadata": {},
   "source": [
    "#### 15. Which racer travelled with the maximum speed?"
   ]
  },
  {
   "cell_type": "code",
   "execution_count": null,
   "id": "b40900bf",
   "metadata": {},
   "outputs": [],
   "source": []
  },
  {
   "cell_type": "code",
   "execution_count": null,
   "id": "80949d37",
   "metadata": {},
   "outputs": [],
   "source": []
  }
 ],
 "metadata": {
  "kernelspec": {
   "display_name": "Python 3 (ipykernel)",
   "language": "python",
   "name": "python3"
  },
  "language_info": {
   "codemirror_mode": {
    "name": "ipython",
    "version": 3
   },
   "file_extension": ".py",
   "mimetype": "text/x-python",
   "name": "python",
   "nbconvert_exporter": "python",
   "pygments_lexer": "ipython3",
   "version": "3.10.9"
  }
 },
 "nbformat": 4,
 "nbformat_minor": 5
}
