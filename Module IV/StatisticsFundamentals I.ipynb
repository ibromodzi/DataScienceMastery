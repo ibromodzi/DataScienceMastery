{
 "cells": [
  {
   "cell_type": "markdown",
   "id": "1ce30bf7",
   "metadata": {},
   "source": [
    "# Fundamental Statisitics"
   ]
  },
  {
   "cell_type": "markdown",
   "id": "9e51fefb",
   "metadata": {},
   "source": [
    "This aspect is meant to introduce you to the field of statistics and explore various statistical concepts that'll aid you in navigating the field of data science and ultimately enable you to get the most out of your data. The topics here are discussed under two major categories namely descriptive and inferential statistics. The emphasis of discussing these categories is to improve your statistical literacy and the use of technology to answer questions."
   ]
  },
  {
   "cell_type": "markdown",
   "id": "9c5a6e61",
   "metadata": {},
   "source": [
    "## What exactly is statistics?"
   ]
  },
  {
   "cell_type": "markdown",
   "id": "af871074",
   "metadata": {},
   "source": [
    "The art and science of answering questions and exploring ideas through the processes of gathering data, describing data, and making inferences about a population on the basis of a smaller sample. With this in mind, you are expected to have the skills neccessary to __formulate questions__ that can be addressed with data and __collect__, __organize (analyze)__, and __display relevant data to answer the questions (interpret results).__"
   ]
  },
  {
   "cell_type": "markdown",
   "id": "eec9fb6c",
   "metadata": {},
   "source": [
    "An example of a statistical question is _“How old are the students in my school?”_. This\n",
    "is because to answer the second question, you would need to determine the ages of all students in your school\n",
    "and there would be variability in those data (since not all students are the same age). <br> <br>Another example of statistical question is _\"Which region of Nigeria had the lowest mortality rates in 2021?_ __Could you think of more statistical questions?__"
   ]
  },
  {
   "cell_type": "markdown",
   "id": "3eeb8e83",
   "metadata": {},
   "source": [
    "## Collecting your data"
   ]
  },
  {
   "cell_type": "markdown",
   "id": "4252d524",
   "metadata": {},
   "source": [
    "In order to gather/get/generate the data needed to answer your questions, you have to be familiar with a host terminologies, which is what this aspect deals with. We'll be looking at the following concepts:\n",
    "1. Population and Sample\n",
    "2. Variables\n",
    "3. Measures of central tendency\n",
    "4. Measures of variability and Coefficient of Variance\n",
    "5. Skewness and Kurtosis\n",
    "6. Normal distribution\n",
    "7. Central Limit theorem\n",
    "8. Confidence Interval"
   ]
  },
  {
   "cell_type": "markdown",
   "id": "c8c195d1",
   "metadata": {},
   "source": [
    "### Variables and Cases"
   ]
  },
  {
   "cell_type": "markdown",
   "id": "a69b01ac",
   "metadata": {},
   "source": [
    "A __case__ is an experimental unit. These are the individuals from which data are collected. When data are collected from humans, we sometimes call them participants. When data are collected from animals, the term subjects is often used."
   ]
  },
  {
   "cell_type": "markdown",
   "id": "c61c9c3a",
   "metadata": {},
   "source": [
    "A __variable__ is a characteristic that is measured and can take on different values. In other words, something that varies between cases. This is in contrast to a constant which is the same for all cases in a research study."
   ]
  },
  {
   "cell_type": "markdown",
   "id": "36f6a624",
   "metadata": {},
   "source": [
    "#### Example\n",
    "A teacher wants to know if `third grade students` who spend more `time` reading at home get `higher homework` and `exam grades.`\n",
    "\n",
    "The students are the cases. There are three variables: amount of time spent reading at home, homework grades, and exam grades. The grade-level of the students is a constant because all students are in the third grade."
   ]
  },
  {
   "cell_type": "markdown",
   "id": "16ecad45",
   "metadata": {},
   "source": [
    "#### Types of Variables"
   ]
  },
  {
   "cell_type": "markdown",
   "id": "120c2052",
   "metadata": {},
   "source": [
    "Variables can be broadly classififed into categorical(or qualitative) and quantitative variable."
   ]
  },
  {
   "cell_type": "markdown",
   "id": "215ca135",
   "metadata": {},
   "source": [
    "1. Categorical variables: Names or labels (i.e., categories) with no logical order or with a logical order but inconsistent differences between groups (e.g., rankings), also known as qualitative.\n",
    "2. Quantitative variable: Numerical values with magnitudes that can be placed in a meaningful order with consistent intervals, also known as numerical."
   ]
  },
  {
   "cell_type": "markdown",
   "id": "6b1521f4",
   "metadata": {},
   "source": [
    "A team of medical researchers weigh participants in kilograms. What kind of variable is this??"
   ]
  },
  {
   "cell_type": "markdown",
   "id": "47fc4361",
   "metadata": {},
   "source": [
    "A teacher conducts a poll in her class. She asks her students if they would prefer chocolate, vanilla, or strawberry ice cream at their class party. Ice cream flavor here is what type of variable?"
   ]
  },
  {
   "cell_type": "markdown",
   "id": "e19eacc9",
   "metadata": {},
   "source": [
    "###### Independent VS dependent variable\n",
    "Experiments are usually designed to find out what effect one variable has on another. In some research studies one variable is used to predict or explain differences in another variable. In those cases, the explanatory variable (also known as independent/predicor variable) is used to predict or explain differences in the response variable. In an experimental study, the explanatory variable is the variable that is manipulated by the researcher."
   ]
  },
  {
   "cell_type": "markdown",
   "id": "f35b26f2",
   "metadata": {},
   "source": [
    "### Population and Sample"
   ]
  },
  {
   "cell_type": "markdown",
   "id": "d4567a33",
   "metadata": {},
   "source": [
    "We often have questions concerning large populations. Gathering information from the entire population is not always possible due to barriers such as time, accessibility, or cost. Instead of gathering information from the whole population, we often gather information from a smaller subset of the population, known as a sample."
   ]
  },
  {
   "cell_type": "markdown",
   "id": "553aefc7",
   "metadata": {},
   "source": [
    "__Poupulation:__ The entire set of possible cases"
   ]
  },
  {
   "cell_type": "markdown",
   "id": "d5ef8e78",
   "metadata": {},
   "source": [
    "__Sample__: A subset of the population from which data are collected"
   ]
  },
  {
   "cell_type": "markdown",
   "id": "82134fd1",
   "metadata": {},
   "source": [
    "__Statistic__: A measure concerning a sample (e.g., sample mean)"
   ]
  },
  {
   "cell_type": "markdown",
   "id": "f48040ed",
   "metadata": {},
   "source": [
    "__Parameter__: A measure concerning a population (e.g., population mean)"
   ]
  },
  {
   "cell_type": "markdown",
   "id": "16d50cfe",
   "metadata": {},
   "source": [
    "__The process of using sample statistics to make conclusions about population parameters is known as inferential statistics. In other words, data from a sample are used to make an inference about a population.__"
   ]
  },
  {
   "cell_type": "markdown",
   "id": "4cdd673f",
   "metadata": {},
   "source": [
    "A survey is carried out at Unilorin to estimate the proportion of all undergraduate students living at home during the current semester. Of the 20,000 undergraduate students enrolled at the campus, a random sample of 300 was surveyed."
   ]
  },
  {
   "cell_type": "markdown",
   "id": "457ad266",
   "metadata": {},
   "source": [
    "* Population: All 20,000 undergraduate students at Penn State Altoona\n",
    "* Sample: The 300 undergraduate students surveyed"
   ]
  },
  {
   "cell_type": "markdown",
   "id": "42db32ad",
   "metadata": {},
   "source": [
    "### Measures of central tendency"
   ]
  },
  {
   "cell_type": "markdown",
   "id": "704cf6e7",
   "metadata": {},
   "source": [
    "Mathematically central tendency means measuring the center or distribution of location of values of a data set. It gives an idea of the average value of the data in the data set and also an indication of how widely the values are spread in the data set. That in turn helps in evaluating the chances of a new input fitting into the existing data set and hence probability of success."
   ]
  },
  {
   "cell_type": "markdown",
   "id": "ae4e0624",
   "metadata": {},
   "source": [
    "__Mean:__ It is the Average value of the data which is a division of sum of the values with the number of values"
   ]
  },
  {
   "cell_type": "code",
   "execution_count": 2,
   "id": "e6202f81",
   "metadata": {},
   "outputs": [
    {
     "name": "stdout",
     "output_type": "stream",
     "text": [
      "Student age is: 13.33\n"
     ]
    }
   ],
   "source": [
    "student_age = [12,11,14,12,13,15,16,13,14,15,14,11]\n",
    "mean_age = sum(student_age)/len(student_age)\n",
    "mean_age_rounded = round(mean_age, 2)\n",
    "print(f\"Student age is: {mean_age_rounded}\")"
   ]
  },
  {
   "cell_type": "code",
   "execution_count": 10,
   "id": "bb4b3f29",
   "metadata": {},
   "outputs": [
    {
     "name": "stdout",
     "output_type": "stream",
     "text": [
      "mean age with numpy: 13.33\n"
     ]
    }
   ],
   "source": [
    "# with numpy\n",
    "import numpy as np\n",
    "student_age_arr = np.array(student_age)\n",
    "mean_age_np = np.mean(student_age_arr)\n",
    "print(f\"mean age with numpy: {mean_age_np:.2f}\")"
   ]
  },
  {
   "cell_type": "code",
   "execution_count": 4,
   "id": "fd634f0f",
   "metadata": {},
   "outputs": [
    {
     "data": {
      "text/plain": [
       "pandas.core.series.Series"
      ]
     },
     "execution_count": 4,
     "metadata": {},
     "output_type": "execute_result"
    }
   ],
   "source": [
    "# TO DO: find the mean using Pandas (HINT: change the list to a pandas series first)\n",
    "# Your code here\n",
    "import pandas as pd\n",
    "student_age_series = pd.Series(student_age)\n",
    "type(student_age_series)"
   ]
  },
  {
   "cell_type": "code",
   "execution_count": 8,
   "id": "e7afa586",
   "metadata": {},
   "outputs": [
    {
     "data": {
      "text/plain": [
       "13.33"
      ]
     },
     "execution_count": 8,
     "metadata": {},
     "output_type": "execute_result"
    }
   ],
   "source": [
    "round(student_age_series.mean(), 2)"
   ]
  },
  {
   "cell_type": "code",
   "execution_count": 48,
   "id": "35bac5c2",
   "metadata": {},
   "outputs": [],
   "source": [
    "# TO DO: find the mean using the statistics module"
   ]
  },
  {
   "cell_type": "markdown",
   "id": "73ca7438",
   "metadata": {},
   "source": [
    "__Median:__ It is the middle value in distribution when the values are arranged in ascending or descending order."
   ]
  },
  {
   "cell_type": "code",
   "execution_count": 11,
   "id": "5f982864",
   "metadata": {},
   "outputs": [
    {
     "name": "stdout",
     "output_type": "stream",
     "text": [
      "The median age is: 13.5\n"
     ]
    }
   ],
   "source": [
    "#list_sorted = sorted(student_age)\n",
    "#mid = len(list_sorted)//2 # provided the length % 2 != 0\n",
    "#median = list_sorted[mid]\n",
    "#print(median)\n",
    "median_age = np.median(student_age_arr)\n",
    "print(f\"The median age is: {median_age}\")"
   ]
  },
  {
   "cell_type": "markdown",
   "id": "5b864da4",
   "metadata": {},
   "source": [
    "__Mode:__ It is the most commonly occurring value in a distribution"
   ]
  },
  {
   "cell_type": "code",
   "execution_count": 12,
   "id": "aaf39488",
   "metadata": {},
   "outputs": [
    {
     "name": "stdout",
     "output_type": "stream",
     "text": [
      "Mode is: 14\n"
     ]
    }
   ],
   "source": [
    "from statistics import mode\n",
    "mode_age = mode(student_age)\n",
    "print(f\"Mode is: {mode_age}\")\n",
    "#print(mode(student_age_arr))"
   ]
  },
  {
   "cell_type": "markdown",
   "id": "52a572d2",
   "metadata": {},
   "source": [
    "We'll demonstrate the difference between sample and population statistics here. For example, we are interested in the shoe size the of guys residing in school owned hostel."
   ]
  },
  {
   "cell_type": "code",
   "execution_count": 13,
   "id": "1ecb9ef7",
   "metadata": {},
   "outputs": [
    {
     "name": "stdout",
     "output_type": "stream",
     "text": [
      "[34 40 40 34 37 40 30 42 33 37 33 40 34 38 33 35 34 31 33 40 30 44 43 33\n",
      " 33 43 33 42 30 34 44 31 32 41 31 38 38 31 44 42 34 42 39 40 39 32 36 41\n",
      " 30 31 34 38 32 34 35 30 41 41 39 34 39 41 37 33 37 42 34 44 30 41 35 30\n",
      " 32 31 36 39 30 31 36 32 33 39 33 31 34 42 35 36 43 30 41 36 34 41 39 43\n",
      " 36 43 34 37 43 39 38 44 33 32 37 30 44 33 33 41 31 39 36 38 32 32 39 38\n",
      " 43 39 44 32 43 37 32 42 42 36 33 44 43 34 34 31 43 39 43 35 37 41 40 40\n",
      " 44 41 41 41 40 32]\n"
     ]
    }
   ],
   "source": [
    "# let's assume the total number of guys residing in school owned hostel is 150\n",
    "size_pool = np.random.randint(30, 45, 150)\n",
    "print(size_pool)"
   ]
  },
  {
   "cell_type": "code",
   "execution_count": 14,
   "id": "3a13081e",
   "metadata": {},
   "outputs": [
    {
     "name": "stdout",
     "output_type": "stream",
     "text": [
      "Mean shoe size of the population: 36.83\n"
     ]
    }
   ],
   "source": [
    "population_mean = np.mean(size_pool)\n",
    "print(f\"Mean shoe size of the population: {population_mean:.2f}\")"
   ]
  },
  {
   "cell_type": "code",
   "execution_count": 15,
   "id": "673dd4be",
   "metadata": {},
   "outputs": [
    {
     "name": "stdout",
     "output_type": "stream",
     "text": [
      "Median shoe size of the population is 37.00\n"
     ]
    }
   ],
   "source": [
    "# TO DO: find the median of the population\n",
    "population_median = np.median(size_pool)\n",
    "print(f\"Median shoe size of the population is {population_median:.2f}\")"
   ]
  },
  {
   "cell_type": "code",
   "execution_count": 11,
   "id": "735cbe59",
   "metadata": {},
   "outputs": [],
   "source": [
    "# TO DO: find the mode of the population"
   ]
  },
  {
   "cell_type": "code",
   "execution_count": 21,
   "id": "96e9ce17",
   "metadata": {},
   "outputs": [
    {
     "name": "stdout",
     "output_type": "stream",
     "text": [
      "[39 37 33 40 33 39 42 32 43 44 33 40 31 33 31 41 32 33 33 40 44 41 35 37\n",
      " 41 42 42 43 39 32 41 36 33 39 41 33 33 40 37 42]\n"
     ]
    }
   ],
   "source": [
    "# let's assume we chose to only sample three hostels\n",
    "hostel_a = np.random.choice(size_pool, 40) # where 40 students are selected randomly in the hostel\n",
    "print(hostel_a)"
   ]
  },
  {
   "cell_type": "code",
   "execution_count": 22,
   "id": "5781be4f",
   "metadata": {},
   "outputs": [
    {
     "name": "stdout",
     "output_type": "stream",
     "text": [
      "Sample mean is: 37.50\n"
     ]
    }
   ],
   "source": [
    "sample_mean = np.mean(hostel_a)\n",
    "print(f\"Sample mean is: {sample_mean:.2f}\")"
   ]
  },
  {
   "cell_type": "code",
   "execution_count": 23,
   "id": "28f04d5a",
   "metadata": {},
   "outputs": [],
   "source": [
    "# Let's create more sample and compare their means\n",
    "hostel_b = np.random.choice(size_pool, 35)\n",
    "hostel_c = np.random.choice(size_pool, 50)"
   ]
  },
  {
   "cell_type": "code",
   "execution_count": 24,
   "id": "3671f517",
   "metadata": {},
   "outputs": [
    {
     "name": "stdout",
     "output_type": "stream",
     "text": [
      "[array([39, 37, 33, 40, 33, 39, 42, 32, 43, 44, 33, 40, 31, 33, 31, 41, 32,\n",
      "       33, 33, 40, 44, 41, 35, 37, 41, 42, 42, 43, 39, 32, 41, 36, 33, 39,\n",
      "       41, 33, 33, 40, 37, 42]), array([34, 39, 36, 31, 34, 31, 32, 36, 33, 34, 32, 39, 42, 33, 44, 40, 37,\n",
      "       43, 34, 34, 38, 36, 30, 34, 43, 37, 43, 32, 30, 33, 44, 39, 32, 33,\n",
      "       44]), array([39, 44, 42, 31, 34, 41, 37, 33, 39, 41, 30, 38, 34, 38, 31, 33, 40,\n",
      "       33, 34, 44, 32, 32, 36, 33, 41, 34, 34, 44, 34, 41, 42, 41, 36, 34,\n",
      "       40, 38, 30, 34, 36, 44, 40, 39, 38, 34, 41, 44, 42, 41, 32, 34])]\n"
     ]
    }
   ],
   "source": [
    "# let's create a list of list out of the sample\n",
    "all_samples = [hostel_a, hostel_b, hostel_c]\n",
    "print(all_samples)"
   ]
  },
  {
   "cell_type": "code",
   "execution_count": 20,
   "id": "4e36830a",
   "metadata": {},
   "outputs": [
    {
     "data": {
      "text/plain": [
       "125"
      ]
     },
     "execution_count": 20,
     "metadata": {},
     "output_type": "execute_result"
    }
   ],
   "source": [
    "len(hostel_a)+len(hostel_b)+len(hostel_c)"
   ]
  },
  {
   "cell_type": "code",
   "execution_count": 16,
   "id": "9b058204",
   "metadata": {},
   "outputs": [
    {
     "name": "stdout",
     "output_type": "stream",
     "text": [
      "[37.95, 35.542857142857144, 37.38]\n"
     ]
    }
   ],
   "source": [
    "# now let's compare the means of the three samples\n",
    "sample_mean = []\n",
    "for hostel in all_samples:\n",
    "    sample_mean.append(np.mean(hostel))\n",
    "    \n",
    "print(sample_mean)"
   ]
  },
  {
   "cell_type": "code",
   "execution_count": 17,
   "id": "837fd696",
   "metadata": {},
   "outputs": [],
   "source": [
    "# We can see that the samples have slightly different sample means"
   ]
  },
  {
   "cell_type": "code",
   "execution_count": 33,
   "id": "4da7941c",
   "metadata": {},
   "outputs": [
    {
     "data": {
      "text/html": [
       "<div>\n",
       "<style scoped>\n",
       "    .dataframe tbody tr th:only-of-type {\n",
       "        vertical-align: middle;\n",
       "    }\n",
       "\n",
       "    .dataframe tbody tr th {\n",
       "        vertical-align: top;\n",
       "    }\n",
       "\n",
       "    .dataframe thead th {\n",
       "        text-align: right;\n",
       "    }\n",
       "</style>\n",
       "<table border=\"1\" class=\"dataframe\">\n",
       "  <thead>\n",
       "    <tr style=\"text-align: right;\">\n",
       "      <th></th>\n",
       "      <th>hostel_a</th>\n",
       "      <th>hostel_b</th>\n",
       "      <th>hostel_c</th>\n",
       "    </tr>\n",
       "  </thead>\n",
       "  <tbody>\n",
       "    <tr>\n",
       "      <th>0</th>\n",
       "      <td>39.0</td>\n",
       "      <td>34.0</td>\n",
       "      <td>39</td>\n",
       "    </tr>\n",
       "    <tr>\n",
       "      <th>1</th>\n",
       "      <td>37.0</td>\n",
       "      <td>39.0</td>\n",
       "      <td>44</td>\n",
       "    </tr>\n",
       "    <tr>\n",
       "      <th>2</th>\n",
       "      <td>33.0</td>\n",
       "      <td>36.0</td>\n",
       "      <td>42</td>\n",
       "    </tr>\n",
       "    <tr>\n",
       "      <th>3</th>\n",
       "      <td>40.0</td>\n",
       "      <td>31.0</td>\n",
       "      <td>31</td>\n",
       "    </tr>\n",
       "    <tr>\n",
       "      <th>4</th>\n",
       "      <td>33.0</td>\n",
       "      <td>34.0</td>\n",
       "      <td>34</td>\n",
       "    </tr>\n",
       "    <tr>\n",
       "      <th>5</th>\n",
       "      <td>39.0</td>\n",
       "      <td>31.0</td>\n",
       "      <td>41</td>\n",
       "    </tr>\n",
       "    <tr>\n",
       "      <th>6</th>\n",
       "      <td>42.0</td>\n",
       "      <td>32.0</td>\n",
       "      <td>37</td>\n",
       "    </tr>\n",
       "    <tr>\n",
       "      <th>7</th>\n",
       "      <td>32.0</td>\n",
       "      <td>36.0</td>\n",
       "      <td>33</td>\n",
       "    </tr>\n",
       "    <tr>\n",
       "      <th>8</th>\n",
       "      <td>43.0</td>\n",
       "      <td>33.0</td>\n",
       "      <td>39</td>\n",
       "    </tr>\n",
       "    <tr>\n",
       "      <th>9</th>\n",
       "      <td>44.0</td>\n",
       "      <td>34.0</td>\n",
       "      <td>41</td>\n",
       "    </tr>\n",
       "    <tr>\n",
       "      <th>10</th>\n",
       "      <td>33.0</td>\n",
       "      <td>32.0</td>\n",
       "      <td>30</td>\n",
       "    </tr>\n",
       "    <tr>\n",
       "      <th>11</th>\n",
       "      <td>40.0</td>\n",
       "      <td>39.0</td>\n",
       "      <td>38</td>\n",
       "    </tr>\n",
       "    <tr>\n",
       "      <th>12</th>\n",
       "      <td>31.0</td>\n",
       "      <td>42.0</td>\n",
       "      <td>34</td>\n",
       "    </tr>\n",
       "    <tr>\n",
       "      <th>13</th>\n",
       "      <td>33.0</td>\n",
       "      <td>33.0</td>\n",
       "      <td>38</td>\n",
       "    </tr>\n",
       "    <tr>\n",
       "      <th>14</th>\n",
       "      <td>31.0</td>\n",
       "      <td>44.0</td>\n",
       "      <td>31</td>\n",
       "    </tr>\n",
       "    <tr>\n",
       "      <th>15</th>\n",
       "      <td>41.0</td>\n",
       "      <td>40.0</td>\n",
       "      <td>33</td>\n",
       "    </tr>\n",
       "    <tr>\n",
       "      <th>16</th>\n",
       "      <td>32.0</td>\n",
       "      <td>37.0</td>\n",
       "      <td>40</td>\n",
       "    </tr>\n",
       "    <tr>\n",
       "      <th>17</th>\n",
       "      <td>33.0</td>\n",
       "      <td>43.0</td>\n",
       "      <td>33</td>\n",
       "    </tr>\n",
       "    <tr>\n",
       "      <th>18</th>\n",
       "      <td>33.0</td>\n",
       "      <td>34.0</td>\n",
       "      <td>34</td>\n",
       "    </tr>\n",
       "    <tr>\n",
       "      <th>19</th>\n",
       "      <td>40.0</td>\n",
       "      <td>34.0</td>\n",
       "      <td>44</td>\n",
       "    </tr>\n",
       "    <tr>\n",
       "      <th>20</th>\n",
       "      <td>44.0</td>\n",
       "      <td>38.0</td>\n",
       "      <td>32</td>\n",
       "    </tr>\n",
       "    <tr>\n",
       "      <th>21</th>\n",
       "      <td>41.0</td>\n",
       "      <td>36.0</td>\n",
       "      <td>32</td>\n",
       "    </tr>\n",
       "    <tr>\n",
       "      <th>22</th>\n",
       "      <td>35.0</td>\n",
       "      <td>30.0</td>\n",
       "      <td>36</td>\n",
       "    </tr>\n",
       "    <tr>\n",
       "      <th>23</th>\n",
       "      <td>37.0</td>\n",
       "      <td>34.0</td>\n",
       "      <td>33</td>\n",
       "    </tr>\n",
       "    <tr>\n",
       "      <th>24</th>\n",
       "      <td>41.0</td>\n",
       "      <td>43.0</td>\n",
       "      <td>41</td>\n",
       "    </tr>\n",
       "    <tr>\n",
       "      <th>25</th>\n",
       "      <td>42.0</td>\n",
       "      <td>37.0</td>\n",
       "      <td>34</td>\n",
       "    </tr>\n",
       "    <tr>\n",
       "      <th>26</th>\n",
       "      <td>42.0</td>\n",
       "      <td>43.0</td>\n",
       "      <td>34</td>\n",
       "    </tr>\n",
       "    <tr>\n",
       "      <th>27</th>\n",
       "      <td>43.0</td>\n",
       "      <td>32.0</td>\n",
       "      <td>44</td>\n",
       "    </tr>\n",
       "    <tr>\n",
       "      <th>28</th>\n",
       "      <td>39.0</td>\n",
       "      <td>30.0</td>\n",
       "      <td>34</td>\n",
       "    </tr>\n",
       "    <tr>\n",
       "      <th>29</th>\n",
       "      <td>32.0</td>\n",
       "      <td>33.0</td>\n",
       "      <td>41</td>\n",
       "    </tr>\n",
       "    <tr>\n",
       "      <th>30</th>\n",
       "      <td>41.0</td>\n",
       "      <td>44.0</td>\n",
       "      <td>42</td>\n",
       "    </tr>\n",
       "    <tr>\n",
       "      <th>31</th>\n",
       "      <td>36.0</td>\n",
       "      <td>39.0</td>\n",
       "      <td>41</td>\n",
       "    </tr>\n",
       "    <tr>\n",
       "      <th>32</th>\n",
       "      <td>33.0</td>\n",
       "      <td>32.0</td>\n",
       "      <td>36</td>\n",
       "    </tr>\n",
       "    <tr>\n",
       "      <th>33</th>\n",
       "      <td>39.0</td>\n",
       "      <td>33.0</td>\n",
       "      <td>34</td>\n",
       "    </tr>\n",
       "    <tr>\n",
       "      <th>34</th>\n",
       "      <td>41.0</td>\n",
       "      <td>44.0</td>\n",
       "      <td>40</td>\n",
       "    </tr>\n",
       "    <tr>\n",
       "      <th>35</th>\n",
       "      <td>33.0</td>\n",
       "      <td>NaN</td>\n",
       "      <td>38</td>\n",
       "    </tr>\n",
       "    <tr>\n",
       "      <th>36</th>\n",
       "      <td>33.0</td>\n",
       "      <td>NaN</td>\n",
       "      <td>30</td>\n",
       "    </tr>\n",
       "    <tr>\n",
       "      <th>37</th>\n",
       "      <td>40.0</td>\n",
       "      <td>NaN</td>\n",
       "      <td>34</td>\n",
       "    </tr>\n",
       "    <tr>\n",
       "      <th>38</th>\n",
       "      <td>37.0</td>\n",
       "      <td>NaN</td>\n",
       "      <td>36</td>\n",
       "    </tr>\n",
       "    <tr>\n",
       "      <th>39</th>\n",
       "      <td>42.0</td>\n",
       "      <td>NaN</td>\n",
       "      <td>44</td>\n",
       "    </tr>\n",
       "    <tr>\n",
       "      <th>40</th>\n",
       "      <td>NaN</td>\n",
       "      <td>NaN</td>\n",
       "      <td>40</td>\n",
       "    </tr>\n",
       "    <tr>\n",
       "      <th>41</th>\n",
       "      <td>NaN</td>\n",
       "      <td>NaN</td>\n",
       "      <td>39</td>\n",
       "    </tr>\n",
       "    <tr>\n",
       "      <th>42</th>\n",
       "      <td>NaN</td>\n",
       "      <td>NaN</td>\n",
       "      <td>38</td>\n",
       "    </tr>\n",
       "    <tr>\n",
       "      <th>43</th>\n",
       "      <td>NaN</td>\n",
       "      <td>NaN</td>\n",
       "      <td>34</td>\n",
       "    </tr>\n",
       "    <tr>\n",
       "      <th>44</th>\n",
       "      <td>NaN</td>\n",
       "      <td>NaN</td>\n",
       "      <td>41</td>\n",
       "    </tr>\n",
       "    <tr>\n",
       "      <th>45</th>\n",
       "      <td>NaN</td>\n",
       "      <td>NaN</td>\n",
       "      <td>44</td>\n",
       "    </tr>\n",
       "    <tr>\n",
       "      <th>46</th>\n",
       "      <td>NaN</td>\n",
       "      <td>NaN</td>\n",
       "      <td>42</td>\n",
       "    </tr>\n",
       "    <tr>\n",
       "      <th>47</th>\n",
       "      <td>NaN</td>\n",
       "      <td>NaN</td>\n",
       "      <td>41</td>\n",
       "    </tr>\n",
       "    <tr>\n",
       "      <th>48</th>\n",
       "      <td>NaN</td>\n",
       "      <td>NaN</td>\n",
       "      <td>32</td>\n",
       "    </tr>\n",
       "    <tr>\n",
       "      <th>49</th>\n",
       "      <td>NaN</td>\n",
       "      <td>NaN</td>\n",
       "      <td>34</td>\n",
       "    </tr>\n",
       "  </tbody>\n",
       "</table>\n",
       "</div>"
      ],
      "text/plain": [
       "    hostel_a  hostel_b  hostel_c\n",
       "0       39.0      34.0        39\n",
       "1       37.0      39.0        44\n",
       "2       33.0      36.0        42\n",
       "3       40.0      31.0        31\n",
       "4       33.0      34.0        34\n",
       "5       39.0      31.0        41\n",
       "6       42.0      32.0        37\n",
       "7       32.0      36.0        33\n",
       "8       43.0      33.0        39\n",
       "9       44.0      34.0        41\n",
       "10      33.0      32.0        30\n",
       "11      40.0      39.0        38\n",
       "12      31.0      42.0        34\n",
       "13      33.0      33.0        38\n",
       "14      31.0      44.0        31\n",
       "15      41.0      40.0        33\n",
       "16      32.0      37.0        40\n",
       "17      33.0      43.0        33\n",
       "18      33.0      34.0        34\n",
       "19      40.0      34.0        44\n",
       "20      44.0      38.0        32\n",
       "21      41.0      36.0        32\n",
       "22      35.0      30.0        36\n",
       "23      37.0      34.0        33\n",
       "24      41.0      43.0        41\n",
       "25      42.0      37.0        34\n",
       "26      42.0      43.0        34\n",
       "27      43.0      32.0        44\n",
       "28      39.0      30.0        34\n",
       "29      32.0      33.0        41\n",
       "30      41.0      44.0        42\n",
       "31      36.0      39.0        41\n",
       "32      33.0      32.0        36\n",
       "33      39.0      33.0        34\n",
       "34      41.0      44.0        40\n",
       "35      33.0       NaN        38\n",
       "36      33.0       NaN        30\n",
       "37      40.0       NaN        34\n",
       "38      37.0       NaN        36\n",
       "39      42.0       NaN        44\n",
       "40       NaN       NaN        40\n",
       "41       NaN       NaN        39\n",
       "42       NaN       NaN        38\n",
       "43       NaN       NaN        34\n",
       "44       NaN       NaN        41\n",
       "45       NaN       NaN        44\n",
       "46       NaN       NaN        42\n",
       "47       NaN       NaN        41\n",
       "48       NaN       NaN        32\n",
       "49       NaN       NaN        34"
      ]
     },
     "execution_count": 33,
     "metadata": {},
     "output_type": "execute_result"
    }
   ],
   "source": [
    "# TO DO: complete the code below:\n",
    "\n",
    "# turn the list into a dictionary with the sample names as the keys\n",
    "sample_dict = {\"hostel_a\":hostel_a,\n",
    "              \"hostel_b\":hostel_b,\n",
    "              \"hostel_c\":hostel_c}\n",
    "\n",
    "# create a DataFrame from the sample_dict\n",
    "import pandas as pd\n",
    "\n",
    "dict_to_frame = dict([(k,pd.Series(v)) for k,v in sample_dict.items() ])\n",
    "\n",
    "dict_to_frame\n",
    "\n",
    "df = pd.DataFrame(dict_to_frame)\n",
    "df"
   ]
  },
  {
   "cell_type": "code",
   "execution_count": 19,
   "id": "f84cafb7",
   "metadata": {},
   "outputs": [],
   "source": [
    "# What is the average shoe size of the students in hostel_a?"
   ]
  },
  {
   "cell_type": "code",
   "execution_count": 20,
   "id": "a5842e22",
   "metadata": {},
   "outputs": [],
   "source": [
    "# How many students in hostel_a use more than the average shoe size?"
   ]
  },
  {
   "cell_type": "code",
   "execution_count": 21,
   "id": "822a0374",
   "metadata": {},
   "outputs": [],
   "source": [
    "# Which of the hostel has the smallest shoe size \n",
    "# Hint: Use min() and compare across the three hostels"
   ]
  },
  {
   "cell_type": "code",
   "execution_count": 22,
   "id": "0bf7c8cc",
   "metadata": {},
   "outputs": [],
   "source": [
    "# What is the diffrenece between the smallest and largest shoe size in hostel B\n",
    "#Hint: use min() max()"
   ]
  },
  {
   "cell_type": "code",
   "execution_count": 23,
   "id": "e9e19d3b",
   "metadata": {},
   "outputs": [],
   "source": [
    "# What is the most commonly used shoe size across the three hostels"
   ]
  },
  {
   "cell_type": "markdown",
   "id": "895b4ca0",
   "metadata": {},
   "source": [
    "### Measures of Variability"
   ]
  },
  {
   "cell_type": "markdown",
   "id": "3d672ce7",
   "metadata": {},
   "source": [
    "While measure of central tendency describes the the approximate center of a distribution, measure of variability describes the spread of the data."
   ]
  },
  {
   "cell_type": "markdown",
   "id": "5a3049a1",
   "metadata": {},
   "source": [
    "#### Range"
   ]
  },
  {
   "cell_type": "markdown",
   "id": "78375e21",
   "metadata": {},
   "source": [
    "The range is the difference between the lowest and highest values in a data set. To determine the range:\n",
    "* Identify the largest value in your data set. This is called the maximum.\n",
    "* Identify the lowest value in your data set. This is called the minimum\n",
    "* Subtract the minimum from the maximum"
   ]
  },
  {
   "cell_type": "code",
   "execution_count": 63,
   "id": "a237ff50",
   "metadata": {},
   "outputs": [
    {
     "data": {
      "text/plain": [
       "11"
      ]
     },
     "execution_count": 63,
     "metadata": {},
     "output_type": "execute_result"
    }
   ],
   "source": [
    "age_in_years = [9, 10, 12, 13, 14, 14, 17, 17, 20]\n",
    "age_in_years_arr = np.array(age_in_years)\n",
    "age_range = age_in_years_arr.max() - age_in_years_arr.min()\n",
    "#age_range = np.max(age_in_years_arr) - np.min(age_in_years_arr)\n",
    "age_range"
   ]
  },
  {
   "cell_type": "markdown",
   "id": "dec7c2f5",
   "metadata": {},
   "source": [
    "#### Finding the upper and lower quartile"
   ]
  },
  {
   "cell_type": "markdown",
   "id": "4355c899",
   "metadata": {},
   "source": [
    "The quartiles of a group of data are the medians of the upper and lower halves of that set. The lower\n",
    "quartile, Q1, is the median of the lower half, while the upper quartile, Q3, is the median of the upper\n",
    "half. To find Q1 and Q3:\n",
    "* Put the data in order from smallest to largest.\n",
    "* Identify the upper and lower halves of your data\n",
    "* Using the lower half, find Q1 by finding the median of that half. \n",
    "* Using the upper half, find Q3 by finding the median of that half"
   ]
  },
  {
   "cell_type": "code",
   "execution_count": 29,
   "id": "6937b416",
   "metadata": {},
   "outputs": [
    {
     "data": {
      "text/plain": [
       "12.0"
      ]
     },
     "execution_count": 29,
     "metadata": {},
     "output_type": "execute_result"
    }
   ],
   "source": [
    "# first quartile\n",
    "Q1 = np.percentile(age_in_years_arr, 25)\n",
    "Q1"
   ]
  },
  {
   "cell_type": "code",
   "execution_count": 31,
   "id": "719df697",
   "metadata": {},
   "outputs": [
    {
     "data": {
      "text/plain": [
       "14.0"
      ]
     },
     "execution_count": 31,
     "metadata": {},
     "output_type": "execute_result"
    }
   ],
   "source": [
    "# second quartile\n",
    "Q2 = np.percentile(age_in_years_arr, 50)\n",
    "Q2"
   ]
  },
  {
   "cell_type": "code",
   "execution_count": 64,
   "id": "6f9f95ea",
   "metadata": {},
   "outputs": [
    {
     "data": {
      "text/plain": [
       "17.0"
      ]
     },
     "execution_count": 64,
     "metadata": {},
     "output_type": "execute_result"
    }
   ],
   "source": [
    "# third quartile\n",
    "Q3 = np.percentile(age_in_years_arr, 75)\n",
    "Q3"
   ]
  },
  {
   "cell_type": "markdown",
   "id": "5e391269",
   "metadata": {},
   "source": [
    "#### Interquartile range"
   ]
  },
  {
   "cell_type": "markdown",
   "id": "2d702afc",
   "metadata": {},
   "source": [
    "This is the difference between Q1 and Q3 and it can be used to determine the observations within a set of data may fall outside the general scope of the other observations __(i.e outliers)__"
   ]
  },
  {
   "cell_type": "code",
   "execution_count": 65,
   "id": "aa7d02d9",
   "metadata": {},
   "outputs": [
    {
     "data": {
      "text/plain": [
       "5.0"
      ]
     },
     "execution_count": 65,
     "metadata": {},
     "output_type": "execute_result"
    }
   ],
   "source": [
    "IQR = Q3 - Q1\n",
    "IQR"
   ]
  },
  {
   "cell_type": "markdown",
   "id": "cde443be",
   "metadata": {},
   "source": [
    "We can use the IQR method of identifying outliers to set up a “fence” outside of Q1 and Q3. Any values that fall outside of this fence are considered outliers. To build this fence we take 1.5 times the IQR and then subtract this value from Q1 and add this value to Q3. This gives us the minimum and maximum fence posts that we compare each observation to. Any observations that are more than 1.5 IQR below Q1 or more than 1.5 IQR above Q3 are considered outliers. This is the method that Minitab uses to identify outliers by default."
   ]
  },
  {
   "cell_type": "code",
   "execution_count": 35,
   "id": "1deadf3f",
   "metadata": {},
   "outputs": [
    {
     "data": {
      "text/plain": [
       "9.0"
      ]
     },
     "execution_count": 35,
     "metadata": {},
     "output_type": "execute_result"
    }
   ],
   "source": [
    "#A teacher wants to examine students’ test scores\n",
    "test_score = [74, 88, 78, 90, 94, 90, 84, 90, 98, 80]\n",
    "\n",
    "# turn the list to numpy array\n",
    "test_score_arr = np.array(test_score)\n",
    "# find Q1\n",
    "Q1_score = np.percentile(test_score_arr, 25)\n",
    "#find Q3\n",
    "Q3_score = np.percentile(test_score_arr, 75)\n",
    "#find  IQR\n",
    "IQR_score = Q3_score - Q1_score\n",
    "IQR_score"
   ]
  },
  {
   "cell_type": "code",
   "execution_count": 36,
   "id": "a7fc17c5",
   "metadata": {},
   "outputs": [
    {
     "name": "stdout",
     "output_type": "stream",
     "text": [
      "67.5\n",
      "103.5\n"
     ]
    }
   ],
   "source": [
    "fence_val = 1.5 * IQR_score\n",
    "lower_fence = Q1_score - (fence_val)\n",
    "upper_fence = Q3_score + (fence_val)\n",
    "print(lower_fence)\n",
    "print(upper_fence)"
   ]
  },
  {
   "cell_type": "markdown",
   "id": "4cb3fb93",
   "metadata": {},
   "source": [
    "Any scores that are less than 67.5 or greater than 103.5 are outliers."
   ]
  },
  {
   "cell_type": "markdown",
   "id": "5f82ecbf",
   "metadata": {},
   "source": [
    "##### Variance and Standard deviation"
   ]
  },
  {
   "cell_type": "markdown",
   "id": "a25479cc",
   "metadata": {},
   "source": [
    "The variance and standard deviation are a measure based on the distance each data value is from the\n",
    "mean"
   ]
  },
  {
   "cell_type": "code",
   "execution_count": 66,
   "id": "0172da6c",
   "metadata": {},
   "outputs": [
    {
     "data": {
      "text/plain": [
       "18.355555555555554"
      ]
     },
     "execution_count": 66,
     "metadata": {},
     "output_type": "execute_result"
    }
   ],
   "source": [
    "# using our size pool data, let's get the population and sample variance\n",
    "population_var = np.var(size_pool)\n",
    "population_var"
   ]
  },
  {
   "cell_type": "code",
   "execution_count": 40,
   "id": "f61f6b94",
   "metadata": {},
   "outputs": [
    {
     "data": {
      "text/plain": [
       "20.647499999999997"
      ]
     },
     "execution_count": 40,
     "metadata": {},
     "output_type": "execute_result"
    }
   ],
   "source": [
    "sample_var = np.var(hostel_a)\n",
    "sample_var"
   ]
  },
  {
   "cell_type": "code",
   "execution_count": 41,
   "id": "905e3d09",
   "metadata": {},
   "outputs": [
    {
     "data": {
      "text/plain": [
       "4.720998011249551"
      ]
     },
     "execution_count": 41,
     "metadata": {},
     "output_type": "execute_result"
    }
   ],
   "source": [
    "# standard deviation\n",
    "population_std = np.std(size_pool)\n",
    "population_std"
   ]
  },
  {
   "cell_type": "code",
   "execution_count": 42,
   "id": "e29985eb",
   "metadata": {},
   "outputs": [
    {
     "data": {
      "text/plain": [
       "4.543952024394623"
      ]
     },
     "execution_count": 42,
     "metadata": {},
     "output_type": "execute_result"
    }
   ],
   "source": [
    "sample_std = np.std(hostel_a)\n",
    "sample_std"
   ]
  },
  {
   "cell_type": "code",
   "execution_count": null,
   "id": "6a0b9b75",
   "metadata": {},
   "outputs": [],
   "source": []
  }
 ],
 "metadata": {
  "kernelspec": {
   "display_name": "Python 3 (ipykernel)",
   "language": "python",
   "name": "python3"
  },
  "language_info": {
   "codemirror_mode": {
    "name": "ipython",
    "version": 3
   },
   "file_extension": ".py",
   "mimetype": "text/x-python",
   "name": "python",
   "nbconvert_exporter": "python",
   "pygments_lexer": "ipython3",
   "version": "3.10.9"
  }
 },
 "nbformat": 4,
 "nbformat_minor": 5
}
