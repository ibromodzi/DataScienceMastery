{
 "cells": [
  {
   "cell_type": "code",
   "execution_count": 19,
   "id": "619ed395",
   "metadata": {},
   "outputs": [],
   "source": [
    "import numpy as np\n",
    "import seaborn as sns\n",
    "import matplotlib.pyplot as plt"
   ]
  },
  {
   "cell_type": "markdown",
   "id": "283a9d52",
   "metadata": {},
   "source": [
    "* Normal distribution\n",
    "* Skewness and Kurtosis\n",
    "* Central Limit theorem\n",
    "* Confidence Interval\n",
    "* Test hypothesis\n",
    "* Level of significance\n",
    "* P value\n",
    "* Type I and Type II error"
   ]
  },
  {
   "cell_type": "markdown",
   "id": "7783d175",
   "metadata": {},
   "source": [
    "### Normal Distribution"
   ]
  },
  {
   "cell_type": "markdown",
   "id": "7aa1d361",
   "metadata": {},
   "source": [
    "Normal distribution, also known as the Gaussian distribution, is a probability distribution that is symmetric about the mean, showing that data near the mean are more frequent in occurrence than data far from the mean. In graph form, normal distribution will appear as a bell curve."
   ]
  },
  {
   "cell_type": "markdown",
   "id": "73155ad4",
   "metadata": {},
   "source": [
    "<img src = \"https://www.statisticshowto.com/wp-content/uploads/2013/09/normal-distribution-probability.jpg\" alt = \"Normal distribution\"/>"
   ]
  },
  {
   "cell_type": "markdown",
   "id": "e2e7e075",
   "metadata": {},
   "source": [
    "Real life examples of Normal distribution are:\n",
    "* Human heights (people of the same gender and age group typically cluster around average with normal distribution)\n",
    "* IQ scores (the mean is typically 100, SD = 15)\n",
    "* Measure of blood pressure (mean = 120/80, SD = 20)"
   ]
  },
  {
   "cell_type": "markdown",
   "id": "fadd3b9b",
   "metadata": {},
   "source": [
    "While training machine learning models, the normal distribution is very important because it helps normalize the data. Many machine learning algorithms assume normal distribution in the data. If you have normally distributed inputs, use a normal probability function to calculate them. If your inputs are not normally distributed, transform them by applying log or square root transformations until they become normally distributed before feeding into an algorithm that assumes normal distribution (such as linear regression)."
   ]
  },
  {
   "cell_type": "code",
   "execution_count": 43,
   "id": "cc916b6d",
   "metadata": {},
   "outputs": [
    {
     "data": {
      "image/png": "[encoded data removed]",
      "text/plain": [
       "<Figure size 432x288 with 1 Axes>"
      ]
     },
     "metadata": {
      "needs_background": "light"
     },
     "output_type": "display_data"
    }
   ],
   "source": [
    "# Probability density function (PDF) is a statistical expression that defines a probability distribution \n",
    "# (the likelihood of an outcome) for a discrete random variable (e.g., a stock or ETF) \n",
    "# as opposed to a continuous random variable.\n",
    "\n",
    "# generate some numbers between 1 and 50\n",
    "x = np.linspace(1,50,200)\n",
    "\n",
    "# calculate the mean and standard deviation\n",
    "mean, sd = np.mean(x), np.std(x)\n",
    "\n",
    "# find the probability density\n",
    "def probability_density(arr , mean , sd):\n",
    "    prob_density = (np.pi*sd) * np.exp(-0.5*((arr-mean)/sd)**2)\n",
    "    return prob_density\n",
    "\n",
    "density = probability_density(x, mean , sd)\n",
    "\n",
    "#Plotting the Results\n",
    "plt.plot(x, density, color = 'green')\n",
    "plt.xlabel('Data points')\n",
    "plt.ylabel('Probability Density')\n",
    "plt.show()"
   ]
  },
  {
   "cell_type": "markdown",
   "id": "80851548",
   "metadata": {},
   "source": [
    "### Skewness and Kurtosis"
   ]
  },
  {
   "cell_type": "markdown",
   "id": "154d48d7",
   "metadata": {},
   "source": [
    "Skewness is a measure of symmetry, or more precisely, the lack of symmetry. A distribution, or data set, is symmetric if it looks the same to the left and right of the center point.\n",
    "\n",
    "Skewness essentially measures the symmetry of the distribution, while kurtosis determines the heaviness of the distribution tails.\n",
    "\n",
    "Understanding shape of data is important as it helps to understand where the most information is lying and analyze the outliers in a given data."
   ]
  },
  {
   "cell_type": "markdown",
   "id": "c7b0dfd8",
   "metadata": {},
   "source": [
    "<img src = \"https://www.allaboutcircuits.com/uploads/articles/understanding-the-normal-distribution-parametric-tests-skewness-and-kurtosis-rk-aac-image2.jpg\" alt = \"Skewness\"/>"
   ]
  },
  {
   "cell_type": "markdown",
   "id": "5c53fe3e",
   "metadata": {},
   "source": [
    "Skewness can be a positive or negative number (or zero). Distributions that are symmetrical with respect to the mean, such as the normal distribution, have zero skewness. A distribution that “leans” to the right has negative skewness, and a distribution that “leans” to the left has positive skewness."
   ]
  },
  {
   "cell_type": "markdown",
   "id": "e4bd9595",
   "metadata": {},
   "source": [
    "### Kurtosis"
   ]
  },
  {
   "cell_type": "markdown",
   "id": "45532302",
   "metadata": {},
   "source": [
    "Kurtosis is a measure of whether the data are heavy-tailed or light-tailed relative to a normal distribution. That is, data sets with high kurtosis tend to have heavy tails, or outliers. Data sets with low kurtosis tend to have light tails, or lack of outliers.\n",
    "\n",
    "We use kurtosis to quantify a phenomenon’s tendency to produce values that are far from the mean. There are various ways to describe the information that kurtosis conveys about a data set: “tailedness” (note that the far-from-the-mean values are in the distribution’s tails), “tail magnitude” or “tail weight,” and “peakedness”"
   ]
  },
  {
   "cell_type": "markdown",
   "id": "ff3abcff",
   "metadata": {},
   "source": [
    "<img src = \"https://editor.analyticsvidhya.com/uploads/57983kurt1.png\" alt = \"Kurtosis\"/>"
   ]
  },
  {
   "cell_type": "markdown",
   "id": "283de05a",
   "metadata": {},
   "source": [
    "### Central Limit Theorem"
   ]
  },
  {
   "cell_type": "markdown",
   "id": "72be81c1",
   "metadata": {},
   "source": [
    "In probability theory, the central limit theorem (CLT) states that the distribution of a sample variable approximates a normal distribution (i.e., a “bell curve”) as the sample size becomes larger, assuming that all samples are identical in size, and regardless of the population's actual distribution shape. "
   ]
  },
  {
   "cell_type": "markdown",
   "id": "a24566b7",
   "metadata": {},
   "source": [
    "Put another way, CLT is a statistical premise that, given a sufficiently large sample size from a population with a finite level of variance, the mean of all sampled variables from the same population will be approximately equal to the mean of the whole population."
   ]
  },
  {
   "cell_type": "markdown",
   "id": "440388aa",
   "metadata": {},
   "source": [
    "As a general rule, sample sizes of around 30-50 are deemed sufficient for the CLT to hold, meaning that the distribution of the sample means is fairly normally distributed. Therefore, the more samples one takes, the more the graphed results take the shape of a normal distribution."
   ]
  },
  {
   "cell_type": "code",
   "execution_count": 45,
   "id": "4489d447",
   "metadata": {},
   "outputs": [],
   "source": [
    "# Let's the take the pupulation of a small town (say 8000) with the age range of 1 to 130\n",
    "population = np.random.randint(1, 130, 8000)\n",
    "\n",
    "# now let's create a small sample (of say 40, 1000, 5000) form this population and find the mean age for the samples\n",
    "# with the assumption that the size of each sample is the specified subset (in percentage) of the population\n",
    "\n",
    "def limit_plot(data, sample_size, sample_pct):\n",
    "    # list to hold the sample mean\n",
    "    sample_mean_age = []\n",
    "    \n",
    "    # compute the proportion of the population to consider\n",
    "    sample_proportion = int(sample_pct * len(data))\n",
    "    \n",
    "    # iterate through the data to compute the sample means of the size specified\n",
    "    for age in range(1, sample_size + 1):\n",
    "        # randomly select a subset of the data\n",
    "        sample = np.random.choice(data, size=sample_proportion, replace=False)\n",
    "        \n",
    "        # compute the mean\n",
    "        mean_age = np.mean(sample)\n",
    "        \n",
    "        # populate the list\n",
    "        sample_mean_age.append(mean_age)\n",
    "\n",
    "    #print(len(sample_mean_age))\n",
    "\n",
    "    #plotting the sample mean age using seaborn\n",
    "    ax = sns.displot(sample_mean_age, \n",
    "                     kde=True, \n",
    "                     color= \"green\", \n",
    "                     )\n",
    "    return ax"
   ]
  },
  {
   "cell_type": "code",
   "execution_count": 47,
   "id": "f487f6ac",
   "metadata": {},
   "outputs": [
    {
     "data": {
      "text/plain": [
       "<seaborn.axisgrid.FacetGrid at 0x1d266b66e50>"
      ]
     },
     "execution_count": 47,
     "metadata": {},
     "output_type": "execute_result"
    },
    {
     "data": {
      "image/png": "[encoded data removed]",
      "text/plain": [
       "<Figure size 360x360 with 1 Axes>"
      ]
     },
     "metadata": {
      "needs_background": "light"
     },
     "output_type": "display_data"
    }
   ],
   "source": [
    "# let's try different sample size here and proportion here to see how the distribution varies\n",
    "limit_plot(population, 40, 0.2)"
   ]
  },
  {
   "cell_type": "code",
   "execution_count": 49,
   "id": "4924caf9",
   "metadata": {},
   "outputs": [
    {
     "data": {
      "text/plain": [
       "<seaborn.axisgrid.FacetGrid at 0x1d266b3cc70>"
      ]
     },
     "execution_count": 49,
     "metadata": {},
     "output_type": "execute_result"
    },
    {
     "data": {
      "image/png": "[encoded data removed]",
      "text/plain": [
       "<Figure size 360x360 with 1 Axes>"
      ]
     },
     "metadata": {
      "needs_background": "light"
     },
     "output_type": "display_data"
    }
   ],
   "source": [
    "limit_plot(population, 1000, 0.8)"
   ]
  },
  {
   "cell_type": "code",
   "execution_count": 34,
   "id": "2df8ec6c",
   "metadata": {},
   "outputs": [
    {
     "data": {
      "text/plain": [
       "<seaborn.axisgrid.FacetGrid at 0x1d2662fbd90>"
      ]
     },
     "execution_count": 34,
     "metadata": {},
     "output_type": "execute_result"
    },
    {
     "data": {
      "image/png": "[encoded data removed]",
      "text/plain": [
       "<Figure size 360x360 with 1 Axes>"
      ]
     },
     "metadata": {
      "needs_background": "light"
     },
     "output_type": "display_data"
    }
   ],
   "source": [
    "limit_plot(population, 5000, 0.9)"
   ]
  },
  {
   "cell_type": "markdown",
   "id": "db114bca",
   "metadata": {},
   "source": [
    "We can see that, the more the sample size, the higher the data tends towards normality"
   ]
  },
  {
   "cell_type": "markdown",
   "id": "4a922636",
   "metadata": {},
   "source": [
    "### Confidence Interval"
   ]
  },
  {
   "cell_type": "markdown",
   "id": "5c9732fb",
   "metadata": {},
   "source": [
    "A range computed using sample statistics to estimate an unknown population parameter with a stated level of confidence"
   ]
  },
  {
   "cell_type": "markdown",
   "id": "3e0b3368",
   "metadata": {},
   "source": [
    "Example:\n",
    "* The statistics professors at a university want to estimate the average statistics anxiety score for all of their undergraduate students. It would be too time consuming and costly to give every undergraduate student at the university their statistics anxiety survey. Instead, they take a random sample of 50 undergraduate students at the university and administer their survey"
   ]
  },
  {
   "cell_type": "markdown",
   "id": "2a6e5373",
   "metadata": {},
   "source": [
    "Using the data collected from the sample, they construct a 95% confidence interval for the mean statistics anxiety score in the population of all university undergraduate students. They are using sample mean to estimate population mean. If the 95% confidence interval for  sample mean is 26 to 32, then we could say, “we are 95% confident that the mean statistics anxiety score of all undergraduate students at this university is between 26 and 32.” In other words, we are 95% confident that population mean is between 26 an 32.\""
   ]
  },
  {
   "cell_type": "code",
   "execution_count": 50,
   "id": "151b43f8",
   "metadata": {},
   "outputs": [
    {
     "data": {
      "text/plain": [
       "array([30, 39, 31, 23, 25, 38, 20, 39, 20, 39, 36, 23, 33, 38, 39, 25, 33,\n",
       "       30, 39, 37, 28, 20, 38, 33, 26])"
      ]
     },
     "execution_count": 50,
     "metadata": {},
     "output_type": "execute_result"
    }
   ],
   "source": [
    "# confidence Interval with N less than 30\n",
    "anxiety_score = np.random.randint(20, 40, 25)\n",
    "anxiety_score"
   ]
  },
  {
   "cell_type": "code",
   "execution_count": 51,
   "id": "f94f4edc",
   "metadata": {},
   "outputs": [
    {
     "name": "stdout",
     "output_type": "stream",
     "text": [
      "We are 95% confident that anxiety score for all undergradutes is between 28.438807924438617 and 34.12119207556138\n",
      "In other words\n",
      "The 95% confidence interval for the true population mean anxiety is (28.438807924438617, 34.12119207556138)\n"
     ]
    }
   ],
   "source": [
    "import scipy.stats as st\n",
    "\n",
    "#create 95% confidence interval for population mean weight\n",
    "CI = st.t.interval(alpha=0.95, df=len(anxiety_score)-1, loc=np.mean(anxiety_score), scale=st.sem(anxiety_score)) \n",
    "\n",
    "print(f\"We are 95% confident that anxiety score for all undergradutes is between {CI[0]} and {CI[1]}\")\n",
    "print(\"In other words\")\n",
    "print(f\"The 95% confidence interval for the true population mean anxiety is {CI}\")"
   ]
  },
  {
   "cell_type": "code",
   "execution_count": 52,
   "id": "6b6dc2c7",
   "metadata": {},
   "outputs": [
    {
     "name": "stdout",
     "output_type": "stream",
     "text": [
      "(28.584686140156215, 31.735313859843785)\n"
     ]
    }
   ],
   "source": [
    "# confidence Interval with N greater than 30\n",
    "\n",
    "another_score = np.random.randint(20, 40, 50)\n",
    "CI = st.norm.interval(alpha=0.95, loc=np.mean(another_score), scale=st.sem(another_score))\n",
    "print(CI)"
   ]
  },
  {
   "cell_type": "markdown",
   "id": "0f6bab17",
   "metadata": {},
   "source": [
    "### Hypothesis Testing"
   ]
  },
  {
   "cell_type": "markdown",
   "id": "337e7e71",
   "metadata": {},
   "source": [
    "Hypothesis testing is a form of statistical inference that uses data from a sample to draw conclusions about a population parameter or a population probability distribution. "
   ]
  },
  {
   "cell_type": "markdown",
   "id": "f5426991",
   "metadata": {},
   "source": [
    "First, a tentative assumption is made about the parameter or distribution. This assumption is called the null hypothesis and is denoted by H0. An alternative hypothesis (denoted Ha), which is the opposite of what is stated in the null hypothesis, is then defined. The hypothesis-testing procedure involves using sample data to determine whether or not H0 can be rejected. If H0 is rejected, the statistical conclusion is that the alternative hypothesis Ha is true"
   ]
  },
  {
   "cell_type": "markdown",
   "id": "0d401e34",
   "metadata": {},
   "source": [
    "For example, assume that a radio station selects the music it plays based on the assumption that the average age of its listening audience is 30 years. To determine whether this assumption is valid, a hypothesis test could be conducted with the null hypothesis given as H0: μ = 30 and the alternative hypothesis given as Ha: μ ≠ 30. Based on a sample of individuals from the listening audience, the sample mean age, x̄, can be computed and used to determine whether there is sufficient statistical evidence to reject H0"
   ]
  },
  {
   "cell_type": "markdown",
   "id": "8a5938eb",
   "metadata": {},
   "source": [
    "<img src = \"https://miro.medium.com/max/700/1*fEPOHXPQO_ZNJC4UQDXmqw.png\" alt = \"Null Vs Alternate\"/>"
   ]
  },
  {
   "cell_type": "markdown",
   "id": "2346d5a5",
   "metadata": {},
   "source": [
    "#### Level of Significance"
   ]
  },
  {
   "cell_type": "markdown",
   "id": "0a886a3e",
   "metadata": {},
   "source": [
    "Refers to the degree of significance in which we accept or reject the null-hypothesis. 100% accuracy is not possible for accepting or rejecting a hypothesis, so we therefore select a level of significance that is usually 5%.\n",
    "This is normally denoted with alpha(maths symbol ) and generally it is 0.05 or 5% , which means your output should be 95% confident to give similar kind of result in each sample."
   ]
  },
  {
   "cell_type": "markdown",
   "id": "1aac4a2d",
   "metadata": {},
   "source": [
    "#### P value"
   ]
  },
  {
   "cell_type": "markdown",
   "id": "65e44d19",
   "metadata": {},
   "source": [
    "The P value, or calculated probability, is the probability of finding the observed, or more extreme, results when the null hypothesis (H 0) of a study question is true — the definition of ‘extreme’ depends on how the hypothesis is being tested. If your P value is less than the chosen significance level then you reject the null hypothesis i.e. accept that your sample gives reasonable evidence to support the alternative hypothesis"
   ]
  },
  {
   "cell_type": "code",
   "execution_count": null,
   "id": "49744014",
   "metadata": {},
   "outputs": [],
   "source": [
    "# H0: the vaccine is not effective in treating Covid19\n",
    "# Ha: the vaccine is effective in treating covid19\n",
    "alpha = 0.05 # 95%\n",
    "p_value = 0.003 # probabilty calculated"
   ]
  },
  {
   "cell_type": "markdown",
   "id": "44ec1b45",
   "metadata": {},
   "source": [
    "#### Type I error"
   ]
  },
  {
   "cell_type": "markdown",
   "id": "8cdc8739",
   "metadata": {},
   "source": [
    "When we reject the null hypothesis, although that hypothesis was true. Type I error is denoted by alpha. In hypothesis testing, the normal curve that shows the critical region is called the alpha region"
   ]
  },
  {
   "cell_type": "markdown",
   "id": "1a10d2c7",
   "metadata": {},
   "source": [
    "####  Type II error"
   ]
  },
  {
   "cell_type": "markdown",
   "id": "81dc0c7f",
   "metadata": {},
   "source": [
    "When we accept the null hypothesis but it is false. Type II errors are denoted by beta. In Hypothesis testing, the normal curve that shows the acceptance region is called the beta region"
   ]
  },
  {
   "cell_type": "code",
   "execution_count": null,
   "id": "55f89055",
   "metadata": {},
   "outputs": [],
   "source": []
  }
 ],
 "metadata": {
  "kernelspec": {
   "display_name": "Python 3 (ipykernel)",
   "language": "python",
   "name": "python3"
  },
  "language_info": {
   "codemirror_mode": {
    "name": "ipython",
    "version": 3
   },
   "file_extension": ".py",
   "mimetype": "text/x-python",
   "name": "python",
   "nbconvert_exporter": "python",
   "pygments_lexer": "ipython3",
   "version": "3.10.9"
  }
 },
 "nbformat": 4,
 "nbformat_minor": 5
}
