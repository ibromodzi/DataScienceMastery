{
 "cells": [
  {
   "cell_type": "markdown",
   "id": "ac20f418",
   "metadata": {},
   "source": [
    "## Hypothesis tests"
   ]
  },
  {
   "cell_type": "markdown",
   "id": "e8054688",
   "metadata": {},
   "source": [
    "In this section, we'll be looking at different tests that can be used to carry out our hypothesis"
   ]
  },
  {
   "cell_type": "markdown",
   "id": "fefa86fd",
   "metadata": {},
   "source": [
    "## Typical Analysis Procedure"
   ]
  },
  {
   "cell_type": "markdown",
   "id": "33ddfa8f",
   "metadata": {},
   "source": [
    "You should start your analysis by following these steps:\n",
    "*  Visually inspect the data\n",
    "*  Find extreme samples, and check them carefully.\n",
    "*  Determine the data-type of the values.\n",
    "*  If the data are continuous, check whether or not they are normally distributed.\n",
    "*  Select and apply the appropriate test, or start with the model-based analysis of the data."
   ]
  },
  {
   "cell_type": "markdown",
   "id": "576404dd",
   "metadata": {},
   "source": [
    "### Tests for Numerical data"
   ]
  },
  {
   "cell_type": "markdown",
   "id": "4a500ea0",
   "metadata": {},
   "source": [
    "#### T-test"
   ]
  },
  {
   "cell_type": "markdown",
   "id": "ab5e8433",
   "metadata": {},
   "source": [
    "A t-test is a type of inferential statistic used to determine if there is a significant difference between the means of two groups, which may be related in certain features. It is mostly used when the data setswould follow a normal distribution and may have unknown variances. Therefore it is called a parametric test. "
   ]
  },
  {
   "cell_type": "markdown",
   "id": "5b5b1bd3",
   "metadata": {},
   "source": [
    "t-Test can be used in situations where need to compare the mean of one group with a known(fixed) value and when comparing the mean of two groups with respec to each other. We'll be looking a particular type of t-Test called independent t-Test."
   ]
  },
  {
   "cell_type": "markdown",
   "id": "dd29a873",
   "metadata": {},
   "source": [
    "The indepentent T-test is a parametric test used to test for a statistically significant difference in the means between 2 groups. As with all parametric tests, there are certain conditions that need to be met in order for the test results to be considered reliable.\n",
    "\n",
    "* Population distributions are normal\n",
    "* Samples have equal variances\n",
    "* The two samples are independent"
   ]
  },
  {
   "cell_type": "markdown",
   "id": "f108c549",
   "metadata": {},
   "source": [
    "One rejects the the null hypothesis, if the computed t value is greater than or less than the critical t value. The critical t value is determined by the degrees of freedom and alpha. where alpha is always set to 0.05"
   ]
  },
  {
   "cell_type": "code",
   "execution_count": 1,
   "id": "b8afa437",
   "metadata": {},
   "outputs": [],
   "source": [
    "import pandas as pd\n",
    "import scipy.stats as stats\n",
    "import matplotlib.pyplot as plt"
   ]
  },
  {
   "cell_type": "code",
   "execution_count": 2,
   "id": "15a1b061",
   "metadata": {},
   "outputs": [
    {
     "name": "stdout",
     "output_type": "stream",
     "text": [
      "<class 'pandas.core.frame.DataFrame'>\n",
      "RangeIndex: 120 entries, 0 to 119\n",
      "Data columns (total 5 columns):\n",
      " #   Column     Non-Null Count  Dtype \n",
      "---  ------     --------------  ----- \n",
      " 0   patient    120 non-null    int64 \n",
      " 1   sex        120 non-null    object\n",
      " 2   agegrp     120 non-null    object\n",
      " 3   bp_before  120 non-null    int64 \n",
      " 4   bp_after   120 non-null    int64 \n",
      "dtypes: int64(3), object(2)\n",
      "memory usage: 4.8+ KB\n"
     ]
    }
   ],
   "source": [
    "# Independent t-Test with Python\n",
    "# TASK: check if the difference in blood pressure between males and females after\n",
    "# being treated is statistically significant\n",
    "\n",
    "df = pd.read_csv(\"https://raw.githubusercontent.com/researchpy/Data-sets/master/blood_pressure.csv\")\n",
    "df.info()"
   ]
  },
  {
   "cell_type": "code",
   "execution_count": 3,
   "id": "6fd6e81c",
   "metadata": {},
   "outputs": [
    {
     "data": {
      "text/html": [
       "<div>\n",
       "<style scoped>\n",
       "    .dataframe tbody tr th:only-of-type {\n",
       "        vertical-align: middle;\n",
       "    }\n",
       "\n",
       "    .dataframe tbody tr th {\n",
       "        vertical-align: top;\n",
       "    }\n",
       "\n",
       "    .dataframe thead th {\n",
       "        text-align: right;\n",
       "    }\n",
       "</style>\n",
       "<table border=\"1\" class=\"dataframe\">\n",
       "  <thead>\n",
       "    <tr style=\"text-align: right;\">\n",
       "      <th></th>\n",
       "      <th>patient</th>\n",
       "      <th>sex</th>\n",
       "      <th>agegrp</th>\n",
       "      <th>bp_before</th>\n",
       "      <th>bp_after</th>\n",
       "    </tr>\n",
       "  </thead>\n",
       "  <tbody>\n",
       "    <tr>\n",
       "      <th>0</th>\n",
       "      <td>1</td>\n",
       "      <td>Male</td>\n",
       "      <td>30-45</td>\n",
       "      <td>143</td>\n",
       "      <td>153</td>\n",
       "    </tr>\n",
       "    <tr>\n",
       "      <th>1</th>\n",
       "      <td>2</td>\n",
       "      <td>Male</td>\n",
       "      <td>30-45</td>\n",
       "      <td>163</td>\n",
       "      <td>170</td>\n",
       "    </tr>\n",
       "    <tr>\n",
       "      <th>2</th>\n",
       "      <td>3</td>\n",
       "      <td>Male</td>\n",
       "      <td>30-45</td>\n",
       "      <td>153</td>\n",
       "      <td>168</td>\n",
       "    </tr>\n",
       "    <tr>\n",
       "      <th>3</th>\n",
       "      <td>4</td>\n",
       "      <td>Male</td>\n",
       "      <td>30-45</td>\n",
       "      <td>153</td>\n",
       "      <td>142</td>\n",
       "    </tr>\n",
       "    <tr>\n",
       "      <th>4</th>\n",
       "      <td>5</td>\n",
       "      <td>Male</td>\n",
       "      <td>30-45</td>\n",
       "      <td>146</td>\n",
       "      <td>141</td>\n",
       "    </tr>\n",
       "  </tbody>\n",
       "</table>\n",
       "</div>"
      ],
      "text/plain": [
       "   patient   sex agegrp  bp_before  bp_after\n",
       "0        1  Male  30-45        143       153\n",
       "1        2  Male  30-45        163       170\n",
       "2        3  Male  30-45        153       168\n",
       "3        4  Male  30-45        153       142\n",
       "4        5  Male  30-45        146       141"
      ]
     },
     "execution_count": 3,
     "metadata": {},
     "output_type": "execute_result"
    }
   ],
   "source": [
    "df.head()"
   ]
  },
  {
   "cell_type": "code",
   "execution_count": 79,
   "id": "0cce70b3",
   "metadata": {},
   "outputs": [
    {
     "data": {
      "text/plain": [
       "Ttest_indResult(statistic=3.3479506182111387, pvalue=0.0010930222986154283)"
      ]
     },
     "execution_count": 79,
     "metadata": {},
     "output_type": "execute_result"
    }
   ],
   "source": [
    "# getting blood pressure after for male\n",
    "male_bp = df['bp_after'][df['sex'] == 'Male']\n",
    "\n",
    "# getting blood pressure after for female\n",
    "female_bp = df['bp_after'][df['sex'] == 'Female']\n",
    "\n",
    "stats.ttest_ind(male_bp, female_bp)"
   ]
  },
  {
   "cell_type": "markdown",
   "id": "23236bd9",
   "metadata": {},
   "source": [
    "Here, we can see that pvalue (0.001) is less than 0.05, therefore the result is statistically significant and we reject the null hypothesis. In other words, There is a statistically significant difference in the average post blood pressure between males and females, t= 3.3480, p= 0.001"
   ]
  },
  {
   "cell_type": "code",
   "execution_count": 55,
   "id": "67ffddad",
   "metadata": {},
   "outputs": [],
   "source": [
    "# TO DO: define a function that computes independent t test and use conditional statement \n",
    "# to decide whether we are rejecting or not rejecting the null hypothesis (based on the P value)"
   ]
  },
  {
   "cell_type": "markdown",
   "id": "e945ad20",
   "metadata": {},
   "source": [
    "we can have a cleaner ouput using a library called researchpy"
   ]
  },
  {
   "cell_type": "code",
   "execution_count": 56,
   "id": "8db53c69",
   "metadata": {},
   "outputs": [],
   "source": [
    "#!pip install researchpy"
   ]
  },
  {
   "cell_type": "code",
   "execution_count": 80,
   "id": "ccdf33a9",
   "metadata": {},
   "outputs": [
    {
     "name": "stdout",
     "output_type": "stream",
     "text": [
      "   Variable      N        Mean         SD        SE   95% Conf.    Interval\n",
      "0      Male   60.0  155.516667  15.243217  1.967891  151.578926  159.454407\n",
      "1    Female   60.0  147.200000  11.742722  1.515979  144.166533  150.233467\n",
      "2  combined  120.0  151.358333  14.177622  1.294234  148.795621  153.921046\n"
     ]
    }
   ],
   "source": [
    "import researchpy as rp\n",
    "summary, results = rp.ttest(male_bp, female_bp, group1_name= \"Male\", group2_name= \"Female\")\n",
    "print(summary)"
   ]
  },
  {
   "cell_type": "code",
   "execution_count": 81,
   "id": "805adeae",
   "metadata": {},
   "outputs": [
    {
     "name": "stdout",
     "output_type": "stream",
     "text": [
      "              Independent t-test   results\n",
      "0  Difference (Male - Female) =     8.3167\n",
      "1          Degrees of freedom =   118.0000\n",
      "2                           t =     3.3480\n",
      "3       Two side test p value =     0.0011\n",
      "4      Difference < 0 p value =     0.9995\n",
      "5      Difference > 0 p value =     0.0005\n",
      "6                   Cohen's d =     0.6112\n",
      "7                   Hedge's g =     0.6074\n",
      "8               Glass's delta =     0.5456\n",
      "9                 Pearson's r =     0.2945\n"
     ]
    }
   ],
   "source": [
    "print(results)"
   ]
  },
  {
   "cell_type": "markdown",
   "id": "75505de9",
   "metadata": {},
   "source": [
    "#### Comparison between multiple groups (ANOVA)"
   ]
  },
  {
   "cell_type": "markdown",
   "id": "010409cc",
   "metadata": {},
   "source": [
    "ANOVA stands for \"Analysis of Variance\" and is an omnibus test, meaning it tests for a difference overall between all groups. The one-way ANOVA, also referred to as one factor ANOVA, is a parametric test used to test for a statistically significant difference of an outcome between 3 or more groups."
   ]
  },
  {
   "cell_type": "markdown",
   "id": "b7cd87a1",
   "metadata": {},
   "source": [
    "The assumptions\n",
    "* Population distributions are normal\n",
    "* Samples have equal variances\n",
    "* Independence"
   ]
  },
  {
   "cell_type": "code",
   "execution_count": 5,
   "id": "8716ee3b",
   "metadata": {},
   "outputs": [
    {
     "name": "stdout",
     "output_type": "stream",
     "text": [
      "<class 'pandas.core.frame.DataFrame'>\n",
      "RangeIndex: 15 entries, 0 to 14\n",
      "Data columns (total 3 columns):\n",
      " #   Column  Non-Null Count  Dtype\n",
      "---  ------  --------------  -----\n",
      " 0   person  15 non-null     int64\n",
      " 1   dose    15 non-null     int64\n",
      " 2   libido  15 non-null     int64\n",
      "dtypes: int64(3)\n",
      "memory usage: 488.0 bytes\n"
     ]
    }
   ],
   "source": [
    "# getting the dataset\n",
    "libido_df = pd.read_csv(\"https://raw.githubusercontent.com/researchpy/Data-sets/master/difficile.csv\")\n",
    "libido_df.info()"
   ]
  },
  {
   "cell_type": "code",
   "execution_count": 6,
   "id": "109d02ba",
   "metadata": {},
   "outputs": [
    {
     "data": {
      "text/html": [
       "<div>\n",
       "<style scoped>\n",
       "    .dataframe tbody tr th:only-of-type {\n",
       "        vertical-align: middle;\n",
       "    }\n",
       "\n",
       "    .dataframe tbody tr th {\n",
       "        vertical-align: top;\n",
       "    }\n",
       "\n",
       "    .dataframe thead th {\n",
       "        text-align: right;\n",
       "    }\n",
       "</style>\n",
       "<table border=\"1\" class=\"dataframe\">\n",
       "  <thead>\n",
       "    <tr style=\"text-align: right;\">\n",
       "      <th></th>\n",
       "      <th>person</th>\n",
       "      <th>dose</th>\n",
       "      <th>libido</th>\n",
       "    </tr>\n",
       "  </thead>\n",
       "  <tbody>\n",
       "    <tr>\n",
       "      <th>0</th>\n",
       "      <td>1</td>\n",
       "      <td>1</td>\n",
       "      <td>3</td>\n",
       "    </tr>\n",
       "    <tr>\n",
       "      <th>1</th>\n",
       "      <td>2</td>\n",
       "      <td>1</td>\n",
       "      <td>2</td>\n",
       "    </tr>\n",
       "    <tr>\n",
       "      <th>2</th>\n",
       "      <td>3</td>\n",
       "      <td>1</td>\n",
       "      <td>1</td>\n",
       "    </tr>\n",
       "    <tr>\n",
       "      <th>3</th>\n",
       "      <td>4</td>\n",
       "      <td>1</td>\n",
       "      <td>1</td>\n",
       "    </tr>\n",
       "    <tr>\n",
       "      <th>4</th>\n",
       "      <td>5</td>\n",
       "      <td>1</td>\n",
       "      <td>4</td>\n",
       "    </tr>\n",
       "  </tbody>\n",
       "</table>\n",
       "</div>"
      ],
      "text/plain": [
       "   person  dose  libido\n",
       "0       1     1       3\n",
       "1       2     1       2\n",
       "2       3     1       1\n",
       "3       4     1       1\n",
       "4       5     1       4"
      ]
     },
     "execution_count": 6,
     "metadata": {},
     "output_type": "execute_result"
    }
   ],
   "source": [
    "libido_df.head()"
   ]
  },
  {
   "cell_type": "code",
   "execution_count": 7,
   "id": "4d34883e",
   "metadata": {},
   "outputs": [
    {
     "data": {
      "text/html": [
       "<div>\n",
       "<style scoped>\n",
       "    .dataframe tbody tr th:only-of-type {\n",
       "        vertical-align: middle;\n",
       "    }\n",
       "\n",
       "    .dataframe tbody tr th {\n",
       "        vertical-align: top;\n",
       "    }\n",
       "\n",
       "    .dataframe thead th {\n",
       "        text-align: right;\n",
       "    }\n",
       "</style>\n",
       "<table border=\"1\" class=\"dataframe\">\n",
       "  <thead>\n",
       "    <tr style=\"text-align: right;\">\n",
       "      <th></th>\n",
       "      <th>person</th>\n",
       "      <th>dose</th>\n",
       "      <th>libido</th>\n",
       "    </tr>\n",
       "  </thead>\n",
       "  <tbody>\n",
       "    <tr>\n",
       "      <th>0</th>\n",
       "      <td>1</td>\n",
       "      <td>placebo</td>\n",
       "      <td>3</td>\n",
       "    </tr>\n",
       "    <tr>\n",
       "      <th>1</th>\n",
       "      <td>2</td>\n",
       "      <td>placebo</td>\n",
       "      <td>2</td>\n",
       "    </tr>\n",
       "    <tr>\n",
       "      <th>2</th>\n",
       "      <td>3</td>\n",
       "      <td>placebo</td>\n",
       "      <td>1</td>\n",
       "    </tr>\n",
       "    <tr>\n",
       "      <th>3</th>\n",
       "      <td>4</td>\n",
       "      <td>placebo</td>\n",
       "      <td>1</td>\n",
       "    </tr>\n",
       "    <tr>\n",
       "      <th>4</th>\n",
       "      <td>5</td>\n",
       "      <td>placebo</td>\n",
       "      <td>4</td>\n",
       "    </tr>\n",
       "  </tbody>\n",
       "</table>\n",
       "</div>"
      ],
      "text/plain": [
       "   person     dose  libido\n",
       "0       1  placebo       3\n",
       "1       2  placebo       2\n",
       "2       3  placebo       1\n",
       "3       4  placebo       1\n",
       "4       5  placebo       4"
      ]
     },
     "execution_count": 7,
     "metadata": {},
     "output_type": "execute_result"
    }
   ],
   "source": [
    "# A bit of data clean up here\n",
    "# we are dropping the person column because we dont need the info for this analysis\n",
    "# we'll also recode the dose category into string\n",
    "\n",
    "#libido_df.drop('person', axis= 1, inplace= True)\n",
    "\n",
    "dose_dict = {1: 'placebo', 2: 'low', 3: 'high'}\n",
    "libido_df['dose'].replace(dose_dict, inplace= True)\n",
    "\n",
    "libido_df.head()"
   ]
  },
  {
   "cell_type": "code",
   "execution_count": 8,
   "id": "675e1af8",
   "metadata": {},
   "outputs": [
    {
     "data": {
      "text/plain": [
       "F_onewayResult(statistic=5.11864406779661, pvalue=0.024694289538222603)"
      ]
     },
     "execution_count": 8,
     "metadata": {},
     "output_type": "execute_result"
    }
   ],
   "source": [
    "# slice the data frame to get the libido for each dose\n",
    "high_dose = libido_df['libido'][libido_df['dose'] == 'high']\n",
    "low_dose = libido_df['libido'][libido_df['dose'] == 'low']\n",
    "placebo = libido_df['libido'][libido_df['dose'] == 'placebo']\n",
    "\n",
    "# perform the test\n",
    "stats.f_oneway(high_dose, low_dose, placebo)"
   ]
  },
  {
   "cell_type": "markdown",
   "id": "45c71364",
   "metadata": {},
   "source": [
    "Interpretaion\n",
    "* A new medication was developed to increase the libido of those who take the medication. The purpose of this study was to test for a difference between the dosage levels. There is a statistically significant difference between the groups and their effects the libido, F= 5.12, p-value= 0.0247."
   ]
  },
  {
   "cell_type": "markdown",
   "id": "27e18adf",
   "metadata": {},
   "source": [
    "### Tests for Categorical data (Chi-sqaure test of Independence)"
   ]
  },
  {
   "cell_type": "markdown",
   "id": "b5d2cabc",
   "metadata": {},
   "source": [
    "The  test of independence tests for dependence between categorical variables and is an omnibus test. Meaning, that if a significant relationship is found and one wants to test for differences between groups then post-hoc testing will need to be conducted. Typically, a proportions test is used as a follow-up post-hoc test."
   ]
  },
  {
   "cell_type": "code",
   "execution_count": 9,
   "id": "a1768332",
   "metadata": {},
   "outputs": [
    {
     "name": "stdout",
     "output_type": "stream",
     "text": [
      "<class 'pandas.core.frame.DataFrame'>\n",
      "Int64Index: 956 entries, 0 to 955\n",
      "Data columns (total 7 columns):\n",
      " #   Column    Non-Null Count  Dtype   \n",
      "---  ------    --------------  -----   \n",
      " 0   division  956 non-null    category\n",
      " 1   region    956 non-null    category\n",
      " 2   heatdd    953 non-null    float64 \n",
      " 3   cooldd    953 non-null    float64 \n",
      " 4   tempjan   954 non-null    float32 \n",
      " 5   tempjuly  954 non-null    float32 \n",
      " 6   agecat    956 non-null    category\n",
      "dtypes: category(3), float32(2), float64(2)\n",
      "memory usage: 33.4 KB\n"
     ]
    }
   ],
   "source": [
    "# To load a sample dataset for this demonstration\n",
    "import statsmodels.api as sm\n",
    "\n",
    "citytemp_df = sm.datasets.webuse(\"citytemp2\")\n",
    "citytemp_df.info()"
   ]
  },
  {
   "cell_type": "code",
   "execution_count": 87,
   "id": "5fcabd7b",
   "metadata": {},
   "outputs": [
    {
     "data": {
      "text/html": [
       "<div>\n",
       "<style scoped>\n",
       "    .dataframe tbody tr th:only-of-type {\n",
       "        vertical-align: middle;\n",
       "    }\n",
       "\n",
       "    .dataframe tbody tr th {\n",
       "        vertical-align: top;\n",
       "    }\n",
       "\n",
       "    .dataframe thead th {\n",
       "        text-align: right;\n",
       "    }\n",
       "</style>\n",
       "<table border=\"1\" class=\"dataframe\">\n",
       "  <thead>\n",
       "    <tr style=\"text-align: right;\">\n",
       "      <th></th>\n",
       "      <th>division</th>\n",
       "      <th>region</th>\n",
       "      <th>heatdd</th>\n",
       "      <th>cooldd</th>\n",
       "      <th>tempjan</th>\n",
       "      <th>tempjuly</th>\n",
       "      <th>agecat</th>\n",
       "    </tr>\n",
       "  </thead>\n",
       "  <tbody>\n",
       "    <tr>\n",
       "      <th>0</th>\n",
       "      <td>N. Eng.</td>\n",
       "      <td>NE</td>\n",
       "      <td>NaN</td>\n",
       "      <td>NaN</td>\n",
       "      <td>16.600000</td>\n",
       "      <td>69.599998</td>\n",
       "      <td>19-29</td>\n",
       "    </tr>\n",
       "    <tr>\n",
       "      <th>1</th>\n",
       "      <td>N. Eng.</td>\n",
       "      <td>NE</td>\n",
       "      <td>7947.0</td>\n",
       "      <td>250.0</td>\n",
       "      <td>18.200001</td>\n",
       "      <td>68.000000</td>\n",
       "      <td>19-29</td>\n",
       "    </tr>\n",
       "    <tr>\n",
       "      <th>2</th>\n",
       "      <td>Mid Atl</td>\n",
       "      <td>NE</td>\n",
       "      <td>7480.0</td>\n",
       "      <td>424.0</td>\n",
       "      <td>18.400000</td>\n",
       "      <td>70.199997</td>\n",
       "      <td>19-29</td>\n",
       "    </tr>\n",
       "    <tr>\n",
       "      <th>3</th>\n",
       "      <td>N. Eng.</td>\n",
       "      <td>NE</td>\n",
       "      <td>7482.0</td>\n",
       "      <td>353.0</td>\n",
       "      <td>19.900000</td>\n",
       "      <td>69.500000</td>\n",
       "      <td>19-29</td>\n",
       "    </tr>\n",
       "    <tr>\n",
       "      <th>4</th>\n",
       "      <td>N. Eng.</td>\n",
       "      <td>NE</td>\n",
       "      <td>7482.0</td>\n",
       "      <td>353.0</td>\n",
       "      <td>19.900000</td>\n",
       "      <td>69.500000</td>\n",
       "      <td>19-29</td>\n",
       "    </tr>\n",
       "  </tbody>\n",
       "</table>\n",
       "</div>"
      ],
      "text/plain": [
       "  division region  heatdd  cooldd    tempjan   tempjuly agecat\n",
       "0  N. Eng.     NE     NaN     NaN  16.600000  69.599998  19-29\n",
       "1  N. Eng.     NE  7947.0   250.0  18.200001  68.000000  19-29\n",
       "2  Mid Atl     NE  7480.0   424.0  18.400000  70.199997  19-29\n",
       "3  N. Eng.     NE  7482.0   353.0  19.900000  69.500000  19-29\n",
       "4  N. Eng.     NE  7482.0   353.0  19.900000  69.500000  19-29"
      ]
     },
     "execution_count": 87,
     "metadata": {},
     "output_type": "execute_result"
    }
   ],
   "source": [
    "citytemp_df.head()"
   ]
  },
  {
   "cell_type": "code",
   "execution_count": 88,
   "id": "1ddada46",
   "metadata": {},
   "outputs": [
    {
     "data": {
      "text/html": [
       "<div>\n",
       "<style scoped>\n",
       "    .dataframe tbody tr th:only-of-type {\n",
       "        vertical-align: middle;\n",
       "    }\n",
       "\n",
       "    .dataframe tbody tr th {\n",
       "        vertical-align: top;\n",
       "    }\n",
       "\n",
       "    .dataframe thead th {\n",
       "        text-align: right;\n",
       "    }\n",
       "</style>\n",
       "<table border=\"1\" class=\"dataframe\">\n",
       "  <thead>\n",
       "    <tr style=\"text-align: right;\">\n",
       "      <th>agecat</th>\n",
       "      <th>19-29</th>\n",
       "      <th>30-34</th>\n",
       "      <th>35+</th>\n",
       "    </tr>\n",
       "    <tr>\n",
       "      <th>region</th>\n",
       "      <th></th>\n",
       "      <th></th>\n",
       "      <th></th>\n",
       "    </tr>\n",
       "  </thead>\n",
       "  <tbody>\n",
       "    <tr>\n",
       "      <th>NE</th>\n",
       "      <td>46</td>\n",
       "      <td>83</td>\n",
       "      <td>37</td>\n",
       "    </tr>\n",
       "    <tr>\n",
       "      <th>N Cntrl</th>\n",
       "      <td>162</td>\n",
       "      <td>92</td>\n",
       "      <td>30</td>\n",
       "    </tr>\n",
       "    <tr>\n",
       "      <th>South</th>\n",
       "      <td>139</td>\n",
       "      <td>68</td>\n",
       "      <td>43</td>\n",
       "    </tr>\n",
       "    <tr>\n",
       "      <th>West</th>\n",
       "      <td>160</td>\n",
       "      <td>73</td>\n",
       "      <td>23</td>\n",
       "    </tr>\n",
       "  </tbody>\n",
       "</table>\n",
       "</div>"
      ],
      "text/plain": [
       "agecat   19-29  30-34  35+\n",
       "region                    \n",
       "NE          46     83   37\n",
       "N Cntrl    162     92   30\n",
       "South      139     68   43\n",
       "West       160     73   23"
      ]
     },
     "execution_count": 88,
     "metadata": {},
     "output_type": "execute_result"
    }
   ],
   "source": [
    "# Let's see if the relationship between region and age category is statistically significant\n",
    "# This is a two-step analysis using the scipy library\n",
    "# step 1: construct a crosstab using pandas\n",
    "# step 2: pass the table to scipy.stats.chi2_contingency\n",
    "\n",
    "crosstab = pd.crosstab(citytemp_df[\"region\"],citytemp_df[\"agecat\"])\n",
    "\n",
    "crosstab"
   ]
  },
  {
   "cell_type": "code",
   "execution_count": 89,
   "id": "3ee0f27d",
   "metadata": {},
   "outputs": [
    {
     "data": {
      "text/plain": [
       "(61.28767688406036,\n",
       " 2.463382670201326e-11,\n",
       " 6,\n",
       " array([[ 88.03556485,  54.87029289,  23.09414226],\n",
       "        [150.61506276,  93.87447699,  39.51046025],\n",
       "        [132.58368201,  82.63598326,  34.78033473],\n",
       "        [135.76569038,  84.61924686,  35.61506276]]))"
      ]
     },
     "execution_count": 89,
     "metadata": {},
     "output_type": "execute_result"
    }
   ],
   "source": [
    "stats.chi2_contingency(crosstab)"
   ]
  },
  {
   "cell_type": "markdown",
   "id": "1affd674",
   "metadata": {},
   "source": [
    "The information is returned within a tuple where the first value is the  test static, the second value is the p-value, and the third number is the degrees of freedom. An array is also returned which contains the expected cell counts."
   ]
  },
  {
   "cell_type": "markdown",
   "id": "bf948ca0",
   "metadata": {},
   "source": [
    "From this test, we can conclude that: There is a relationship between region and the age distribution with p< 0.0001."
   ]
  },
  {
   "cell_type": "markdown",
   "id": "78c49793",
   "metadata": {},
   "source": [
    "### Statistical Modelling (Correlation and Regression)"
   ]
  },
  {
   "cell_type": "markdown",
   "id": "16549bc9",
   "metadata": {},
   "source": [
    "#### Correlation"
   ]
  },
  {
   "cell_type": "markdown",
   "id": "4d7e20b5",
   "metadata": {},
   "source": [
    "A correlation is a statistical measure of the relationship between two variables. The measure is best used in variables that demonstrate a linear relationship between each other. we can visually inspect relationships using scatter plot and formally establish the relationps using correlation coefficient."
   ]
  },
  {
   "cell_type": "markdown",
   "id": "3cb45407",
   "metadata": {},
   "source": [
    "The correlation coefficient is a value that indicates the strength of the relationship between variables. The coefficient can take any values from -1 to 1. The interpretations of the values are:\n",
    "\n",
    "* -1: Perfect negative correlation. The variables tend to move in opposite directions (i.e., when one variable increases, the other variable decreases).\n",
    "* 0: No correlation. The variables do not have a relationship with each other.\n",
    "* 1: Perfect positive correlation. The variables tend to move in the same direction (i.e., when one variable increases, the other variable also increases).\n",
    " "
   ]
  },
  {
   "cell_type": "code",
   "execution_count": 67,
   "id": "9b35edf5",
   "metadata": {},
   "outputs": [
    {
     "data": {
      "text/html": [
       "<div>\n",
       "<style scoped>\n",
       "    .dataframe tbody tr th:only-of-type {\n",
       "        vertical-align: middle;\n",
       "    }\n",
       "\n",
       "    .dataframe tbody tr th {\n",
       "        vertical-align: top;\n",
       "    }\n",
       "\n",
       "    .dataframe thead th {\n",
       "        text-align: right;\n",
       "    }\n",
       "</style>\n",
       "<table border=\"1\" class=\"dataframe\">\n",
       "  <thead>\n",
       "    <tr style=\"text-align: right;\">\n",
       "      <th></th>\n",
       "      <th>heatdd</th>\n",
       "      <th>cooldd</th>\n",
       "      <th>tempjan</th>\n",
       "      <th>tempjuly</th>\n",
       "    </tr>\n",
       "  </thead>\n",
       "  <tbody>\n",
       "    <tr>\n",
       "      <th>heatdd</th>\n",
       "      <td>1.000000</td>\n",
       "      <td>-0.707417</td>\n",
       "      <td>-0.978090</td>\n",
       "      <td>-0.481379</td>\n",
       "    </tr>\n",
       "    <tr>\n",
       "      <th>cooldd</th>\n",
       "      <td>-0.707417</td>\n",
       "      <td>1.000000</td>\n",
       "      <td>0.638644</td>\n",
       "      <td>0.861101</td>\n",
       "    </tr>\n",
       "    <tr>\n",
       "      <th>tempjan</th>\n",
       "      <td>-0.978090</td>\n",
       "      <td>0.638644</td>\n",
       "      <td>1.000000</td>\n",
       "      <td>0.349403</td>\n",
       "    </tr>\n",
       "    <tr>\n",
       "      <th>tempjuly</th>\n",
       "      <td>-0.481379</td>\n",
       "      <td>0.861101</td>\n",
       "      <td>0.349403</td>\n",
       "      <td>1.000000</td>\n",
       "    </tr>\n",
       "  </tbody>\n",
       "</table>\n",
       "</div>"
      ],
      "text/plain": [
       "            heatdd    cooldd   tempjan  tempjuly\n",
       "heatdd    1.000000 -0.707417 -0.978090 -0.481379\n",
       "cooldd   -0.707417  1.000000  0.638644  0.861101\n",
       "tempjan  -0.978090  0.638644  1.000000  0.349403\n",
       "tempjuly -0.481379  0.861101  0.349403  1.000000"
      ]
     },
     "execution_count": 67,
     "metadata": {},
     "output_type": "execute_result"
    }
   ],
   "source": [
    "# We can use either numpy, scipy, or pandas for finding correlation\n",
    "citytemp_df.corr()"
   ]
  },
  {
   "cell_type": "code",
   "execution_count": 90,
   "id": "5e6dfcd2",
   "metadata": {},
   "outputs": [
    {
     "data": {
      "image/png": "[encoded data removed]",
      "text/plain": [
       "<Figure size 720x1800 with 4 Axes>"
      ]
     },
     "metadata": {
      "needs_background": "light"
     },
     "output_type": "display_data"
    }
   ],
   "source": [
    "# Visualizing the relationships with scatterplot\n",
    "fig, ax = plt.subplots(4, figsize=(10, 25))\n",
    "ax[0].scatter(x = citytemp_df[\"cooldd\"], y = (citytemp_df[\"tempjan\"]))\n",
    "ax[0].set_xlabel(\"Cold\")\n",
    "ax[0].set_ylabel(\"January Temp\")\n",
    "\n",
    "ax[1].scatter(x = citytemp_df[\"cooldd\"], y = (citytemp_df[\"tempjuly\"]))\n",
    "ax[1].set_xlabel(\"Cold\")\n",
    "ax[1].set_ylabel(\"July Temp\")\n",
    "\n",
    "ax[2].scatter(x = citytemp_df[\"heatdd\"], y = (citytemp_df[\"tempjan\"]))\n",
    "ax[2].set_xlabel(\"Heat\")\n",
    "ax[2].set_ylabel(\"January Temp\")\n",
    "\n",
    "ax[3].scatter(x = citytemp_df[\"heatdd\"], y = (citytemp_df[\"tempjuly\"]))\n",
    "ax[3].set_xlabel(\"Heat\")\n",
    "ax[3].set_ylabel(\"July Temp\")\n",
    "\n",
    "plt.show()"
   ]
  },
  {
   "cell_type": "code",
   "execution_count": 91,
   "id": "458af9e6",
   "metadata": {},
   "outputs": [
    {
     "data": {
      "text/plain": [
       "0.638643544944592"
      ]
     },
     "execution_count": 91,
     "metadata": {},
     "output_type": "execute_result"
    }
   ],
   "source": [
    "# correlation between two variables\n",
    "#x.corr(y)\n",
    "citytemp_df[\"cooldd\"].corr(citytemp_df[\"tempjan\"])"
   ]
  },
  {
   "cell_type": "code",
   "execution_count": 92,
   "id": "83fb0e5e",
   "metadata": {},
   "outputs": [
    {
     "data": {
      "text/plain": [
       "<matplotlib.collections.PathCollection at 0x1fec5c14310>"
      ]
     },
     "execution_count": 92,
     "metadata": {},
     "output_type": "execute_result"
    },
    {
     "data": {
      "image/png": "[encoded data removed]",
      "text/plain": [
       "<Figure size 432x288 with 1 Axes>"
      ]
     },
     "metadata": {
      "needs_background": "light"
     },
     "output_type": "display_data"
    }
   ],
   "source": [
    "# visualizing with scatter plot\n",
    "plt.scatter(x=citytemp_df[\"cooldd\"],\n",
    "                        y = citytemp_df[\"tempjan\"])"
   ]
  },
  {
   "cell_type": "markdown",
   "id": "b9b8781b",
   "metadata": {},
   "source": [
    "#### Correlation and causation"
   ]
  },
  {
   "cell_type": "markdown",
   "id": "3d85eb95",
   "metadata": {},
   "source": [
    "Correlation must not be confused with causality. The famous expression “correlation does not mean causation” is crucial to the understanding of the two statistical concepts.\n",
    "\n",
    "If two variables are correlated, it does not imply that one variable causes the changes in another variable. Correlation only assesses relationships between variables, and there may be different factors that lead to the relationships. Causation may be a reason for the correlation, but it is not the only possible explanation"
   ]
  },
  {
   "cell_type": "markdown",
   "id": "2d273f03",
   "metadata": {},
   "source": [
    "#### Regression"
   ]
  },
  {
   "cell_type": "markdown",
   "id": "4d9d8b62",
   "metadata": {},
   "source": [
    "Regression is a method to determine the statistical relationship between a dependent variable and one or more independent variables. Linear regression is used to test the relationship between independent variable(s) and a continous dependent variable. For example, you can observe several __employees__ of some company and try to understand how their salaries depend on the __features__, such as experience, level of education, role, city they work in, and so on. This can be broadly classified into linear regression and logistic regression."
   ]
  },
  {
   "cell_type": "markdown",
   "id": "e6c70037",
   "metadata": {},
   "source": [
    "The __coefficient of determination, denoted as 𝑅²__, tells you which amount of variation in 𝑦 can be explained by the dependence on 𝐱 using the particular regression model. Larger 𝑅² indicates a better fit and means that the model can better explain the variation of the output with different inputs."
   ]
  },
  {
   "cell_type": "code",
   "execution_count": 10,
   "id": "939697d0",
   "metadata": {},
   "outputs": [
    {
     "name": "stdout",
     "output_type": "stream",
     "text": [
      "<class 'pandas.core.frame.DataFrame'>\n",
      "Int64Index: 74 entries, 0 to 73\n",
      "Data columns (total 12 columns):\n",
      " #   Column        Non-Null Count  Dtype   \n",
      "---  ------        --------------  -----   \n",
      " 0   make          74 non-null     object  \n",
      " 1   price         74 non-null     int16   \n",
      " 2   mpg           74 non-null     int16   \n",
      " 3   rep78         69 non-null     float64 \n",
      " 4   headroom      74 non-null     float32 \n",
      " 5   trunk         74 non-null     int16   \n",
      " 6   weight        74 non-null     int16   \n",
      " 7   length        74 non-null     int16   \n",
      " 8   turn          74 non-null     int16   \n",
      " 9   displacement  74 non-null     int16   \n",
      " 10  gear_ratio    74 non-null     float32 \n",
      " 11  foreign       74 non-null     category\n",
      "dtypes: category(1), float32(2), float64(1), int16(7), object(1)\n",
      "memory usage: 3.5+ KB\n"
     ]
    }
   ],
   "source": [
    "# Research question: does weight and brand nationality (domestic or foreign) significantly effect mile per galloon?\n",
    "# let's fetch the data\n",
    "auto_df = sm.datasets.webuse('auto')\n",
    "auto_df.info()"
   ]
  },
  {
   "cell_type": "code",
   "execution_count": 11,
   "id": "6ebb0dd0",
   "metadata": {},
   "outputs": [
    {
     "data": {
      "text/html": [
       "<div>\n",
       "<style scoped>\n",
       "    .dataframe tbody tr th:only-of-type {\n",
       "        vertical-align: middle;\n",
       "    }\n",
       "\n",
       "    .dataframe tbody tr th {\n",
       "        vertical-align: top;\n",
       "    }\n",
       "\n",
       "    .dataframe thead th {\n",
       "        text-align: right;\n",
       "    }\n",
       "</style>\n",
       "<table border=\"1\" class=\"dataframe\">\n",
       "  <thead>\n",
       "    <tr style=\"text-align: right;\">\n",
       "      <th></th>\n",
       "      <th>make</th>\n",
       "      <th>price</th>\n",
       "      <th>mpg</th>\n",
       "      <th>rep78</th>\n",
       "      <th>headroom</th>\n",
       "      <th>trunk</th>\n",
       "      <th>weight</th>\n",
       "      <th>length</th>\n",
       "      <th>turn</th>\n",
       "      <th>displacement</th>\n",
       "      <th>gear_ratio</th>\n",
       "      <th>foreign</th>\n",
       "    </tr>\n",
       "  </thead>\n",
       "  <tbody>\n",
       "    <tr>\n",
       "      <th>0</th>\n",
       "      <td>AMC Concord</td>\n",
       "      <td>4099</td>\n",
       "      <td>22</td>\n",
       "      <td>3.0</td>\n",
       "      <td>2.5</td>\n",
       "      <td>11</td>\n",
       "      <td>2930</td>\n",
       "      <td>186</td>\n",
       "      <td>40</td>\n",
       "      <td>121</td>\n",
       "      <td>3.58</td>\n",
       "      <td>Domestic</td>\n",
       "    </tr>\n",
       "    <tr>\n",
       "      <th>1</th>\n",
       "      <td>AMC Pacer</td>\n",
       "      <td>4749</td>\n",
       "      <td>17</td>\n",
       "      <td>3.0</td>\n",
       "      <td>3.0</td>\n",
       "      <td>11</td>\n",
       "      <td>3350</td>\n",
       "      <td>173</td>\n",
       "      <td>40</td>\n",
       "      <td>258</td>\n",
       "      <td>2.53</td>\n",
       "      <td>Domestic</td>\n",
       "    </tr>\n",
       "    <tr>\n",
       "      <th>2</th>\n",
       "      <td>AMC Spirit</td>\n",
       "      <td>3799</td>\n",
       "      <td>22</td>\n",
       "      <td>NaN</td>\n",
       "      <td>3.0</td>\n",
       "      <td>12</td>\n",
       "      <td>2640</td>\n",
       "      <td>168</td>\n",
       "      <td>35</td>\n",
       "      <td>121</td>\n",
       "      <td>3.08</td>\n",
       "      <td>Domestic</td>\n",
       "    </tr>\n",
       "    <tr>\n",
       "      <th>3</th>\n",
       "      <td>Buick Century</td>\n",
       "      <td>4816</td>\n",
       "      <td>20</td>\n",
       "      <td>3.0</td>\n",
       "      <td>4.5</td>\n",
       "      <td>16</td>\n",
       "      <td>3250</td>\n",
       "      <td>196</td>\n",
       "      <td>40</td>\n",
       "      <td>196</td>\n",
       "      <td>2.93</td>\n",
       "      <td>Domestic</td>\n",
       "    </tr>\n",
       "    <tr>\n",
       "      <th>4</th>\n",
       "      <td>Buick Electra</td>\n",
       "      <td>7827</td>\n",
       "      <td>15</td>\n",
       "      <td>4.0</td>\n",
       "      <td>4.0</td>\n",
       "      <td>20</td>\n",
       "      <td>4080</td>\n",
       "      <td>222</td>\n",
       "      <td>43</td>\n",
       "      <td>350</td>\n",
       "      <td>2.41</td>\n",
       "      <td>Domestic</td>\n",
       "    </tr>\n",
       "  </tbody>\n",
       "</table>\n",
       "</div>"
      ],
      "text/plain": [
       "            make  price  mpg  rep78  headroom  trunk  weight  length  turn  \\\n",
       "0    AMC Concord   4099   22    3.0       2.5     11    2930     186    40   \n",
       "1      AMC Pacer   4749   17    3.0       3.0     11    3350     173    40   \n",
       "2     AMC Spirit   3799   22    NaN       3.0     12    2640     168    35   \n",
       "3  Buick Century   4816   20    3.0       4.5     16    3250     196    40   \n",
       "4  Buick Electra   7827   15    4.0       4.0     20    4080     222    43   \n",
       "\n",
       "   displacement  gear_ratio   foreign  \n",
       "0           121        3.58  Domestic  \n",
       "1           258        2.53  Domestic  \n",
       "2           121        3.08  Domestic  \n",
       "3           196        2.93  Domestic  \n",
       "4           350        2.41  Domestic  "
      ]
     },
     "execution_count": 11,
     "metadata": {},
     "output_type": "execute_result"
    }
   ],
   "source": [
    "auto_df.head()"
   ]
  },
  {
   "cell_type": "code",
   "execution_count": 12,
   "id": "2ff7794b",
   "metadata": {},
   "outputs": [
    {
     "data": {
      "text/plain": [
       "['Domestic', 'Foreign']\n",
       "Categories (2, object): ['Domestic' < 'Foreign']"
      ]
     },
     "execution_count": 12,
     "metadata": {},
     "output_type": "execute_result"
    }
   ],
   "source": [
    "auto_df[\"foreign\"].unique()"
   ]
  },
  {
   "cell_type": "markdown",
   "id": "f4d98e83",
   "metadata": {},
   "source": [
    "statsmodel uses patsy for parsing formula and the syntax looks like this:\n",
    "\n",
    "`smf.ols(\"dependent_variable ~ independent_variable1 + independent_variable2 + independent_variablen\",data = df).fit()`\n",
    "\n",
    "Read more about patsy here https://medium.com/@mummertm/using-patsy-for-statistical-modeling-189a9d9f5d27"
   ]
  },
  {
   "cell_type": "code",
   "execution_count": 95,
   "id": "1ce9dbed",
   "metadata": {},
   "outputs": [
    {
     "name": "stdout",
     "output_type": "stream",
     "text": [
      "                            OLS Regression Results                            \n",
      "==============================================================================\n",
      "Dep. Variable:                    mpg   R-squared:                       0.663\n",
      "Model:                            OLS   Adj. R-squared:                  0.653\n",
      "Method:                 Least Squares   F-statistic:                     69.75\n",
      "Date:                Sun, 30 Jan 2022   Prob (F-statistic):           1.76e-17\n",
      "Time:                        12:38:59   Log-Likelihood:                -194.18\n",
      "No. Observations:                  74   AIC:                             394.4\n",
      "Df Residuals:                      71   BIC:                             401.3\n",
      "Df Model:                           2                                         \n",
      "Covariance Type:            nonrobust                                         \n",
      "=========================================================================================\n",
      "                            coef    std err          t      P>|t|      [0.025      0.975]\n",
      "-----------------------------------------------------------------------------------------\n",
      "Intercept                41.6797      2.166     19.247      0.000      37.362      45.998\n",
      "C(foreign)[T.Foreign]    -1.6500      1.076     -1.533      0.130      -3.796       0.495\n",
      "weight                   -0.0066      0.001    -10.340      0.000      -0.008      -0.005\n",
      "==============================================================================\n",
      "Omnibus:                       37.830   Durbin-Watson:                   2.421\n",
      "Prob(Omnibus):                  0.000   Jarque-Bera (JB):               92.107\n",
      "Skew:                           1.727   Prob(JB):                     9.98e-21\n",
      "Kurtosis:                       7.236   Cond. No.                     1.81e+04\n",
      "==============================================================================\n",
      "\n",
      "Notes:\n",
      "[1] Standard Errors assume that the covariance matrix of the errors is correctly specified.\n",
      "[2] The condition number is large, 1.81e+04. This might indicate that there are\n",
      "strong multicollinearity or other numerical problems.\n"
     ]
    }
   ],
   "source": [
    "import statsmodels.formula.api as smf\n",
    "# modelling\n",
    "model = smf.ols(\"mpg ~ weight + C(foreign)\", data=auto_df).fit()  # C is used to indicate that the variable is categorical\n",
    "print(model.summary())"
   ]
  },
  {
   "cell_type": "code",
   "execution_count": null,
   "id": "b7cd1085",
   "metadata": {},
   "outputs": [],
   "source": []
  }
 ],
 "metadata": {
  "kernelspec": {
   "display_name": "Python 3 (ipykernel)",
   "language": "python",
   "name": "python3"
  },
  "language_info": {
   "codemirror_mode": {
    "name": "ipython",
    "version": 3
   },
   "file_extension": ".py",
   "mimetype": "text/x-python",
   "name": "python",
   "nbconvert_exporter": "python",
   "pygments_lexer": "ipython3",
   "version": "3.10.9"
  }
 },
 "nbformat": 4,
 "nbformat_minor": 5
}
